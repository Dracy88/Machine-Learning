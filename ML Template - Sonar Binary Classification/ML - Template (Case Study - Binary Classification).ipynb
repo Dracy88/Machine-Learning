{
 "cells": [
  {
   "cell_type": "markdown",
   "metadata": {},
   "source": [
    "<h1>Template Summary</h1>\n",
    "<p>Any predictive modeling machine learning project can be broken down into six common tasks:</p>\n",
    "<ol>\n",
    "    <li>Define Problem:</li>\n",
    "    <ol type=\"i\">\n",
    "        <li>Load Library: modules, classes and functions that we intend to use</li>\n",
    "        <li>Load Dataset: entirely or partially such as we can prototype fast</li>\n",
    "    </ol>\n",
    "    <li>Summarize Data: understand the data that we have available</li>\n",
    "    <ol type=\"i\">\n",
    "        <li>Descriptive Statistics: summaries of our data</li>\n",
    "        <li>Data Visualization: use the results to prompt a lot of questions</li>\n",
    "    </ol>\n",
    "    <li>Prepare Data: best exposes the structure of the problem and the relationships between your input attributes with the output variable</li>\n",
    "    <ol type=\"i\">\n",
    "        <li>Data Cleaning: removing duplicates, marking missing values, ...</li>\n",
    "        <li>Feature Selection: remove redundant features and eventually develop new features</li>\n",
    "        <li>Data Transform: attributes are scaled in order to best expose better the structure of the problem</li>\n",
    "    </ol>\n",
    "    <li>Evaluate Algorithms: find a subset of machine learning algorithms that are good at exploiting the structure of our data</li>\n",
    "    <ol type=\"i\">\n",
    "        <li>Split-out Validation Dataset: use it later to confirm the skill of our developed model</li>\n",
    "        <li>Test Options and Evaluation Metrics (e.g. cross validation and the evaluation metric to use)</li>\n",
    "        <li>Spot-check Algorithms: try various lineare / non linear ML Algorithms</li>\n",
    "        <li>Compare Algorithms</li>\n",
    "    </ol>\n",
    "    <li>Improve Results: get the most out of the best algorithms selected</li>\n",
    "    <ol type=\"i\">\n",
    "        <li>Algorithm Tuning: search for a combination of parameters</li>\n",
    "        <li>Ensembles: try to ensamble 3 or more best algorithms to enhance performance</li>\n",
    "    </ol>\n",
    "    <li>Finalize Model:</li>\n",
    "    <ol type=\"i\">\n",
    "        <li>Predictions on Validation Dataset: measure performance on unseen data</li>\n",
    "        <li>Create a Standalone Model on Entire Dataset</li>\n",
    "        <li>Save the Model</li>\n",
    "    </ol>\n",
    "</ol>"
   ]
  },
  {
   "cell_type": "markdown",
   "metadata": {},
   "source": [
    "Hints:\n",
    "<ul>\n",
    "    <li>Cycles: The process in not linear but cyclic, looping between steps between steps 3-4-5 until you achieve a level of accuracy that is sufficient or you run out of time</li>\n",
    "    <li>Try and do something at each step in the process, even if it does not improve accuracy</li>\n",
    "    <li>Ratchet Accuracy: Treat changes that you make as experiments that increase accuracy and reorganize other steps around them.\n",
    "  <li>Adapt As Needed: Modify the steps as you need on a project, especially as you become more experienced with the template</li>"
   ]
  },
  {
   "cell_type": "markdown",
   "metadata": {},
   "source": [
    "<h1>Example Project</h1>"
   ]
  },
  {
   "cell_type": "markdown",
   "metadata": {},
   "source": [
    "<h2>1 - Define the Problem</h2>\n",
    "<p>The focus of this project will be the Sonar Mines vs Rocks dataset. The problem is to predict metal or rock objects from sonar return data. Each pattern is a set of 60 numbers in the range 0.0 to 1.0. Each number represents the energy within a particular frequency band, integrated over a certain period of time. The label associated with each record contains the letter R if the object is a rock and M if it is a mine (metal cylinder). The numbers in the labels are in increasing order of aspect angle, but they do not encode the angle directly.</p>"
   ]
  },
  {
   "cell_type": "markdown",
   "metadata": {},
   "source": [
    "<h3>1.1 - Load Library</h3>"
   ]
  },
  {
   "cell_type": "code",
   "execution_count": 27,
   "metadata": {},
   "outputs": [],
   "source": [
    "# Load libraries\n",
    "import numpy\n",
    "from matplotlib import pyplot\n",
    "from pandas import read_csv\n",
    "from pandas import set_option\n",
    "from pandas.tools.plotting import scatter_matrix\n",
    "from sklearn.preprocessing import StandardScaler\n",
    "from sklearn.model_selection import train_test_split\n",
    "from sklearn.model_selection import KFold\n",
    "from sklearn.model_selection import cross_val_score\n",
    "from sklearn.model_selection import GridSearchCV\n",
    "from sklearn.metrics import classification_report\n",
    "from sklearn.metrics import confusion_matrix\n",
    "from sklearn.metrics import accuracy_score\n",
    "from sklearn.pipeline import Pipeline\n",
    "from sklearn.linear_model import LogisticRegression\n",
    "from sklearn.tree import DecisionTreeClassifier\n",
    "from sklearn.neighbors import KNeighborsClassifier\n",
    "from sklearn.discriminant_analysis import LinearDiscriminantAnalysis\n",
    "from sklearn.naive_bayes import GaussianNB\n",
    "from sklearn.svm import SVC\n",
    "from sklearn.ensemble import AdaBoostClassifier\n",
    "from sklearn.ensemble import GradientBoostingClassifier\n",
    "from sklearn.ensemble import RandomForestClassifier\n",
    "from sklearn.ensemble import ExtraTreesClassifier"
   ]
  },
  {
   "cell_type": "markdown",
   "metadata": {},
   "source": [
    "<h3>1.2 - Load Dataset</h3>"
   ]
  },
  {
   "cell_type": "code",
   "execution_count": 28,
   "metadata": {},
   "outputs": [],
   "source": [
    "# Load dataset\n",
    "url = 'dataset/sonar.all-data.csv'\n",
    "dataset = read_csv(url, header=None)"
   ]
  },
  {
   "cell_type": "markdown",
   "metadata": {},
   "source": [
    "<h2>2 - Summarizing Data</h2>"
   ]
  },
  {
   "cell_type": "code",
   "execution_count": 29,
   "metadata": {},
   "outputs": [
    {
     "name": "stdout",
     "output_type": "stream",
     "text": [
      "# Instaces:  208\n",
      "# Feature:  61\n"
     ]
    }
   ],
   "source": [
    "# shape\n",
    "print(\"# Instaces: \", dataset.shape[0])\n",
    "print(\"# Feature: \", dataset.shape[1])"
   ]
  },
  {
   "cell_type": "code",
   "execution_count": 30,
   "metadata": {},
   "outputs": [
    {
     "name": "stdout",
     "output_type": "stream",
     "text": [
      "      0      1      2      3      4      5      6      7   \\\n",
      "0  0.020  0.037  0.043  0.021  0.095  0.099  0.154  0.160   \n",
      "1  0.045  0.052  0.084  0.069  0.118  0.258  0.216  0.348   \n",
      "2  0.026  0.058  0.110  0.108  0.097  0.228  0.243  0.377   \n",
      "3  0.010  0.017  0.062  0.021  0.021  0.037  0.110  0.128   \n",
      "4  0.076  0.067  0.048  0.039  0.059  0.065  0.121  0.247   \n",
      "\n",
      "      8      9  ...     51     52     53     54     55  \\\n",
      "0  0.311  0.211 ...  0.003  0.006  0.016  0.007  0.017   \n",
      "1  0.334  0.287 ...  0.008  0.009  0.005  0.009  0.019   \n",
      "2  0.560  0.619 ...  0.023  0.017  0.009  0.018  0.024   \n",
      "3  0.060  0.126 ...  0.012  0.004  0.015  0.009  0.007   \n",
      "4  0.356  0.446 ...  0.003  0.005  0.011  0.011  0.002   \n",
      "\n",
      "      56     57     58     59  60  \n",
      "0  0.018  0.008  0.009  0.003   R  \n",
      "1  0.014  0.005  0.005  0.004   R  \n",
      "2  0.032  0.016  0.009  0.008   R  \n",
      "3  0.005  0.004  0.004  0.012   R  \n",
      "4  0.007  0.005  0.011  0.009   R  \n",
      "\n",
      "[5 rows x 61 columns]\n"
     ]
    }
   ],
   "source": [
    "# check if the dataset is loaded correctly\n",
    "set_option('display.width', dataset.shape[1])\n",
    "print(dataset.head(5))"
   ]
  },
  {
   "cell_type": "markdown",
   "metadata": {},
   "source": [
    "<h3>2.1 - Descriptive Statistics</h3>"
   ]
  },
  {
   "cell_type": "code",
   "execution_count": 31,
   "metadata": {},
   "outputs": [
    {
     "name": "stdout",
     "output_type": "stream",
     "text": [
      "            0          1        2        3        4   \\\n",
      "count  208.000  2.080e+02  208.000  208.000  208.000   \n",
      "mean     0.029  3.844e-02    0.044    0.054    0.075   \n",
      "std      0.023  3.296e-02    0.038    0.047    0.056   \n",
      "min      0.002  6.000e-04    0.002    0.006    0.007   \n",
      "25%      0.013  1.645e-02    0.019    0.024    0.038   \n",
      "50%      0.023  3.080e-02    0.034    0.044    0.062   \n",
      "75%      0.036  4.795e-02    0.058    0.065    0.100   \n",
      "max      0.137  2.339e-01    0.306    0.426    0.401   \n",
      "\n",
      "            5        6        7        8        9   \\\n",
      "count  208.000  208.000  208.000  208.000  208.000   \n",
      "mean     0.105    0.122    0.135    0.178    0.208   \n",
      "std      0.059    0.062    0.085    0.118    0.134   \n",
      "min      0.010    0.003    0.005    0.007    0.011   \n",
      "25%      0.067    0.081    0.080    0.097    0.111   \n",
      "50%      0.092    0.107    0.112    0.152    0.182   \n",
      "75%      0.134    0.154    0.170    0.233    0.269   \n",
      "max      0.382    0.373    0.459    0.683    0.711   \n",
      "\n",
      "         ...           50         51         52       53  \\\n",
      "count    ...      208.000  2.080e+02  2.080e+02  208.000   \n",
      "mean     ...        0.016  1.342e-02  1.071e-02    0.011   \n",
      "std      ...        0.012  9.634e-03  7.060e-03    0.007   \n",
      "min      ...        0.000  8.000e-04  5.000e-04    0.001   \n",
      "25%      ...        0.008  7.275e-03  5.075e-03    0.005   \n",
      "50%      ...        0.014  1.140e-02  9.550e-03    0.009   \n",
      "75%      ...        0.021  1.673e-02  1.490e-02    0.015   \n",
      "max      ...        0.100  7.090e-02  3.900e-02    0.035   \n",
      "\n",
      "              54         55         56         57  \\\n",
      "count  2.080e+02  2.080e+02  2.080e+02  2.080e+02   \n",
      "mean   9.290e-03  8.222e-03  7.820e-03  7.949e-03   \n",
      "std    7.088e-03  5.736e-03  5.785e-03  6.470e-03   \n",
      "min    6.000e-04  4.000e-04  3.000e-04  3.000e-04   \n",
      "25%    4.150e-03  4.400e-03  3.700e-03  3.600e-03   \n",
      "50%    7.500e-03  6.850e-03  5.950e-03  5.800e-03   \n",
      "75%    1.210e-02  1.058e-02  1.043e-02  1.035e-02   \n",
      "max    4.470e-02  3.940e-02  3.550e-02  4.400e-02   \n",
      "\n",
      "              58         59  \n",
      "count  2.080e+02  2.080e+02  \n",
      "mean   7.941e-03  6.507e-03  \n",
      "std    6.181e-03  5.031e-03  \n",
      "min    1.000e-04  6.000e-04  \n",
      "25%    3.675e-03  3.100e-03  \n",
      "50%    6.400e-03  5.300e-03  \n",
      "75%    1.033e-02  8.525e-03  \n",
      "max    3.640e-02  4.390e-02  \n",
      "\n",
      "[8 rows x 60 columns]\n"
     ]
    }
   ],
   "source": [
    "# descriptions\n",
    "set_option('precision', 3)\n",
    "print(dataset.describe())"
   ]
  },
  {
   "cell_type": "code",
   "execution_count": 32,
   "metadata": {},
   "outputs": [
    {
     "name": "stdout",
     "output_type": "stream",
     "text": [
      "Class count:\n",
      " 60\n",
      "M    111\n",
      "R     97\n",
      "dtype: int64\n",
      "\n",
      "Class distribution:\n",
      " 60\n",
      "M    0.534\n",
      "R    0.466\n",
      "dtype: float64\n"
     ]
    }
   ],
   "source": [
    "# class distribution\n",
    "print(\"Class count:\\n\", dataset.groupby(60).size())\n",
    "print(\"\\nClass distribution:\\n\", (dataset.groupby(60).size() / dataset.shape[0]))"
   ]
  },
  {
   "cell_type": "markdown",
   "metadata": {},
   "source": [
    "<h3>2.2 - Data Visualization</h3>"
   ]
  },
  {
   "cell_type": "code",
   "execution_count": 34,
   "metadata": {},
   "outputs": [
    {
     "data": {
      "image/png": "[encoded data removed]",
      "text/plain": [
       "<Figure size 432x288 with 64 Axes>"
      ]
     },
     "metadata": {},
     "output_type": "display_data"
    }
   ],
   "source": [
    "# density\n",
    "dataset.plot(kind='density', subplots=True, layout=(8,8), sharex=False, legend=False, fontsize=1)\n",
    "pyplot.show()"
   ]
  },
  {
   "cell_type": "markdown",
   "metadata": {},
   "source": [
    "<p>This is useful, you can see that many of the attributes have a skewed distribution. A power transform like a Box-Cox transform that can correct for the skew in distributions might be useful.</p>"
   ]
  },
  {
   "cell_type": "code",
   "execution_count": 35,
   "metadata": {},
   "outputs": [
    {
     "data": {
      "image/png": "[encoded data removed]",
      "text/plain": [
       "<Figure size 432x288 with 64 Axes>"
      ]
     },
     "metadata": {},
     "output_type": "display_data"
    }
   ],
   "source": [
    "# histograms\n",
    "dataset.hist(sharex=False, sharey=False, xlabelsize=1, ylabelsize=1)\n",
    "pyplot.show()"
   ]
  },
  {
   "cell_type": "code",
   "execution_count": 37,
   "metadata": {},
   "outputs": [
    {
     "data": {
      "image/png": "[encoded data removed]",
      "text/plain": [
       "<Figure size 432x288 with 2 Axes>"
      ]
     },
     "metadata": {},
     "output_type": "display_data"
    }
   ],
   "source": [
    "# Let's see the correlation between attributes\n",
    "fig = pyplot.figure()\n",
    "ax = fig.add_subplot(111)\n",
    "cax = ax.matshow(dataset.corr(), vmin=-1, vmax=1, interpolation='none')\n",
    "fig.colorbar(cax)\n",
    "pyplot.show()"
   ]
  },
  {
   "cell_type": "markdown",
   "metadata": {},
   "source": [
    "<p>It looks like there is also some structure in the order of the attributes. The red around the diagonal suggests that attributes that are next to each other are generally more correlated with each other. The blue patches also suggest some moderate negative correlation the further attributes are away from each other in the ordering. This makes sense if the order of the attributes refers to the angle of sensors for the sonar chirp.</p>"
   ]
  },
  {
   "cell_type": "markdown",
   "metadata": {},
   "source": [
    "<h2>3 - Prepare Data</h2>"
   ]
  },
  {
   "cell_type": "markdown",
   "metadata": {},
   "source": [
    "<h3>3.3 - Standardize Data</h3>"
   ]
  },
  {
   "cell_type": "markdown",
   "metadata": {},
   "source": [
    "In 4.3b we will apply a standardization"
   ]
  },
  {
   "cell_type": "markdown",
   "metadata": {},
   "source": [
    "<h2>4 - Evaluate Algorithms</h2>"
   ]
  },
  {
   "cell_type": "markdown",
   "metadata": {},
   "source": [
    "<h3>4.1 - Split-out Dataset</h3>"
   ]
  },
  {
   "cell_type": "code",
   "execution_count": 42,
   "metadata": {},
   "outputs": [],
   "source": [
    "# Split-out validation dataset\n",
    "array = dataset.values\n",
    "X = array[:,0:60].astype(float)\n",
    "Y = array[:,60]\n",
    "validation_size = 0.20\n",
    "seed = 7\n",
    "X_train, X_validation, Y_train, Y_validation = train_test_split(X, Y,\n",
    "    test_size=validation_size, random_state=seed)"
   ]
  },
  {
   "cell_type": "markdown",
   "metadata": {},
   "source": [
    "<h3>4.2 - Test Options and Evaluation Metrics</h3>\n",
    "<p>Test option: 10-fold cross validation<br>\n",
    "Metrics: accuracy to evaluate models</p>"
   ]
  },
  {
   "cell_type": "markdown",
   "metadata": {},
   "source": [
    "<h3>4.3 - Spot-check Algorithms</h3>\n",
    "<p>Based on what we saw on <i>2.2</i> we get an idea from the plots that some of the classes are partially linearly separable in some dimensions, so we are expecting generally good results.</p>\n",
    "<p>Let’s evaluate six different algorithms:</p>\n",
    "<ul>\n",
    "    <li>Logistic Regression (LR)</li>\n",
    "    <li>Linear Discriminant Analysis (LDA)</li>\n",
    "    <li>k-Nearest Neighbors (KNN)</li>\n",
    "    <li>Classification and Regression Trees (CART)</li>\n",
    "    <li>Gaussian Naive Bayes (NB)</li>\n",
    "    <li>Support Vector Machines (SVM)</li>\n",
    "<p>This list is a good mixture of simple linear (LR and LDA), nonlinear (KNN, CART, NB and SVM) algorithms. We reset the random number seed before each run to ensure that the evaluation of each algorithm is performed using exactly the same data splits. It ensures the results are directly comparable.</p>"
   ]
  },
  {
   "cell_type": "code",
   "execution_count": 51,
   "metadata": {},
   "outputs": [
    {
     "name": "stdout",
     "output_type": "stream",
     "text": [
      "name: LR mean accuracy(%): 78.272 std accuracy(%): 9.38\n",
      "name: LDA mean accuracy(%): 74.632 std accuracy(%): 11.785\n",
      "name: KNN mean accuracy(%): 80.809 std accuracy(%): 6.751\n",
      "name: CART mean accuracy(%): 74.743 std accuracy(%): 8.677\n",
      "name: NB mean accuracy(%): 64.89 std accuracy(%): 14.187\n",
      "name: SVM mean accuracy(%): 60.882 std accuracy(%): 11.866\n"
     ]
    }
   ],
   "source": [
    "# Spot-Check Algorithms\n",
    "models = []\n",
    "models.append(('LR', LogisticRegression()))\n",
    "models.append(('LDA', LinearDiscriminantAnalysis()))\n",
    "models.append(('KNN', KNeighborsClassifier()))\n",
    "models.append(('CART', DecisionTreeClassifier()))\n",
    "models.append(('NB', GaussianNB()))\n",
    "models.append(('SVM', SVC()))\n",
    "\n",
    "# Test options and evaluation metric\n",
    "num_folds = 10\n",
    "seed = 7\n",
    "scoring = 'accuracy'\n",
    "\n",
    "# evaluate each model in turn\n",
    "results = []\n",
    "names = []\n",
    "for name, model in models:\n",
    "    kfold = KFold(n_splits=10, random_state=seed)\n",
    "    cv_results = cross_val_score(model, X_train, Y_train, cv=kfold, scoring=scoring)\n",
    "    results.append(cv_results)\n",
    "    names.append(name)\n",
    "    print(\"name:\", name, \"mean accuracy(%):\", round(cv_results.mean() * 100, 3), \n",
    "          \"std accuracy(%):\", round(cv_results.std() * 100, 3))\n"
   ]
  },
  {
   "cell_type": "markdown",
   "metadata": {},
   "source": [
    "<h3>4.4 - Compare algorithms</h3>"
   ]
  },
  {
   "cell_type": "code",
   "execution_count": 49,
   "metadata": {},
   "outputs": [
    {
     "data": {
      "image/png": "[encoded data removed]",
      "text/plain": [
       "<Figure size 432x288 with 1 Axes>"
      ]
     },
     "metadata": {},
     "output_type": "display_data"
    }
   ],
   "source": [
    "# Compare Algorithms\n",
    "fig = pyplot.figure()\n",
    "fig.suptitle('Algorithm Comparison')\n",
    "ax = fig.add_subplot(111)\n",
    "pyplot.boxplot(results)\n",
    "ax.set_xticklabels(names)\n",
    "pyplot.show()"
   ]
  },
  {
   "cell_type": "markdown",
   "metadata": {},
   "source": [
    "<p>The results show a tight distribution for KNN which is encouraging, suggesting low variance.<br>The poor results for SVM are surprising.</p>\n",
    "\n",
    "<p>It is possible that the varied distribution of the attributes is having an effect on the accuracy of algorithms such as SVM. Now we will try with a standardized copy of the training dataset.</p>"
   ]
  },
  {
   "cell_type": "code",
   "execution_count": 53,
   "metadata": {},
   "outputs": [
    {
     "name": "stdout",
     "output_type": "stream",
     "text": [
      "Accuracy on dev set: 0.7380952380952381\n",
      "\n",
      "Classification Report:\n",
      "              precision    recall  f1-score   support\n",
      "\n",
      "          M       0.83      0.74      0.78        27\n",
      "          R       0.61      0.73      0.67        15\n",
      "\n",
      "avg / total       0.75      0.74      0.74        42\n",
      "\n"
     ]
    }
   ],
   "source": [
    "model = KNeighborsClassifier()\n",
    "model.fit(X_train, Y_train)\n",
    "predictions = model.predict(X_validation)\n",
    "print(\"Accuracy on dev set:\", accuracy_score(Y_validation, predictions))\n",
    "print(\"\\nClassification Report:\\n\", classification_report(Y_validation, predictions))"
   ]
  },
  {
   "cell_type": "code",
   "execution_count": 54,
   "metadata": {},
   "outputs": [
    {
     "name": "stdout",
     "output_type": "stream",
     "text": [
      "name: ScaledLR mean accuracy(%): 73.419 std accuracy(%): 9.589\n",
      "name: ScaledLDA mean accuracy(%): 74.632 std accuracy(%): 11.785\n",
      "name: ScaledKNN mean accuracy(%): 82.574 std accuracy(%): 5.451\n",
      "name: ScaledCART mean accuracy(%): 74.706 std accuracy(%): 11.378\n",
      "name: ScaledNB mean accuracy(%): 64.89 std accuracy(%): 14.187\n",
      "name: ScaledSVM mean accuracy(%): 83.64 std accuracy(%): 8.87\n"
     ]
    }
   ],
   "source": [
    "# Standardize the dataset\n",
    "pipelines = []\n",
    "pipelines.append(('ScaledLR', Pipeline([('Scaler', StandardScaler()),('LR', LogisticRegression())])))\n",
    "pipelines.append(('ScaledLDA', Pipeline([('Scaler', StandardScaler()),('LDA', LinearDiscriminantAnalysis())])))\n",
    "pipelines.append(('ScaledKNN', Pipeline([('Scaler', StandardScaler()),('KNN', KNeighborsClassifier())])))\n",
    "pipelines.append(('ScaledCART', Pipeline([('Scaler', StandardScaler()),('CART', DecisionTreeClassifier())])))\n",
    "pipelines.append(('ScaledNB', Pipeline([('Scaler', StandardScaler()),('NB', GaussianNB())])))\n",
    "pipelines.append(('ScaledSVM', Pipeline([('Scaler', StandardScaler()),('SVM', SVC())])))\n",
    "\n",
    "# Test options and evaluation metric\n",
    "num_folds = 10\n",
    "seed = 7\n",
    "scoring = 'accuracy'\n",
    "\n",
    "# evaluate each model in turn\n",
    "results = []\n",
    "names = []\n",
    "for name, model in pipelines:\n",
    "    kfold = KFold(n_splits=num_folds, random_state=seed)\n",
    "    cv_results = cross_val_score(model, X_train, Y_train, cv=kfold, scoring=scoring)\n",
    "    results.append(cv_results)\n",
    "    names.append(name)\n",
    "    print(\"name:\", name, \"mean accuracy(%):\", round(cv_results.mean() * 100, 3), \n",
    "          \"std accuracy(%):\", round(cv_results.std() * 100, 3))"
   ]
  },
  {
   "cell_type": "markdown",
   "metadata": {},
   "source": [
    "<p>The results suggest digging deeper into the SVM and KNN algorithms. It is very likely that configuration beyond the default may yield even more accurate models.</p>"
   ]
  },
  {
   "cell_type": "markdown",
   "metadata": {},
   "source": [
    "<h2>5 - Improving Results</h2>"
   ]
  },
  {
   "cell_type": "markdown",
   "metadata": {},
   "source": [
    "<h3>5.1 - Algorithm Tuning</h3>\n",
    "<p>We investigate tuning the parameters for two algorithms that show promise from the spot-checking previously: KNN and SVM.</p>\n"
   ]
  },
  {
   "cell_type": "markdown",
   "metadata": {},
   "source": [
    "<h4>5.1.1 - KNN Tuning</h4>\n",
    "<p>The default number of neighbors is 7. Below we try all odd values of k from 1 to 21, covering the default value of 7. Each k value is evaluated using 10-fold cross validation on the training standardized dataset.</p>"
   ]
  },
  {
   "cell_type": "code",
   "execution_count": 58,
   "metadata": {},
   "outputs": [
    {
     "name": "stdout",
     "output_type": "stream",
     "text": [
      "Best: 0.849398 using {'n_neighbors': 1}\n",
      "mean accuracy(%): 84.94 std accuracy(%): 5.988 param: {'n_neighbors': 1}\n",
      "mean accuracy(%): 83.735 std accuracy(%): 6.63 param: {'n_neighbors': 3}\n",
      "mean accuracy(%): 83.735 std accuracy(%): 3.75 param: {'n_neighbors': 5}\n",
      "mean accuracy(%): 76.506 std accuracy(%): 8.951 param: {'n_neighbors': 7}\n",
      "mean accuracy(%): 75.301 std accuracy(%): 8.698 param: {'n_neighbors': 9}\n",
      "mean accuracy(%): 73.494 std accuracy(%): 10.489 param: {'n_neighbors': 11}\n",
      "mean accuracy(%): 73.494 std accuracy(%): 10.584 param: {'n_neighbors': 13}\n",
      "mean accuracy(%): 72.892 std accuracy(%): 7.587 param: {'n_neighbors': 15}\n",
      "mean accuracy(%): 71.084 std accuracy(%): 7.872 param: {'n_neighbors': 17}\n",
      "mean accuracy(%): 72.289 std accuracy(%): 8.456 param: {'n_neighbors': 19}\n",
      "mean accuracy(%): 71.084 std accuracy(%): 10.883 param: {'n_neighbors': 21}\n"
     ]
    }
   ],
   "source": [
    "# Tune scaled KNN\n",
    "scaler = StandardScaler().fit(X_train)\n",
    "rescaledX = scaler.transform(X_train)\n",
    "neighbors = [1,3,5,7,9,11,13,15,17,19,21]\n",
    "param_grid = dict(n_neighbors=neighbors)\n",
    "\n",
    "model = KNeighborsClassifier()\n",
    "kfold = KFold(n_splits=num_folds, random_state=seed)\n",
    "grid = GridSearchCV(estimator=model, param_grid=param_grid, scoring=scoring, cv=kfold)\n",
    "grid_result = grid.fit(rescaledX, Y_train)\n",
    "print(\"Best: %f using %s\" % (grid_result.best_score_, grid_result.best_params_))\n",
    "\n",
    "means = grid_result.cv_results_['mean_test_score']\n",
    "stds = grid_result.cv_results_['std_test_score']\n",
    "params = grid_result.cv_results_['params']\n",
    "for mean, stdev, param in zip(means, stds, params):\n",
    "    print(\"mean accuracy(%):\", round(mean * 100, 3), \n",
    "          \"std accuracy(%):\", round(stdev * 100, 3),\n",
    "          \"param:\", param)"
   ]
  },
  {
   "cell_type": "markdown",
   "metadata": {},
   "source": [
    "<h4>5.1.2 - SVM Tuning</h4>\n",
    "<p>We can tune two key parameters of the SVM algorithm:</p>\n",
    "    <li>the value of C (how much to relax the margin, default is 1.0)</li>\n",
    "    <li>the type of kernel (default is  The default the Radial Basis Function (RBF)</li>\n",
    "<p>We will perform a grid search using 10-fold cross validation with a standardized copy of the training dataset. We will try a number of simpler kernel types and C values with less bias and more bias (less than and more than 1.0 respectively).</p>"
   ]
  },
  {
   "cell_type": "code",
   "execution_count": 59,
   "metadata": {},
   "outputs": [
    {
     "name": "stdout",
     "output_type": "stream",
     "text": [
      "Best: 0.867470 using {'C': 1.5, 'kernel': 'rbf'}\n",
      "mean accuracy(%): 75.904 std accuracy(%): 9.886 param: {'C': 0.1, 'kernel': 'linear'}\n",
      "mean accuracy(%): 53.012 std accuracy(%): 11.878 param: {'C': 0.1, 'kernel': 'poly'}\n",
      "mean accuracy(%): 57.229 std accuracy(%): 13.034 param: {'C': 0.1, 'kernel': 'rbf'}\n",
      "mean accuracy(%): 70.482 std accuracy(%): 6.636 param: {'C': 0.1, 'kernel': 'sigmoid'}\n",
      "mean accuracy(%): 74.699 std accuracy(%): 10.891 param: {'C': 0.3, 'kernel': 'linear'}\n",
      "mean accuracy(%): 64.458 std accuracy(%): 13.229 param: {'C': 0.3, 'kernel': 'poly'}\n",
      "mean accuracy(%): 76.506 std accuracy(%): 9.231 param: {'C': 0.3, 'kernel': 'rbf'}\n",
      "mean accuracy(%): 73.494 std accuracy(%): 5.463 param: {'C': 0.3, 'kernel': 'sigmoid'}\n",
      "mean accuracy(%): 74.096 std accuracy(%): 8.303 param: {'C': 0.5, 'kernel': 'linear'}\n",
      "mean accuracy(%): 68.072 std accuracy(%): 9.864 param: {'C': 0.5, 'kernel': 'poly'}\n",
      "mean accuracy(%): 78.916 std accuracy(%): 6.432 param: {'C': 0.5, 'kernel': 'rbf'}\n",
      "mean accuracy(%): 74.699 std accuracy(%): 5.927 param: {'C': 0.5, 'kernel': 'sigmoid'}\n",
      "mean accuracy(%): 74.699 std accuracy(%): 8.453 param: {'C': 0.7, 'kernel': 'linear'}\n",
      "mean accuracy(%): 74.096 std accuracy(%): 12.796 param: {'C': 0.7, 'kernel': 'poly'}\n",
      "mean accuracy(%): 81.325 std accuracy(%): 8.489 param: {'C': 0.7, 'kernel': 'rbf'}\n",
      "mean accuracy(%): 75.301 std accuracy(%): 5.851 param: {'C': 0.7, 'kernel': 'sigmoid'}\n",
      "mean accuracy(%): 75.904 std accuracy(%): 9.694 param: {'C': 0.9, 'kernel': 'linear'}\n",
      "mean accuracy(%): 77.108 std accuracy(%): 10.213 param: {'C': 0.9, 'kernel': 'poly'}\n",
      "mean accuracy(%): 83.735 std accuracy(%): 8.785 param: {'C': 0.9, 'kernel': 'rbf'}\n",
      "mean accuracy(%): 75.301 std accuracy(%): 7.375 param: {'C': 0.9, 'kernel': 'sigmoid'}\n",
      "mean accuracy(%): 75.301 std accuracy(%): 9.923 param: {'C': 1.0, 'kernel': 'linear'}\n",
      "mean accuracy(%): 78.916 std accuracy(%): 10.76 param: {'C': 1.0, 'kernel': 'poly'}\n",
      "mean accuracy(%): 83.735 std accuracy(%): 8.785 param: {'C': 1.0, 'kernel': 'rbf'}\n",
      "mean accuracy(%): 75.301 std accuracy(%): 7.021 param: {'C': 1.0, 'kernel': 'sigmoid'}\n",
      "mean accuracy(%): 77.108 std accuracy(%): 10.606 param: {'C': 1.3, 'kernel': 'linear'}\n",
      "mean accuracy(%): 81.928 std accuracy(%): 10.641 param: {'C': 1.3, 'kernel': 'poly'}\n",
      "mean accuracy(%): 84.94 std accuracy(%): 7.999 param: {'C': 1.3, 'kernel': 'rbf'}\n",
      "mean accuracy(%): 71.084 std accuracy(%): 7.687 param: {'C': 1.3, 'kernel': 'sigmoid'}\n",
      "mean accuracy(%): 75.904 std accuracy(%): 9.178 param: {'C': 1.5, 'kernel': 'linear'}\n",
      "mean accuracy(%): 83.133 std accuracy(%): 10.95 param: {'C': 1.5, 'kernel': 'poly'}\n",
      "mean accuracy(%): 86.747 std accuracy(%): 9.088 param: {'C': 1.5, 'kernel': 'rbf'}\n",
      "mean accuracy(%): 74.096 std accuracy(%): 6.372 param: {'C': 1.5, 'kernel': 'sigmoid'}\n",
      "mean accuracy(%): 74.699 std accuracy(%): 9.023 param: {'C': 1.7, 'kernel': 'linear'}\n",
      "mean accuracy(%): 83.133 std accuracy(%): 11.569 param: {'C': 1.7, 'kernel': 'poly'}\n",
      "mean accuracy(%): 86.145 std accuracy(%): 8.769 param: {'C': 1.7, 'kernel': 'rbf'}\n",
      "mean accuracy(%): 71.084 std accuracy(%): 8.814 param: {'C': 1.7, 'kernel': 'sigmoid'}\n",
      "mean accuracy(%): 75.904 std accuracy(%): 9.428 param: {'C': 2.0, 'kernel': 'linear'}\n",
      "mean accuracy(%): 83.133 std accuracy(%): 10.828 param: {'C': 2.0, 'kernel': 'poly'}\n",
      "mean accuracy(%): 86.747 std accuracy(%): 9.47 param: {'C': 2.0, 'kernel': 'rbf'}\n",
      "mean accuracy(%): 72.892 std accuracy(%): 9.505 param: {'C': 2.0, 'kernel': 'sigmoid'}\n"
     ]
    }
   ],
   "source": [
    "# Tune scaled SVM\n",
    "scaler = StandardScaler().fit(X_train)\n",
    "rescaledX = scaler.transform(X_train)\n",
    "c_values = [0.1, 0.3, 0.5, 0.7, 0.9, 1.0, 1.3, 1.5, 1.7, 2.0]\n",
    "kernel_values = ['linear', 'poly', 'rbf', 'sigmoid']\n",
    "param_grid = dict(C=c_values, kernel=kernel_values)\n",
    "\n",
    "model = SVC()\n",
    "kfold = KFold(n_splits=num_folds, random_state=seed)\n",
    "grid = GridSearchCV(estimator=model, param_grid=param_grid, scoring=scoring, cv=kfold)\n",
    "grid_result = grid.fit(rescaledX, Y_train)\n",
    "print(\"Best: %f using %s\" % (grid_result.best_score_, grid_result.best_params_))\n",
    "\n",
    "means = grid_result.cv_results_['mean_test_score']\n",
    "stds = grid_result.cv_results_['std_test_score']\n",
    "params = grid_result.cv_results_['params']\n",
    "for mean, stdev, param in zip(means, stds, params):\n",
    "    print(\"mean accuracy(%):\", round(mean * 100, 3), \n",
    "          \"std accuracy(%):\", round(stdev * 100, 3),\n",
    "          \"param:\", param)"
   ]
  },
  {
   "cell_type": "markdown",
   "metadata": {},
   "source": [
    "<h3>5.2 - Ensemble Methods</h3>\n",
    "<p>We will evaluate four different ensemble machine learning algorithms:</p>\n",
    "<p>Boosting Methods:</p>\n",
    "    <li>AdaBoost (AB)</li>\n",
    "    <li>Gradient Boosting (GBM)</li>\n",
    "<p>Bagging Methods:</p>\n",
    "    <li>Random Forests (RF)</li>\n",
    "    <li>Extra Trees (ET)</li>\n",
    "\n",
    "<p>We will use the same test harness as before, 10-fold cross validation. No data standardization is used in this case because all four ensemble algorithms are based on decision trees that are less sensitive to data distributions.</p>"
   ]
  },
  {
   "cell_type": "code",
   "execution_count": 60,
   "metadata": {},
   "outputs": [
    {
     "name": "stdout",
     "output_type": "stream",
     "text": [
      "name: AB mean accuracy(%): 81.985 std accuracy(%): 5.829\n",
      "name: GBM mean accuracy(%): 84.779 std accuracy(%): 10.77\n",
      "name: RF mean accuracy(%): 74.706 std accuracy(%): 7.349\n",
      "name: ET mean accuracy(%): 77.022 std accuracy(%): 7.688\n"
     ]
    }
   ],
   "source": [
    "# ensembles\n",
    "ensembles = []\n",
    "ensembles.append(('AB', AdaBoostClassifier()))\n",
    "ensembles.append(('GBM', GradientBoostingClassifier()))\n",
    "ensembles.append(('RF', RandomForestClassifier()))\n",
    "ensembles.append(('ET', ExtraTreesClassifier()))\n",
    "\n",
    "results = []\n",
    "names = []\n",
    "\n",
    "for name, model in ensembles:\n",
    "    kfold = KFold(n_splits=num_folds, random_state=seed)\n",
    "    cv_results = cross_val_score(model, X_train, Y_train, cv=kfold, scoring=scoring)\n",
    "    results.append(cv_results)\n",
    "    names.append(name)\n",
    "    print(\"name:\", name, \"mean accuracy(%):\", round(cv_results.mean() * 100, 3), \n",
    "          \"std accuracy(%):\", round(cv_results.std() * 100, 3))"
   ]
  },
  {
   "cell_type": "code",
   "execution_count": 63,
   "metadata": {},
   "outputs": [
    {
     "data": {
      "image/png": "[encoded data removed]",
      "text/plain": [
       "<Figure size 432x288 with 1 Axes>"
      ]
     },
     "metadata": {},
     "output_type": "display_data"
    }
   ],
   "source": [
    "# Compare Algorithms\n",
    "fig = pyplot.figure()\n",
    "fig.suptitle('Ensemble Algorithm Comparison')\n",
    "ax = fig.add_subplot(111)\n",
    "pyplot.boxplot(results)\n",
    "ax.set_xticklabels(names)\n",
    "pyplot.show()"
   ]
  },
  {
   "cell_type": "markdown",
   "metadata": {},
   "source": [
    "<h2>6 - Finalize the Model</h2>"
   ]
  },
  {
   "cell_type": "markdown",
   "metadata": {},
   "source": [
    "<h3>6.1 - Test on Validation Set</h3>\n",
    "<p>The SVM standardized showed the most promise as a low complexity and stable model for this problem, so we will finalize the model by training it on the entire training dataset and make predictions for the hold-out validation dataset to confirm our findings.</p>"
   ]
  },
  {
   "cell_type": "code",
   "execution_count": 71,
   "metadata": {},
   "outputs": [
    {
     "name": "stdout",
     "output_type": "stream",
     "text": [
      "0.8571428571428571\n",
      "             precision    recall  f1-score   support\n",
      "\n",
      "          M       0.92      0.85      0.88        27\n",
      "          R       0.76      0.87      0.81        15\n",
      "\n",
      "avg / total       0.86      0.86      0.86        42\n",
      "\n"
     ]
    }
   ],
   "source": [
    "# prepare the model\n",
    "scaler = StandardScaler().fit(X_train)\n",
    "rescaledX = scaler.transform(X_train)\n",
    "\n",
    "model = SVC(C=1.5)\n",
    "model.fit(rescaledX, Y_train)\n",
    "\n",
    "# estimate accuracy on validation dataset\n",
    "rescaledValidationX = scaler.transform(X_validation)\n",
    "predictions = model.predict(rescaledValidationX)\n",
    "\n",
    "print(accuracy_score(Y_validation, predictions))\n",
    "print(classification_report(Y_validation, predictions))"
   ]
  },
  {
   "cell_type": "markdown",
   "metadata": {},
   "source": [
    "<p>We can see that we achieve an accuracy of nearly 86% on the held-out validation dataset. A score that matches closely to our expectations estimated above during the tuning of SVM.</p>"
   ]
  },
  {
   "cell_type": "code",
   "execution_count": null,
   "metadata": {},
   "outputs": [],
   "source": []
  }
 ],
 "metadata": {
  "kernelspec": {
   "display_name": "Python 3",
   "language": "python",
   "name": "python3"
  },
  "language_info": {
   "codemirror_mode": {
    "name": "ipython",
    "version": 3
   },
   "file_extension": ".py",
   "mimetype": "text/x-python",
   "name": "python",
   "nbconvert_exporter": "python",
   "pygments_lexer": "ipython3",
   "version": "3.7.4"
  },
  "toc": {
   "base_numbering": 1,
   "nav_menu": {},
   "number_sections": true,
   "sideBar": true,
   "skip_h1_title": false,
   "title_cell": "Table of Contents",
   "title_sidebar": "Contents",
   "toc_cell": false,
   "toc_position": {},
   "toc_section_display": true,
   "toc_window_display": false
  }
 },
 "nbformat": 4,
 "nbformat_minor": 2
}
