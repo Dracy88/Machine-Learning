{
 "cells": [
  {
   "cell_type": "markdown",
   "metadata": {},
   "source": [
    "<h1>Training</h1>"
   ]
  },
  {
   "cell_type": "markdown",
   "metadata": {},
   "source": [
    "<h2>Import Libraries</h2>"
   ]
  },
  {
   "cell_type": "code",
   "execution_count": 1,
   "metadata": {},
   "outputs": [],
   "source": [
    "import lightgbm as lgb\n",
    "\n",
    "import pandas as pd\n",
    "import numpy as np\n",
    "\n",
    "from sklearn.metrics import mean_squared_error\n",
    "\n",
    "from IPython.core.interactiveshell import InteractiveShell\n",
    "InteractiveShell.ast_node_interactivity = \"all\"\n",
    "import pickle\n",
    "%matplotlib inline\n",
    "\n",
    "seed = 7"
   ]
  },
  {
   "cell_type": "markdown",
   "metadata": {},
   "source": [
    "<h2>Settings</h2>"
   ]
  },
  {
   "cell_type": "code",
   "execution_count": 2,
   "metadata": {},
   "outputs": [],
   "source": [
    "ds_preproc_path = \"dataset/preproc/\"\n",
    "ds_original_path = \"dataset/original/\"\n",
    "models_path = \"models/\"\n",
    "target = \"item_cnt_month\""
   ]
  },
  {
   "cell_type": "markdown",
   "metadata": {},
   "source": [
    "<h2>Loading Datas</h2>"
   ]
  },
  {
   "cell_type": "code",
   "execution_count": 3,
   "metadata": {},
   "outputs": [],
   "source": [
    "X_train_full = pd.read_csv(ds_preproc_path + 'X_train.csv')\n",
    "X_val_full = pd.read_csv(ds_preproc_path + 'X_val.csv')\n",
    "X_test_full = pd.read_csv(ds_preproc_path + 'X_test.csv')\n",
    "\n",
    "test = pd.read_csv(ds_original_path + 'test.csv')"
   ]
  },
  {
   "cell_type": "code",
   "execution_count": 4,
   "metadata": {},
   "outputs": [
    {
     "data": {
      "text/plain": [
       "(10238683, 14)"
      ]
     },
     "execution_count": 4,
     "metadata": {},
     "output_type": "execute_result"
    },
    {
     "data": {
      "text/plain": [
       "(238172, 14)"
      ]
     },
     "execution_count": 4,
     "metadata": {},
     "output_type": "execute_result"
    },
    {
     "data": {
      "text/plain": [
       "(214200, 14)"
      ]
     },
     "execution_count": 4,
     "metadata": {},
     "output_type": "execute_result"
    }
   ],
   "source": [
    "X_train = X_train_full\n",
    "Y_train = X_train_full[target].astype(int)\n",
    "X_train = X_train.drop(columns=['item_cnt_month', 'item_price_month'])\n",
    "X_train.shape\n",
    "\n",
    "X_val = X_val_full\n",
    "Y_val = X_val_full[target].astype(int)\n",
    "X_val = X_val.drop(columns=['item_cnt_month', 'item_price_month'])\n",
    "X_val.shape\n",
    "\n",
    "X_test = X_test_full.drop(['item_cnt_month', 'item_price_month'], axis=1)\n",
    "X_test.shape\n",
    "\n",
    "del X_train_full, X_val_full, X_test_full"
   ]
  },
  {
   "cell_type": "markdown",
   "metadata": {},
   "source": [
    "<h2>Models</h2>"
   ]
  },
  {
   "cell_type": "markdown",
   "metadata": {},
   "source": [
    "<h3>GBDT</h3>"
   ]
  },
  {
   "cell_type": "markdown",
   "metadata": {},
   "source": [
    "<h4>Training</h4>"
   ]
  },
  {
   "cell_type": "markdown",
   "metadata": {},
   "source": [
    "Setting the hyperparameters of the model and start to train it"
   ]
  },
  {
   "cell_type": "code",
   "execution_count": 5,
   "metadata": {},
   "outputs": [],
   "source": [
    "def train_gbdt_model(X_train, Y_train, X_val, Y_val):\n",
    "    lgb_params = {'num_leaves': 255, \n",
    "                  'max_depth': 32, \n",
    "                  'max_bin': 64, \n",
    "                  'bagging_freq': 1, \n",
    "                  'bagging_fraction': 0.75, \n",
    "                  'feature_fraction': 0.5, \n",
    "                  'min_data_in_leaf': 2**8,\n",
    "                  'learning_rate': 0.017, \n",
    "                  'num_jobs': 4, # Set your number of physical cores for maximum speed\n",
    "                  'random_state' : seed,\n",
    "                  'bagging_seed' : seed,\n",
    "                  'boost_from_average' : 'true', # adjusts initial score to the mean of labels to speed up convergence\n",
    "                  'boost' : 'gbdt',\n",
    "                  'metric' : 'rmse',\n",
    "                  'verbose' : 1}\n",
    "\n",
    "    lgb_train = lgb.Dataset(X_train, label=Y_train)\n",
    "    lgb_val = lgb.Dataset(X_val, label=Y_val)\n",
    "\n",
    "    return lgb.train(lgb_params, \n",
    "                     lgb_train, \n",
    "                     valid_sets=[lgb_train, lgb_val],\n",
    "                     num_boost_round=600,\n",
    "                     early_stopping_rounds=20)"
   ]
  },
  {
   "cell_type": "code",
   "execution_count": 6,
   "metadata": {},
   "outputs": [
    {
     "data": {
      "text/plain": [
       "(10238683, 14)"
      ]
     },
     "execution_count": 6,
     "metadata": {},
     "output_type": "execute_result"
    },
    {
     "data": {
      "text/plain": [
       "(238172, 14)"
      ]
     },
     "execution_count": 6,
     "metadata": {},
     "output_type": "execute_result"
    },
    {
     "data": {
      "text/plain": [
       "(214200, 14)"
      ]
     },
     "execution_count": 6,
     "metadata": {},
     "output_type": "execute_result"
    }
   ],
   "source": [
    "X_train.shape\n",
    "X_val.shape\n",
    "X_test.shape"
   ]
  },
  {
   "cell_type": "code",
   "execution_count": 7,
   "metadata": {
    "scrolled": false
   },
   "outputs": [
    {
     "name": "stdout",
     "output_type": "stream",
     "text": [
      "[1]\ttraining's rmse: 1.21937\tvalid_1's rmse: 1.13264\n",
      "Training until validation scores don't improve for 20 rounds\n",
      "[2]\ttraining's rmse: 1.21218\tvalid_1's rmse: 1.12731\n",
      "[3]\ttraining's rmse: 1.20546\tvalid_1's rmse: 1.1224\n",
      "[4]\ttraining's rmse: 1.19972\tvalid_1's rmse: 1.11834\n",
      "[5]\ttraining's rmse: 1.19344\tvalid_1's rmse: 1.11381\n",
      "[6]\ttraining's rmse: 1.18714\tvalid_1's rmse: 1.10938\n",
      "[7]\ttraining's rmse: 1.18094\tvalid_1's rmse: 1.10491\n",
      "[8]\ttraining's rmse: 1.17519\tvalid_1's rmse: 1.10018\n",
      "[9]\ttraining's rmse: 1.17081\tvalid_1's rmse: 1.09717\n",
      "[10]\ttraining's rmse: 1.16853\tvalid_1's rmse: 1.09482\n",
      "[11]\ttraining's rmse: 1.16382\tvalid_1's rmse: 1.09161\n",
      "[12]\ttraining's rmse: 1.15832\tvalid_1's rmse: 1.08779\n",
      "[13]\ttraining's rmse: 1.15382\tvalid_1's rmse: 1.08529\n",
      "[14]\ttraining's rmse: 1.14834\tvalid_1's rmse: 1.081\n",
      "[15]\ttraining's rmse: 1.14569\tvalid_1's rmse: 1.07853\n",
      "[16]\ttraining's rmse: 1.14293\tvalid_1's rmse: 1.07643\n",
      "[17]\ttraining's rmse: 1.13889\tvalid_1's rmse: 1.07372\n",
      "[18]\ttraining's rmse: 1.13649\tvalid_1's rmse: 1.07133\n",
      "[19]\ttraining's rmse: 1.13174\tvalid_1's rmse: 1.06824\n",
      "[20]\ttraining's rmse: 1.12687\tvalid_1's rmse: 1.06501\n",
      "[21]\ttraining's rmse: 1.12199\tvalid_1's rmse: 1.06156\n",
      "[22]\ttraining's rmse: 1.11965\tvalid_1's rmse: 1.05937\n",
      "[23]\ttraining's rmse: 1.11737\tvalid_1's rmse: 1.05728\n",
      "[24]\ttraining's rmse: 1.11274\tvalid_1's rmse: 1.05429\n",
      "[25]\ttraining's rmse: 1.10944\tvalid_1's rmse: 1.0523\n",
      "[26]\ttraining's rmse: 1.10498\tvalid_1's rmse: 1.04928\n",
      "[27]\ttraining's rmse: 1.10093\tvalid_1's rmse: 1.04656\n",
      "[28]\ttraining's rmse: 1.09686\tvalid_1's rmse: 1.04406\n",
      "[29]\ttraining's rmse: 1.09403\tvalid_1's rmse: 1.04234\n",
      "[30]\ttraining's rmse: 1.09007\tvalid_1's rmse: 1.03964\n",
      "[31]\ttraining's rmse: 1.0883\tvalid_1's rmse: 1.03801\n",
      "[32]\ttraining's rmse: 1.0866\tvalid_1's rmse: 1.03611\n",
      "[33]\ttraining's rmse: 1.08493\tvalid_1's rmse: 1.03461\n",
      "[34]\ttraining's rmse: 1.08327\tvalid_1's rmse: 1.03294\n",
      "[35]\ttraining's rmse: 1.07972\tvalid_1's rmse: 1.03097\n",
      "[36]\ttraining's rmse: 1.07841\tvalid_1's rmse: 1.02981\n",
      "[37]\ttraining's rmse: 1.07496\tvalid_1's rmse: 1.02766\n",
      "[38]\ttraining's rmse: 1.0724\tvalid_1's rmse: 1.02633\n",
      "[39]\ttraining's rmse: 1.06913\tvalid_1's rmse: 1.02438\n",
      "[40]\ttraining's rmse: 1.06575\tvalid_1's rmse: 1.02268\n",
      "[41]\ttraining's rmse: 1.06244\tvalid_1's rmse: 1.0205\n",
      "[42]\ttraining's rmse: 1.05935\tvalid_1's rmse: 1.01848\n",
      "[43]\ttraining's rmse: 1.05626\tvalid_1's rmse: 1.01654\n",
      "[44]\ttraining's rmse: 1.05396\tvalid_1's rmse: 1.01532\n",
      "[45]\ttraining's rmse: 1.05164\tvalid_1's rmse: 1.01396\n",
      "[46]\ttraining's rmse: 1.04938\tvalid_1's rmse: 1.01299\n",
      "[47]\ttraining's rmse: 1.04826\tvalid_1's rmse: 1.0121\n",
      "[48]\ttraining's rmse: 1.04747\tvalid_1's rmse: 1.0115\n",
      "[49]\ttraining's rmse: 1.04489\tvalid_1's rmse: 1.01006\n",
      "[50]\ttraining's rmse: 1.04227\tvalid_1's rmse: 1.00867\n",
      "[51]\ttraining's rmse: 1.03967\tvalid_1's rmse: 1.00699\n",
      "[52]\ttraining's rmse: 1.03723\tvalid_1's rmse: 1.00534\n",
      "[53]\ttraining's rmse: 1.03565\tvalid_1's rmse: 1.00461\n",
      "[54]\ttraining's rmse: 1.03447\tvalid_1's rmse: 1.00377\n",
      "[55]\ttraining's rmse: 1.03203\tvalid_1's rmse: 1.00225\n",
      "[56]\ttraining's rmse: 1.03108\tvalid_1's rmse: 1.00162\n",
      "[57]\ttraining's rmse: 1.0294\tvalid_1's rmse: 1.00071\n",
      "[58]\ttraining's rmse: 1.02812\tvalid_1's rmse: 0.999611\n",
      "[59]\ttraining's rmse: 1.02581\tvalid_1's rmse: 0.99815\n",
      "[60]\ttraining's rmse: 1.02352\tvalid_1's rmse: 0.996894\n",
      "[61]\ttraining's rmse: 1.02132\tvalid_1's rmse: 0.995591\n",
      "[62]\ttraining's rmse: 1.01919\tvalid_1's rmse: 0.994145\n",
      "[63]\ttraining's rmse: 1.01834\tvalid_1's rmse: 0.993365\n",
      "[64]\ttraining's rmse: 1.01664\tvalid_1's rmse: 0.992511\n",
      "[65]\ttraining's rmse: 1.01584\tvalid_1's rmse: 0.992226\n",
      "[66]\ttraining's rmse: 1.01376\tvalid_1's rmse: 0.991489\n",
      "[67]\ttraining's rmse: 1.01298\tvalid_1's rmse: 0.990502\n",
      "[68]\ttraining's rmse: 1.0111\tvalid_1's rmse: 0.989301\n",
      "[69]\ttraining's rmse: 1.00909\tvalid_1's rmse: 0.988406\n",
      "[70]\ttraining's rmse: 1.00816\tvalid_1's rmse: 0.98783\n",
      "[71]\ttraining's rmse: 1.00685\tvalid_1's rmse: 0.986857\n",
      "[72]\ttraining's rmse: 1.00516\tvalid_1's rmse: 0.985863\n",
      "[73]\ttraining's rmse: 1.00391\tvalid_1's rmse: 0.985417\n",
      "[74]\ttraining's rmse: 1.00244\tvalid_1's rmse: 0.984953\n",
      "[75]\ttraining's rmse: 1.00069\tvalid_1's rmse: 0.983889\n",
      "[76]\ttraining's rmse: 0.999132\tvalid_1's rmse: 0.983306\n",
      "[77]\ttraining's rmse: 0.997535\tvalid_1's rmse: 0.98245\n",
      "[78]\ttraining's rmse: 0.995823\tvalid_1's rmse: 0.981834\n",
      "[79]\ttraining's rmse: 0.99462\tvalid_1's rmse: 0.981209\n",
      "[80]\ttraining's rmse: 0.993182\tvalid_1's rmse: 0.980475\n",
      "[81]\ttraining's rmse: 0.991757\tvalid_1's rmse: 0.979362\n",
      "[82]\ttraining's rmse: 0.990347\tvalid_1's rmse: 0.978509\n",
      "[83]\ttraining's rmse: 0.989039\tvalid_1's rmse: 0.977813\n",
      "[84]\ttraining's rmse: 0.988107\tvalid_1's rmse: 0.977536\n",
      "[85]\ttraining's rmse: 0.986673\tvalid_1's rmse: 0.976719\n",
      "[86]\ttraining's rmse: 0.985998\tvalid_1's rmse: 0.976136\n",
      "[87]\ttraining's rmse: 0.984756\tvalid_1's rmse: 0.975481\n",
      "[88]\ttraining's rmse: 0.983619\tvalid_1's rmse: 0.974763\n",
      "[89]\ttraining's rmse: 0.982252\tvalid_1's rmse: 0.973973\n",
      "[90]\ttraining's rmse: 0.980962\tvalid_1's rmse: 0.973219\n",
      "[91]\ttraining's rmse: 0.979698\tvalid_1's rmse: 0.972281\n",
      "[92]\ttraining's rmse: 0.978597\tvalid_1's rmse: 0.971694\n",
      "[93]\ttraining's rmse: 0.977981\tvalid_1's rmse: 0.971256\n",
      "[94]\ttraining's rmse: 0.976981\tvalid_1's rmse: 0.971229\n",
      "[95]\ttraining's rmse: 0.975944\tvalid_1's rmse: 0.97062\n",
      "[96]\ttraining's rmse: 0.974869\tvalid_1's rmse: 0.970147\n",
      "[97]\ttraining's rmse: 0.974329\tvalid_1's rmse: 0.969985\n",
      "[98]\ttraining's rmse: 0.973329\tvalid_1's rmse: 0.969527\n",
      "[99]\ttraining's rmse: 0.972344\tvalid_1's rmse: 0.969012\n",
      "[100]\ttraining's rmse: 0.971341\tvalid_1's rmse: 0.968367\n",
      "[101]\ttraining's rmse: 0.970359\tvalid_1's rmse: 0.967939\n",
      "[102]\ttraining's rmse: 0.969412\tvalid_1's rmse: 0.967565\n",
      "[103]\ttraining's rmse: 0.968556\tvalid_1's rmse: 0.966925\n",
      "[104]\ttraining's rmse: 0.968111\tvalid_1's rmse: 0.966458\n",
      "[105]\ttraining's rmse: 0.967274\tvalid_1's rmse: 0.966125\n",
      "[106]\ttraining's rmse: 0.966623\tvalid_1's rmse: 0.965947\n",
      "[107]\ttraining's rmse: 0.96561\tvalid_1's rmse: 0.965736\n",
      "[108]\ttraining's rmse: 0.964763\tvalid_1's rmse: 0.96556\n",
      "[109]\ttraining's rmse: 0.96397\tvalid_1's rmse: 0.965246\n",
      "[110]\ttraining's rmse: 0.963141\tvalid_1's rmse: 0.965108\n",
      "[111]\ttraining's rmse: 0.962715\tvalid_1's rmse: 0.965162\n",
      "[112]\ttraining's rmse: 0.962182\tvalid_1's rmse: 0.965058\n",
      "[113]\ttraining's rmse: 0.961308\tvalid_1's rmse: 0.96503\n",
      "[114]\ttraining's rmse: 0.960535\tvalid_1's rmse: 0.964574\n",
      "[115]\ttraining's rmse: 0.959868\tvalid_1's rmse: 0.964317\n",
      "[116]\ttraining's rmse: 0.959451\tvalid_1's rmse: 0.963841\n",
      "[117]\ttraining's rmse: 0.959055\tvalid_1's rmse: 0.963447\n",
      "[118]\ttraining's rmse: 0.95833\tvalid_1's rmse: 0.96299\n",
      "[119]\ttraining's rmse: 0.957633\tvalid_1's rmse: 0.962606\n",
      "[120]\ttraining's rmse: 0.957223\tvalid_1's rmse: 0.962321\n",
      "[121]\ttraining's rmse: 0.957053\tvalid_1's rmse: 0.962226\n",
      "[122]\ttraining's rmse: 0.956746\tvalid_1's rmse: 0.961885\n",
      "[123]\ttraining's rmse: 0.956012\tvalid_1's rmse: 0.961384\n",
      "[124]\ttraining's rmse: 0.955656\tvalid_1's rmse: 0.961269\n",
      "[125]\ttraining's rmse: 0.954961\tvalid_1's rmse: 0.960851\n",
      "[126]\ttraining's rmse: 0.954218\tvalid_1's rmse: 0.960404\n",
      "[127]\ttraining's rmse: 0.95351\tvalid_1's rmse: 0.959987\n",
      "[128]\ttraining's rmse: 0.952849\tvalid_1's rmse: 0.959605\n",
      "[129]\ttraining's rmse: 0.952503\tvalid_1's rmse: 0.959557\n",
      "[130]\ttraining's rmse: 0.952181\tvalid_1's rmse: 0.959222\n",
      "[131]\ttraining's rmse: 0.95162\tvalid_1's rmse: 0.95894\n",
      "[132]\ttraining's rmse: 0.951263\tvalid_1's rmse: 0.959041\n",
      "[133]\ttraining's rmse: 0.95099\tvalid_1's rmse: 0.958753\n",
      "[134]\ttraining's rmse: 0.950563\tvalid_1's rmse: 0.958686\n",
      "[135]\ttraining's rmse: 0.949868\tvalid_1's rmse: 0.958656\n",
      "[136]\ttraining's rmse: 0.949215\tvalid_1's rmse: 0.958381\n",
      "[137]\ttraining's rmse: 0.94903\tvalid_1's rmse: 0.958203\n",
      "[138]\ttraining's rmse: 0.948485\tvalid_1's rmse: 0.957906\n",
      "[139]\ttraining's rmse: 0.948124\tvalid_1's rmse: 0.957875\n",
      "[140]\ttraining's rmse: 0.947552\tvalid_1's rmse: 0.957599\n",
      "[141]\ttraining's rmse: 0.947052\tvalid_1's rmse: 0.957382\n",
      "[142]\ttraining's rmse: 0.946796\tvalid_1's rmse: 0.957183\n",
      "[143]\ttraining's rmse: 0.946231\tvalid_1's rmse: 0.957033\n",
      "[144]\ttraining's rmse: 0.945663\tvalid_1's rmse: 0.95706\n",
      "[145]\ttraining's rmse: 0.945191\tvalid_1's rmse: 0.956812\n",
      "[146]\ttraining's rmse: 0.94468\tvalid_1's rmse: 0.956623\n",
      "[147]\ttraining's rmse: 0.944212\tvalid_1's rmse: 0.955957\n",
      "[148]\ttraining's rmse: 0.943712\tvalid_1's rmse: 0.95575\n"
     ]
    },
    {
     "name": "stdout",
     "output_type": "stream",
     "text": [
      "[149]\ttraining's rmse: 0.943149\tvalid_1's rmse: 0.955428\n",
      "[150]\ttraining's rmse: 0.942733\tvalid_1's rmse: 0.955311\n",
      "[151]\ttraining's rmse: 0.942342\tvalid_1's rmse: 0.954989\n",
      "[152]\ttraining's rmse: 0.942074\tvalid_1's rmse: 0.954685\n",
      "[153]\ttraining's rmse: 0.941873\tvalid_1's rmse: 0.95469\n",
      "[154]\ttraining's rmse: 0.941525\tvalid_1's rmse: 0.954535\n",
      "[155]\ttraining's rmse: 0.94123\tvalid_1's rmse: 0.954532\n",
      "[156]\ttraining's rmse: 0.940903\tvalid_1's rmse: 0.954207\n",
      "[157]\ttraining's rmse: 0.940432\tvalid_1's rmse: 0.953958\n",
      "[158]\ttraining's rmse: 0.940286\tvalid_1's rmse: 0.953746\n",
      "[159]\ttraining's rmse: 0.939896\tvalid_1's rmse: 0.953563\n",
      "[160]\ttraining's rmse: 0.939247\tvalid_1's rmse: 0.953382\n",
      "[161]\ttraining's rmse: 0.939003\tvalid_1's rmse: 0.953351\n",
      "[162]\ttraining's rmse: 0.938664\tvalid_1's rmse: 0.95327\n",
      "[163]\ttraining's rmse: 0.938214\tvalid_1's rmse: 0.952894\n",
      "[164]\ttraining's rmse: 0.937741\tvalid_1's rmse: 0.952713\n",
      "[165]\ttraining's rmse: 0.937334\tvalid_1's rmse: 0.952461\n",
      "[166]\ttraining's rmse: 0.936723\tvalid_1's rmse: 0.952024\n",
      "[167]\ttraining's rmse: 0.936524\tvalid_1's rmse: 0.952031\n",
      "[168]\ttraining's rmse: 0.936217\tvalid_1's rmse: 0.951983\n",
      "[169]\ttraining's rmse: 0.935862\tvalid_1's rmse: 0.951764\n",
      "[170]\ttraining's rmse: 0.935426\tvalid_1's rmse: 0.951623\n",
      "[171]\ttraining's rmse: 0.935226\tvalid_1's rmse: 0.951427\n",
      "[172]\ttraining's rmse: 0.934767\tvalid_1's rmse: 0.95116\n",
      "[173]\ttraining's rmse: 0.934633\tvalid_1's rmse: 0.951022\n",
      "[174]\ttraining's rmse: 0.93436\tvalid_1's rmse: 0.950956\n",
      "[175]\ttraining's rmse: 0.934131\tvalid_1's rmse: 0.950976\n",
      "[176]\ttraining's rmse: 0.933861\tvalid_1's rmse: 0.950699\n",
      "[177]\ttraining's rmse: 0.933585\tvalid_1's rmse: 0.950579\n",
      "[178]\ttraining's rmse: 0.933293\tvalid_1's rmse: 0.950416\n",
      "[179]\ttraining's rmse: 0.932959\tvalid_1's rmse: 0.950223\n",
      "[180]\ttraining's rmse: 0.932599\tvalid_1's rmse: 0.949983\n",
      "[181]\ttraining's rmse: 0.932261\tvalid_1's rmse: 0.950079\n",
      "[182]\ttraining's rmse: 0.93181\tvalid_1's rmse: 0.950233\n",
      "[183]\ttraining's rmse: 0.931528\tvalid_1's rmse: 0.950198\n",
      "[184]\ttraining's rmse: 0.931308\tvalid_1's rmse: 0.949715\n",
      "[185]\ttraining's rmse: 0.931029\tvalid_1's rmse: 0.949552\n",
      "[186]\ttraining's rmse: 0.930604\tvalid_1's rmse: 0.949291\n",
      "[187]\ttraining's rmse: 0.93032\tvalid_1's rmse: 0.949133\n",
      "[188]\ttraining's rmse: 0.930147\tvalid_1's rmse: 0.949165\n",
      "[189]\ttraining's rmse: 0.92981\tvalid_1's rmse: 0.948955\n",
      "[190]\ttraining's rmse: 0.929517\tvalid_1's rmse: 0.948784\n",
      "[191]\ttraining's rmse: 0.929185\tvalid_1's rmse: 0.948488\n",
      "[192]\ttraining's rmse: 0.928889\tvalid_1's rmse: 0.948469\n",
      "[193]\ttraining's rmse: 0.92845\tvalid_1's rmse: 0.948489\n",
      "[194]\ttraining's rmse: 0.928225\tvalid_1's rmse: 0.948431\n",
      "[195]\ttraining's rmse: 0.927943\tvalid_1's rmse: 0.948167\n",
      "[196]\ttraining's rmse: 0.927717\tvalid_1's rmse: 0.947625\n",
      "[197]\ttraining's rmse: 0.92744\tvalid_1's rmse: 0.947548\n",
      "[198]\ttraining's rmse: 0.927256\tvalid_1's rmse: 0.947771\n",
      "[199]\ttraining's rmse: 0.926933\tvalid_1's rmse: 0.94762\n",
      "[200]\ttraining's rmse: 0.926666\tvalid_1's rmse: 0.947612\n",
      "[201]\ttraining's rmse: 0.926444\tvalid_1's rmse: 0.947507\n",
      "[202]\ttraining's rmse: 0.926212\tvalid_1's rmse: 0.947431\n",
      "[203]\ttraining's rmse: 0.925932\tvalid_1's rmse: 0.947255\n",
      "[204]\ttraining's rmse: 0.925689\tvalid_1's rmse: 0.947079\n",
      "[205]\ttraining's rmse: 0.925402\tvalid_1's rmse: 0.947051\n",
      "[206]\ttraining's rmse: 0.925126\tvalid_1's rmse: 0.946895\n",
      "[207]\ttraining's rmse: 0.924895\tvalid_1's rmse: 0.946759\n",
      "[208]\ttraining's rmse: 0.924734\tvalid_1's rmse: 0.946759\n",
      "[209]\ttraining's rmse: 0.924568\tvalid_1's rmse: 0.946721\n",
      "[210]\ttraining's rmse: 0.924318\tvalid_1's rmse: 0.946721\n",
      "[211]\ttraining's rmse: 0.924176\tvalid_1's rmse: 0.946603\n",
      "[212]\ttraining's rmse: 0.923921\tvalid_1's rmse: 0.946464\n",
      "[213]\ttraining's rmse: 0.923709\tvalid_1's rmse: 0.946383\n",
      "[214]\ttraining's rmse: 0.923537\tvalid_1's rmse: 0.946302\n",
      "[215]\ttraining's rmse: 0.923349\tvalid_1's rmse: 0.946264\n",
      "[216]\ttraining's rmse: 0.923142\tvalid_1's rmse: 0.946168\n",
      "[217]\ttraining's rmse: 0.922922\tvalid_1's rmse: 0.946035\n",
      "[218]\ttraining's rmse: 0.922724\tvalid_1's rmse: 0.94592\n",
      "[219]\ttraining's rmse: 0.922471\tvalid_1's rmse: 0.945885\n",
      "[220]\ttraining's rmse: 0.92223\tvalid_1's rmse: 0.945841\n",
      "[221]\ttraining's rmse: 0.922041\tvalid_1's rmse: 0.945914\n",
      "[222]\ttraining's rmse: 0.921894\tvalid_1's rmse: 0.945922\n",
      "[223]\ttraining's rmse: 0.921679\tvalid_1's rmse: 0.945801\n",
      "[224]\ttraining's rmse: 0.921527\tvalid_1's rmse: 0.945745\n",
      "[225]\ttraining's rmse: 0.921339\tvalid_1's rmse: 0.945797\n",
      "[226]\ttraining's rmse: 0.921255\tvalid_1's rmse: 0.945794\n",
      "[227]\ttraining's rmse: 0.921065\tvalid_1's rmse: 0.945699\n",
      "[228]\ttraining's rmse: 0.920973\tvalid_1's rmse: 0.945597\n",
      "[229]\ttraining's rmse: 0.920674\tvalid_1's rmse: 0.945454\n",
      "[230]\ttraining's rmse: 0.920542\tvalid_1's rmse: 0.945352\n",
      "[231]\ttraining's rmse: 0.920332\tvalid_1's rmse: 0.945289\n",
      "[232]\ttraining's rmse: 0.92019\tvalid_1's rmse: 0.945186\n",
      "[233]\ttraining's rmse: 0.919989\tvalid_1's rmse: 0.945179\n",
      "[234]\ttraining's rmse: 0.919807\tvalid_1's rmse: 0.945042\n",
      "[235]\ttraining's rmse: 0.919579\tvalid_1's rmse: 0.944907\n",
      "[236]\ttraining's rmse: 0.919446\tvalid_1's rmse: 0.944892\n",
      "[237]\ttraining's rmse: 0.919289\tvalid_1's rmse: 0.944838\n",
      "[238]\ttraining's rmse: 0.919142\tvalid_1's rmse: 0.944662\n",
      "[239]\ttraining's rmse: 0.91902\tvalid_1's rmse: 0.944443\n",
      "[240]\ttraining's rmse: 0.918899\tvalid_1's rmse: 0.944469\n",
      "[241]\ttraining's rmse: 0.918817\tvalid_1's rmse: 0.944451\n",
      "[242]\ttraining's rmse: 0.918704\tvalid_1's rmse: 0.944184\n",
      "[243]\ttraining's rmse: 0.918583\tvalid_1's rmse: 0.944039\n",
      "[244]\ttraining's rmse: 0.918415\tvalid_1's rmse: 0.943982\n",
      "[245]\ttraining's rmse: 0.918331\tvalid_1's rmse: 0.943912\n",
      "[246]\ttraining's rmse: 0.9182\tvalid_1's rmse: 0.943939\n",
      "[247]\ttraining's rmse: 0.918045\tvalid_1's rmse: 0.943809\n",
      "[248]\ttraining's rmse: 0.917857\tvalid_1's rmse: 0.943668\n",
      "[249]\ttraining's rmse: 0.917714\tvalid_1's rmse: 0.943595\n",
      "[250]\ttraining's rmse: 0.917427\tvalid_1's rmse: 0.943734\n",
      "[251]\ttraining's rmse: 0.917231\tvalid_1's rmse: 0.943642\n",
      "[252]\ttraining's rmse: 0.917066\tvalid_1's rmse: 0.943691\n",
      "[253]\ttraining's rmse: 0.916892\tvalid_1's rmse: 0.943603\n",
      "[254]\ttraining's rmse: 0.916712\tvalid_1's rmse: 0.943493\n",
      "[255]\ttraining's rmse: 0.916607\tvalid_1's rmse: 0.943264\n",
      "[256]\ttraining's rmse: 0.916394\tvalid_1's rmse: 0.943309\n",
      "[257]\ttraining's rmse: 0.916207\tvalid_1's rmse: 0.942996\n",
      "[258]\ttraining's rmse: 0.916003\tvalid_1's rmse: 0.94306\n",
      "[259]\ttraining's rmse: 0.915853\tvalid_1's rmse: 0.943027\n",
      "[260]\ttraining's rmse: 0.915732\tvalid_1's rmse: 0.942964\n",
      "[261]\ttraining's rmse: 0.915576\tvalid_1's rmse: 0.942818\n",
      "[262]\ttraining's rmse: 0.915416\tvalid_1's rmse: 0.942724\n",
      "[263]\ttraining's rmse: 0.915298\tvalid_1's rmse: 0.942696\n",
      "[264]\ttraining's rmse: 0.9151\tvalid_1's rmse: 0.942798\n",
      "[265]\ttraining's rmse: 0.914987\tvalid_1's rmse: 0.942645\n",
      "[266]\ttraining's rmse: 0.914812\tvalid_1's rmse: 0.942608\n",
      "[267]\ttraining's rmse: 0.914737\tvalid_1's rmse: 0.942548\n",
      "[268]\ttraining's rmse: 0.914517\tvalid_1's rmse: 0.942652\n",
      "[269]\ttraining's rmse: 0.914381\tvalid_1's rmse: 0.942518\n",
      "[270]\ttraining's rmse: 0.914117\tvalid_1's rmse: 0.942599\n",
      "[271]\ttraining's rmse: 0.913968\tvalid_1's rmse: 0.942495\n",
      "[272]\ttraining's rmse: 0.913847\tvalid_1's rmse: 0.942486\n",
      "[273]\ttraining's rmse: 0.913734\tvalid_1's rmse: 0.942422\n",
      "[274]\ttraining's rmse: 0.913565\tvalid_1's rmse: 0.942297\n",
      "[275]\ttraining's rmse: 0.913476\tvalid_1's rmse: 0.942099\n",
      "[276]\ttraining's rmse: 0.913357\tvalid_1's rmse: 0.942046\n",
      "[277]\ttraining's rmse: 0.913181\tvalid_1's rmse: 0.942059\n",
      "[278]\ttraining's rmse: 0.913094\tvalid_1's rmse: 0.942096\n",
      "[279]\ttraining's rmse: 0.913002\tvalid_1's rmse: 0.942033\n",
      "[280]\ttraining's rmse: 0.912852\tvalid_1's rmse: 0.942028\n",
      "[281]\ttraining's rmse: 0.912694\tvalid_1's rmse: 0.942032\n",
      "[282]\ttraining's rmse: 0.912573\tvalid_1's rmse: 0.941993\n",
      "[283]\ttraining's rmse: 0.912451\tvalid_1's rmse: 0.941911\n",
      "[284]\ttraining's rmse: 0.91231\tvalid_1's rmse: 0.941812\n",
      "[285]\ttraining's rmse: 0.912174\tvalid_1's rmse: 0.941702\n",
      "[286]\ttraining's rmse: 0.912064\tvalid_1's rmse: 0.941651\n",
      "[287]\ttraining's rmse: 0.911996\tvalid_1's rmse: 0.94164\n",
      "[288]\ttraining's rmse: 0.911931\tvalid_1's rmse: 0.941658\n",
      "[289]\ttraining's rmse: 0.911839\tvalid_1's rmse: 0.941624\n",
      "[290]\ttraining's rmse: 0.911693\tvalid_1's rmse: 0.941629\n",
      "[291]\ttraining's rmse: 0.911409\tvalid_1's rmse: 0.941543\n",
      "[292]\ttraining's rmse: 0.911283\tvalid_1's rmse: 0.941465\n",
      "[293]\ttraining's rmse: 0.911205\tvalid_1's rmse: 0.941497\n"
     ]
    },
    {
     "name": "stdout",
     "output_type": "stream",
     "text": [
      "[294]\ttraining's rmse: 0.911114\tvalid_1's rmse: 0.941476\n",
      "[295]\ttraining's rmse: 0.911024\tvalid_1's rmse: 0.941253\n",
      "[296]\ttraining's rmse: 0.910854\tvalid_1's rmse: 0.94115\n",
      "[297]\ttraining's rmse: 0.910706\tvalid_1's rmse: 0.9411\n",
      "[298]\ttraining's rmse: 0.910608\tvalid_1's rmse: 0.941135\n",
      "[299]\ttraining's rmse: 0.910483\tvalid_1's rmse: 0.941179\n",
      "[300]\ttraining's rmse: 0.910384\tvalid_1's rmse: 0.941163\n",
      "[301]\ttraining's rmse: 0.91025\tvalid_1's rmse: 0.941082\n",
      "[302]\ttraining's rmse: 0.910086\tvalid_1's rmse: 0.941096\n",
      "[303]\ttraining's rmse: 0.909969\tvalid_1's rmse: 0.941047\n",
      "[304]\ttraining's rmse: 0.909869\tvalid_1's rmse: 0.94102\n",
      "[305]\ttraining's rmse: 0.909711\tvalid_1's rmse: 0.941014\n",
      "[306]\ttraining's rmse: 0.909635\tvalid_1's rmse: 0.941008\n",
      "[307]\ttraining's rmse: 0.909486\tvalid_1's rmse: 0.94092\n",
      "[308]\ttraining's rmse: 0.909377\tvalid_1's rmse: 0.940881\n",
      "[309]\ttraining's rmse: 0.909263\tvalid_1's rmse: 0.9408\n",
      "[310]\ttraining's rmse: 0.909155\tvalid_1's rmse: 0.940717\n",
      "[311]\ttraining's rmse: 0.909041\tvalid_1's rmse: 0.940693\n",
      "[312]\ttraining's rmse: 0.908932\tvalid_1's rmse: 0.940653\n",
      "[313]\ttraining's rmse: 0.908819\tvalid_1's rmse: 0.940612\n",
      "[314]\ttraining's rmse: 0.908738\tvalid_1's rmse: 0.94047\n",
      "[315]\ttraining's rmse: 0.908636\tvalid_1's rmse: 0.940415\n",
      "[316]\ttraining's rmse: 0.908558\tvalid_1's rmse: 0.940342\n",
      "[317]\ttraining's rmse: 0.908409\tvalid_1's rmse: 0.940374\n",
      "[318]\ttraining's rmse: 0.908327\tvalid_1's rmse: 0.940366\n",
      "[319]\ttraining's rmse: 0.908244\tvalid_1's rmse: 0.94033\n",
      "[320]\ttraining's rmse: 0.908156\tvalid_1's rmse: 0.940348\n",
      "[321]\ttraining's rmse: 0.908064\tvalid_1's rmse: 0.940326\n",
      "[322]\ttraining's rmse: 0.907967\tvalid_1's rmse: 0.940235\n",
      "[323]\ttraining's rmse: 0.907843\tvalid_1's rmse: 0.940245\n",
      "[324]\ttraining's rmse: 0.907759\tvalid_1's rmse: 0.940256\n",
      "[325]\ttraining's rmse: 0.907635\tvalid_1's rmse: 0.940153\n",
      "[326]\ttraining's rmse: 0.907543\tvalid_1's rmse: 0.94012\n",
      "[327]\ttraining's rmse: 0.907445\tvalid_1's rmse: 0.940103\n",
      "[328]\ttraining's rmse: 0.907361\tvalid_1's rmse: 0.939803\n",
      "[329]\ttraining's rmse: 0.907254\tvalid_1's rmse: 0.939683\n",
      "[330]\ttraining's rmse: 0.90716\tvalid_1's rmse: 0.939643\n",
      "[331]\ttraining's rmse: 0.906986\tvalid_1's rmse: 0.939649\n",
      "[332]\ttraining's rmse: 0.906817\tvalid_1's rmse: 0.939651\n",
      "[333]\ttraining's rmse: 0.906735\tvalid_1's rmse: 0.939639\n",
      "[334]\ttraining's rmse: 0.906652\tvalid_1's rmse: 0.939561\n",
      "[335]\ttraining's rmse: 0.906592\tvalid_1's rmse: 0.939574\n",
      "[336]\ttraining's rmse: 0.906454\tvalid_1's rmse: 0.93948\n",
      "[337]\ttraining's rmse: 0.906325\tvalid_1's rmse: 0.939461\n",
      "[338]\ttraining's rmse: 0.906226\tvalid_1's rmse: 0.939454\n",
      "[339]\ttraining's rmse: 0.906164\tvalid_1's rmse: 0.939453\n",
      "[340]\ttraining's rmse: 0.906082\tvalid_1's rmse: 0.939382\n",
      "[341]\ttraining's rmse: 0.905966\tvalid_1's rmse: 0.939375\n",
      "[342]\ttraining's rmse: 0.905825\tvalid_1's rmse: 0.939367\n",
      "[343]\ttraining's rmse: 0.905768\tvalid_1's rmse: 0.93935\n",
      "[344]\ttraining's rmse: 0.905686\tvalid_1's rmse: 0.939346\n",
      "[345]\ttraining's rmse: 0.905618\tvalid_1's rmse: 0.939303\n",
      "[346]\ttraining's rmse: 0.90547\tvalid_1's rmse: 0.939362\n",
      "[347]\ttraining's rmse: 0.905351\tvalid_1's rmse: 0.939314\n",
      "[348]\ttraining's rmse: 0.905217\tvalid_1's rmse: 0.939219\n",
      "[349]\ttraining's rmse: 0.905132\tvalid_1's rmse: 0.939217\n",
      "[350]\ttraining's rmse: 0.905046\tvalid_1's rmse: 0.939196\n",
      "[351]\ttraining's rmse: 0.90495\tvalid_1's rmse: 0.939172\n",
      "[352]\ttraining's rmse: 0.904853\tvalid_1's rmse: 0.939163\n",
      "[353]\ttraining's rmse: 0.904745\tvalid_1's rmse: 0.939196\n",
      "[354]\ttraining's rmse: 0.904646\tvalid_1's rmse: 0.939133\n",
      "[355]\ttraining's rmse: 0.90451\tvalid_1's rmse: 0.939202\n",
      "[356]\ttraining's rmse: 0.904252\tvalid_1's rmse: 0.93879\n",
      "[357]\ttraining's rmse: 0.904148\tvalid_1's rmse: 0.938705\n",
      "[358]\ttraining's rmse: 0.904018\tvalid_1's rmse: 0.93875\n",
      "[359]\ttraining's rmse: 0.90381\tvalid_1's rmse: 0.938669\n",
      "[360]\ttraining's rmse: 0.903736\tvalid_1's rmse: 0.938556\n",
      "[361]\ttraining's rmse: 0.903657\tvalid_1's rmse: 0.938549\n",
      "[362]\ttraining's rmse: 0.90357\tvalid_1's rmse: 0.938527\n",
      "[363]\ttraining's rmse: 0.903501\tvalid_1's rmse: 0.938447\n",
      "[364]\ttraining's rmse: 0.903369\tvalid_1's rmse: 0.938512\n",
      "[365]\ttraining's rmse: 0.903312\tvalid_1's rmse: 0.938536\n",
      "[366]\ttraining's rmse: 0.903229\tvalid_1's rmse: 0.938534\n",
      "[367]\ttraining's rmse: 0.903093\tvalid_1's rmse: 0.938512\n",
      "[368]\ttraining's rmse: 0.90298\tvalid_1's rmse: 0.938589\n",
      "[369]\ttraining's rmse: 0.902912\tvalid_1's rmse: 0.938574\n",
      "[370]\ttraining's rmse: 0.902833\tvalid_1's rmse: 0.93857\n",
      "[371]\ttraining's rmse: 0.90274\tvalid_1's rmse: 0.938536\n",
      "[372]\ttraining's rmse: 0.902656\tvalid_1's rmse: 0.93851\n",
      "[373]\ttraining's rmse: 0.90256\tvalid_1's rmse: 0.938521\n",
      "[374]\ttraining's rmse: 0.902419\tvalid_1's rmse: 0.938637\n",
      "[375]\ttraining's rmse: 0.902313\tvalid_1's rmse: 0.938636\n",
      "[376]\ttraining's rmse: 0.902051\tvalid_1's rmse: 0.938285\n",
      "[377]\ttraining's rmse: 0.901961\tvalid_1's rmse: 0.938244\n",
      "[378]\ttraining's rmse: 0.901891\tvalid_1's rmse: 0.938218\n",
      "[379]\ttraining's rmse: 0.901844\tvalid_1's rmse: 0.938181\n",
      "[380]\ttraining's rmse: 0.901774\tvalid_1's rmse: 0.938218\n",
      "[381]\ttraining's rmse: 0.901673\tvalid_1's rmse: 0.938261\n",
      "[382]\ttraining's rmse: 0.901597\tvalid_1's rmse: 0.938236\n",
      "[383]\ttraining's rmse: 0.901544\tvalid_1's rmse: 0.938187\n",
      "[384]\ttraining's rmse: 0.901447\tvalid_1's rmse: 0.938143\n",
      "[385]\ttraining's rmse: 0.901346\tvalid_1's rmse: 0.938112\n",
      "[386]\ttraining's rmse: 0.901253\tvalid_1's rmse: 0.938019\n",
      "[387]\ttraining's rmse: 0.90117\tvalid_1's rmse: 0.938052\n",
      "[388]\ttraining's rmse: 0.901094\tvalid_1's rmse: 0.938033\n",
      "[389]\ttraining's rmse: 0.901033\tvalid_1's rmse: 0.937978\n",
      "[390]\ttraining's rmse: 0.90096\tvalid_1's rmse: 0.937949\n",
      "[391]\ttraining's rmse: 0.900893\tvalid_1's rmse: 0.937908\n",
      "[392]\ttraining's rmse: 0.900799\tvalid_1's rmse: 0.937865\n",
      "[393]\ttraining's rmse: 0.900734\tvalid_1's rmse: 0.937873\n",
      "[394]\ttraining's rmse: 0.900662\tvalid_1's rmse: 0.937843\n",
      "[395]\ttraining's rmse: 0.900609\tvalid_1's rmse: 0.937796\n",
      "[396]\ttraining's rmse: 0.90055\tvalid_1's rmse: 0.937781\n",
      "[397]\ttraining's rmse: 0.900433\tvalid_1's rmse: 0.937737\n",
      "[398]\ttraining's rmse: 0.900332\tvalid_1's rmse: 0.937637\n",
      "[399]\ttraining's rmse: 0.90024\tvalid_1's rmse: 0.937584\n",
      "[400]\ttraining's rmse: 0.900172\tvalid_1's rmse: 0.937547\n",
      "[401]\ttraining's rmse: 0.900068\tvalid_1's rmse: 0.937472\n",
      "[402]\ttraining's rmse: 0.900019\tvalid_1's rmse: 0.937128\n",
      "[403]\ttraining's rmse: 0.899908\tvalid_1's rmse: 0.937191\n",
      "[404]\ttraining's rmse: 0.899828\tvalid_1's rmse: 0.937158\n",
      "[405]\ttraining's rmse: 0.899734\tvalid_1's rmse: 0.937197\n",
      "[406]\ttraining's rmse: 0.899678\tvalid_1's rmse: 0.937214\n",
      "[407]\ttraining's rmse: 0.899594\tvalid_1's rmse: 0.937216\n",
      "[408]\ttraining's rmse: 0.89952\tvalid_1's rmse: 0.937246\n",
      "[409]\ttraining's rmse: 0.899458\tvalid_1's rmse: 0.937208\n",
      "[410]\ttraining's rmse: 0.899355\tvalid_1's rmse: 0.937184\n",
      "[411]\ttraining's rmse: 0.899282\tvalid_1's rmse: 0.937186\n",
      "[412]\ttraining's rmse: 0.899201\tvalid_1's rmse: 0.937148\n",
      "[413]\ttraining's rmse: 0.899067\tvalid_1's rmse: 0.937246\n",
      "[414]\ttraining's rmse: 0.898916\tvalid_1's rmse: 0.937095\n",
      "[415]\ttraining's rmse: 0.898877\tvalid_1's rmse: 0.937095\n",
      "[416]\ttraining's rmse: 0.898815\tvalid_1's rmse: 0.937067\n",
      "[417]\ttraining's rmse: 0.898763\tvalid_1's rmse: 0.937015\n",
      "[418]\ttraining's rmse: 0.898707\tvalid_1's rmse: 0.937026\n",
      "[419]\ttraining's rmse: 0.898625\tvalid_1's rmse: 0.93702\n",
      "[420]\ttraining's rmse: 0.898572\tvalid_1's rmse: 0.937002\n",
      "[421]\ttraining's rmse: 0.898511\tvalid_1's rmse: 0.936974\n",
      "[422]\ttraining's rmse: 0.898452\tvalid_1's rmse: 0.936933\n",
      "[423]\ttraining's rmse: 0.89837\tvalid_1's rmse: 0.936918\n",
      "[424]\ttraining's rmse: 0.898259\tvalid_1's rmse: 0.936858\n",
      "[425]\ttraining's rmse: 0.898216\tvalid_1's rmse: 0.936887\n",
      "[426]\ttraining's rmse: 0.898164\tvalid_1's rmse: 0.93688\n",
      "[427]\ttraining's rmse: 0.898096\tvalid_1's rmse: 0.936847\n",
      "[428]\ttraining's rmse: 0.898047\tvalid_1's rmse: 0.936886\n",
      "[429]\ttraining's rmse: 0.897998\tvalid_1's rmse: 0.936847\n",
      "[430]\ttraining's rmse: 0.897925\tvalid_1's rmse: 0.936835\n",
      "[431]\ttraining's rmse: 0.897857\tvalid_1's rmse: 0.936802\n",
      "[432]\ttraining's rmse: 0.897785\tvalid_1's rmse: 0.93664\n",
      "[433]\ttraining's rmse: 0.897701\tvalid_1's rmse: 0.936665\n",
      "[434]\ttraining's rmse: 0.897654\tvalid_1's rmse: 0.936632\n",
      "[435]\ttraining's rmse: 0.897572\tvalid_1's rmse: 0.936496\n",
      "[436]\ttraining's rmse: 0.897512\tvalid_1's rmse: 0.936437\n",
      "[437]\ttraining's rmse: 0.897459\tvalid_1's rmse: 0.936415\n",
      "[438]\ttraining's rmse: 0.897411\tvalid_1's rmse: 0.936398\n"
     ]
    },
    {
     "name": "stdout",
     "output_type": "stream",
     "text": [
      "[439]\ttraining's rmse: 0.897338\tvalid_1's rmse: 0.936396\n",
      "[440]\ttraining's rmse: 0.897291\tvalid_1's rmse: 0.936379\n",
      "[441]\ttraining's rmse: 0.89723\tvalid_1's rmse: 0.936319\n",
      "[442]\ttraining's rmse: 0.897189\tvalid_1's rmse: 0.936357\n",
      "[443]\ttraining's rmse: 0.897131\tvalid_1's rmse: 0.936347\n",
      "[444]\ttraining's rmse: 0.896993\tvalid_1's rmse: 0.936578\n",
      "[445]\ttraining's rmse: 0.896965\tvalid_1's rmse: 0.936578\n",
      "[446]\ttraining's rmse: 0.896882\tvalid_1's rmse: 0.936551\n",
      "[447]\ttraining's rmse: 0.896815\tvalid_1's rmse: 0.93651\n",
      "[448]\ttraining's rmse: 0.89672\tvalid_1's rmse: 0.936561\n",
      "[449]\ttraining's rmse: 0.896689\tvalid_1's rmse: 0.936523\n",
      "[450]\ttraining's rmse: 0.896594\tvalid_1's rmse: 0.936511\n",
      "[451]\ttraining's rmse: 0.896551\tvalid_1's rmse: 0.936489\n",
      "[452]\ttraining's rmse: 0.89645\tvalid_1's rmse: 0.936515\n",
      "[453]\ttraining's rmse: 0.896365\tvalid_1's rmse: 0.936523\n",
      "[454]\ttraining's rmse: 0.896272\tvalid_1's rmse: 0.936573\n",
      "[455]\ttraining's rmse: 0.896235\tvalid_1's rmse: 0.936575\n",
      "[456]\ttraining's rmse: 0.896188\tvalid_1's rmse: 0.936565\n",
      "[457]\ttraining's rmse: 0.896137\tvalid_1's rmse: 0.936514\n",
      "[458]\ttraining's rmse: 0.896069\tvalid_1's rmse: 0.936527\n",
      "[459]\ttraining's rmse: 0.896021\tvalid_1's rmse: 0.9365\n",
      "[460]\ttraining's rmse: 0.895959\tvalid_1's rmse: 0.936476\n",
      "[461]\ttraining's rmse: 0.895905\tvalid_1's rmse: 0.936475\n",
      "Early stopping, best iteration is:\n",
      "[441]\ttraining's rmse: 0.89723\tvalid_1's rmse: 0.936319\n"
     ]
    }
   ],
   "source": [
    "gbdt_model = train_gbdt_model(X_train, Y_train, X_val, Y_val)"
   ]
  },
  {
   "cell_type": "code",
   "execution_count": 8,
   "metadata": {},
   "outputs": [
    {
     "data": {
      "text/plain": [
       "<matplotlib.axes._subplots.AxesSubplot at 0x26953481f08>"
      ]
     },
     "execution_count": 8,
     "metadata": {},
     "output_type": "execute_result"
    },
    {
     "data": {
      "image/png": "[encoded data removed]",
      "text/plain": [
       "<Figure size 432x288 with 1 Axes>"
      ]
     },
     "metadata": {
      "needs_background": "light"
     },
     "output_type": "display_data"
    }
   ],
   "source": [
    "lgb.plot_importance(gbdt_model)"
   ]
  },
  {
   "cell_type": "code",
   "execution_count": 9,
   "metadata": {},
   "outputs": [
    {
     "name": "stdout",
     "output_type": "stream",
     "text": [
      "RMSE = 0.9363\n"
     ]
    }
   ],
   "source": [
    "y_hat = gbdt_model.predict(X_val).clip(0, 20)\n",
    "rmse = np.sqrt(mean_squared_error(Y_val.clip(0, 20), y_hat))\n",
    "print(\"RMSE = {}\".format(round(rmse, 4)))"
   ]
  },
  {
   "cell_type": "markdown",
   "metadata": {},
   "source": [
    "Dumping the model"
   ]
  },
  {
   "cell_type": "code",
   "execution_count": 10,
   "metadata": {},
   "outputs": [],
   "source": [
    "with open(models_path + 'gbdt_model.pickle', 'wb') as handle:\n",
    "    pickle.dump(gbdt_model, handle)"
   ]
  },
  {
   "cell_type": "markdown",
   "metadata": {},
   "source": [
    "<h4>Testing</h4>"
   ]
  },
  {
   "cell_type": "code",
   "execution_count": 11,
   "metadata": {},
   "outputs": [],
   "source": [
    "gbdt_model = pickle.load(open(models_path + \"gbdt_model.pickle\", \"rb\"))\n",
    "\n",
    "y_pred = gbdt_model.predict(X_test).clip(0, 20)\n",
    "X_test['item_cnt_month'] = y_pred\n",
    "\n",
    "submit = pd.merge(test, X_test, how='left', on=['shop_id', 'item_id'])\n",
    "submit = submit[['ID', 'item_cnt_month']]\n",
    "submit.to_csv('submission.csv', index=False)"
   ]
  },
  {
   "cell_type": "code",
   "execution_count": null,
   "metadata": {},
   "outputs": [],
   "source": []
  }
 ],
 "metadata": {
  "kernelspec": {
   "display_name": "Python 3",
   "language": "python",
   "name": "python3"
  },
  "language_info": {
   "codemirror_mode": {
    "name": "ipython",
    "version": 3
   },
   "file_extension": ".py",
   "mimetype": "text/x-python",
   "name": "python",
   "nbconvert_exporter": "python",
   "pygments_lexer": "ipython3",
   "version": "3.7.4"
  }
 },
 "nbformat": 4,
 "nbformat_minor": 2
}
