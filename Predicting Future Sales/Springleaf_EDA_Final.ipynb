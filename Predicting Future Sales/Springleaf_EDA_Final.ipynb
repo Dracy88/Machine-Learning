{
 "cells": [
  {
   "cell_type": "markdown",
   "metadata": {},
   "source": [
    "<h1>EDA</h1>"
   ]
  },
  {
   "cell_type": "markdown",
   "metadata": {},
   "source": [
    "<h2>Import Libraries</h2>"
   ]
  },
  {
   "cell_type": "code",
   "execution_count": 41,
   "metadata": {},
   "outputs": [],
   "source": [
    "import pandas as pd\n",
    "import numpy as np\n",
    "import matplotlib.pyplot as plt\n",
    "from calendar import monthrange\n",
    "from itertools import product\n",
    "\n",
    "from IPython.core.interactiveshell import InteractiveShell\n",
    "InteractiveShell.ast_node_interactivity = \"all\"\n",
    "import pickle\n",
    "%matplotlib inline\n",
    "\n",
    "from sklearn.preprocessing import LabelEncoder"
   ]
  },
  {
   "cell_type": "markdown",
   "metadata": {},
   "source": [
    "<h2>Settings</h2>"
   ]
  },
  {
   "cell_type": "code",
   "execution_count": 42,
   "metadata": {},
   "outputs": [],
   "source": [
    "ds_original_path = \"dataset/original/\"\n",
    "ds_preproc_path = \"dataset/preproc/\"\n",
    "target = \"item_cnt_month\"\n",
    "seed = 7"
   ]
  },
  {
   "cell_type": "markdown",
   "metadata": {},
   "source": [
    "<h2>Loading Datas</h2>"
   ]
  },
  {
   "cell_type": "code",
   "execution_count": 43,
   "metadata": {},
   "outputs": [],
   "source": [
    "item_cats = pd.read_csv(ds_original_path + 'item_categories.csv')\n",
    "items = pd.read_csv(ds_original_path + 'items.csv')\n",
    "sales = pd.read_csv(ds_original_path + 'sales_train.csv')\n",
    "shop = pd.read_csv(ds_original_path + 'shops.csv')\n",
    "submit_sample = pd.read_csv(ds_original_path + 'sample_submission.csv')\n",
    "test = pd.read_csv(ds_original_path + 'test.csv')"
   ]
  },
  {
   "cell_type": "markdown",
   "metadata": {},
   "source": [
    "Let's take a first look to our datas"
   ]
  },
  {
   "cell_type": "code",
   "execution_count": 44,
   "metadata": {
    "scrolled": true
   },
   "outputs": [
    {
     "data": {
      "text/html": [
       "<div>\n",
       "<style scoped>\n",
       "    .dataframe tbody tr th:only-of-type {\n",
       "        vertical-align: middle;\n",
       "    }\n",
       "\n",
       "    .dataframe tbody tr th {\n",
       "        vertical-align: top;\n",
       "    }\n",
       "\n",
       "    .dataframe thead th {\n",
       "        text-align: right;\n",
       "    }\n",
       "</style>\n",
       "<table border=\"1\" class=\"dataframe\">\n",
       "  <thead>\n",
       "    <tr style=\"text-align: right;\">\n",
       "      <th></th>\n",
       "      <th>item_category_name</th>\n",
       "      <th>item_category_id</th>\n",
       "    </tr>\n",
       "  </thead>\n",
       "  <tbody>\n",
       "    <tr>\n",
       "      <th>0</th>\n",
       "      <td>PC - Гарнитуры/Наушники</td>\n",
       "      <td>0</td>\n",
       "    </tr>\n",
       "    <tr>\n",
       "      <th>1</th>\n",
       "      <td>Аксессуары - PS2</td>\n",
       "      <td>1</td>\n",
       "    </tr>\n",
       "    <tr>\n",
       "      <th>2</th>\n",
       "      <td>Аксессуары - PS3</td>\n",
       "      <td>2</td>\n",
       "    </tr>\n",
       "    <tr>\n",
       "      <th>3</th>\n",
       "      <td>Аксессуары - PS4</td>\n",
       "      <td>3</td>\n",
       "    </tr>\n",
       "    <tr>\n",
       "      <th>4</th>\n",
       "      <td>Аксессуары - PSP</td>\n",
       "      <td>4</td>\n",
       "    </tr>\n",
       "  </tbody>\n",
       "</table>\n",
       "</div>"
      ],
      "text/plain": [
       "        item_category_name  item_category_id\n",
       "0  PC - Гарнитуры/Наушники                 0\n",
       "1         Аксессуары - PS2                 1\n",
       "2         Аксессуары - PS3                 2\n",
       "3         Аксессуары - PS4                 3\n",
       "4         Аксессуары - PSP                 4"
      ]
     },
     "execution_count": 44,
     "metadata": {},
     "output_type": "execute_result"
    },
    {
     "data": {
      "text/plain": [
       "(84, 2)"
      ]
     },
     "execution_count": 44,
     "metadata": {},
     "output_type": "execute_result"
    },
    {
     "data": {
      "text/html": [
       "<div>\n",
       "<style scoped>\n",
       "    .dataframe tbody tr th:only-of-type {\n",
       "        vertical-align: middle;\n",
       "    }\n",
       "\n",
       "    .dataframe tbody tr th {\n",
       "        vertical-align: top;\n",
       "    }\n",
       "\n",
       "    .dataframe thead th {\n",
       "        text-align: right;\n",
       "    }\n",
       "</style>\n",
       "<table border=\"1\" class=\"dataframe\">\n",
       "  <thead>\n",
       "    <tr style=\"text-align: right;\">\n",
       "      <th></th>\n",
       "      <th>item_name</th>\n",
       "      <th>item_id</th>\n",
       "      <th>item_category_id</th>\n",
       "    </tr>\n",
       "  </thead>\n",
       "  <tbody>\n",
       "    <tr>\n",
       "      <th>0</th>\n",
       "      <td>! ВО ВЛАСТИ НАВАЖДЕНИЯ (ПЛАСТ.)         D</td>\n",
       "      <td>0</td>\n",
       "      <td>40</td>\n",
       "    </tr>\n",
       "    <tr>\n",
       "      <th>1</th>\n",
       "      <td>!ABBYY FineReader 12 Professional Edition Full...</td>\n",
       "      <td>1</td>\n",
       "      <td>76</td>\n",
       "    </tr>\n",
       "    <tr>\n",
       "      <th>2</th>\n",
       "      <td>***В ЛУЧАХ СЛАВЫ   (UNV)                    D</td>\n",
       "      <td>2</td>\n",
       "      <td>40</td>\n",
       "    </tr>\n",
       "    <tr>\n",
       "      <th>3</th>\n",
       "      <td>***ГОЛУБАЯ ВОЛНА  (Univ)                      D</td>\n",
       "      <td>3</td>\n",
       "      <td>40</td>\n",
       "    </tr>\n",
       "    <tr>\n",
       "      <th>4</th>\n",
       "      <td>***КОРОБКА (СТЕКЛО)                       D</td>\n",
       "      <td>4</td>\n",
       "      <td>40</td>\n",
       "    </tr>\n",
       "  </tbody>\n",
       "</table>\n",
       "</div>"
      ],
      "text/plain": [
       "                                           item_name  item_id  \\\n",
       "0          ! ВО ВЛАСТИ НАВАЖДЕНИЯ (ПЛАСТ.)         D        0   \n",
       "1  !ABBYY FineReader 12 Professional Edition Full...        1   \n",
       "2      ***В ЛУЧАХ СЛАВЫ   (UNV)                    D        2   \n",
       "3    ***ГОЛУБАЯ ВОЛНА  (Univ)                      D        3   \n",
       "4        ***КОРОБКА (СТЕКЛО)                       D        4   \n",
       "\n",
       "   item_category_id  \n",
       "0                40  \n",
       "1                76  \n",
       "2                40  \n",
       "3                40  \n",
       "4                40  "
      ]
     },
     "execution_count": 44,
     "metadata": {},
     "output_type": "execute_result"
    },
    {
     "data": {
      "text/plain": [
       "(22170, 3)"
      ]
     },
     "execution_count": 44,
     "metadata": {},
     "output_type": "execute_result"
    },
    {
     "data": {
      "text/html": [
       "<div>\n",
       "<style scoped>\n",
       "    .dataframe tbody tr th:only-of-type {\n",
       "        vertical-align: middle;\n",
       "    }\n",
       "\n",
       "    .dataframe tbody tr th {\n",
       "        vertical-align: top;\n",
       "    }\n",
       "\n",
       "    .dataframe thead th {\n",
       "        text-align: right;\n",
       "    }\n",
       "</style>\n",
       "<table border=\"1\" class=\"dataframe\">\n",
       "  <thead>\n",
       "    <tr style=\"text-align: right;\">\n",
       "      <th></th>\n",
       "      <th>date</th>\n",
       "      <th>date_block_num</th>\n",
       "      <th>shop_id</th>\n",
       "      <th>item_id</th>\n",
       "      <th>item_price</th>\n",
       "      <th>item_cnt_day</th>\n",
       "    </tr>\n",
       "  </thead>\n",
       "  <tbody>\n",
       "    <tr>\n",
       "      <th>0</th>\n",
       "      <td>02.01.2013</td>\n",
       "      <td>0</td>\n",
       "      <td>59</td>\n",
       "      <td>22154</td>\n",
       "      <td>999.00</td>\n",
       "      <td>1.0</td>\n",
       "    </tr>\n",
       "    <tr>\n",
       "      <th>1</th>\n",
       "      <td>03.01.2013</td>\n",
       "      <td>0</td>\n",
       "      <td>25</td>\n",
       "      <td>2552</td>\n",
       "      <td>899.00</td>\n",
       "      <td>1.0</td>\n",
       "    </tr>\n",
       "    <tr>\n",
       "      <th>2</th>\n",
       "      <td>05.01.2013</td>\n",
       "      <td>0</td>\n",
       "      <td>25</td>\n",
       "      <td>2552</td>\n",
       "      <td>899.00</td>\n",
       "      <td>-1.0</td>\n",
       "    </tr>\n",
       "    <tr>\n",
       "      <th>3</th>\n",
       "      <td>06.01.2013</td>\n",
       "      <td>0</td>\n",
       "      <td>25</td>\n",
       "      <td>2554</td>\n",
       "      <td>1709.05</td>\n",
       "      <td>1.0</td>\n",
       "    </tr>\n",
       "    <tr>\n",
       "      <th>4</th>\n",
       "      <td>15.01.2013</td>\n",
       "      <td>0</td>\n",
       "      <td>25</td>\n",
       "      <td>2555</td>\n",
       "      <td>1099.00</td>\n",
       "      <td>1.0</td>\n",
       "    </tr>\n",
       "  </tbody>\n",
       "</table>\n",
       "</div>"
      ],
      "text/plain": [
       "         date  date_block_num  shop_id  item_id  item_price  item_cnt_day\n",
       "0  02.01.2013               0       59    22154      999.00           1.0\n",
       "1  03.01.2013               0       25     2552      899.00           1.0\n",
       "2  05.01.2013               0       25     2552      899.00          -1.0\n",
       "3  06.01.2013               0       25     2554     1709.05           1.0\n",
       "4  15.01.2013               0       25     2555     1099.00           1.0"
      ]
     },
     "execution_count": 44,
     "metadata": {},
     "output_type": "execute_result"
    },
    {
     "data": {
      "text/plain": [
       "(2935849, 6)"
      ]
     },
     "execution_count": 44,
     "metadata": {},
     "output_type": "execute_result"
    },
    {
     "data": {
      "text/html": [
       "<div>\n",
       "<style scoped>\n",
       "    .dataframe tbody tr th:only-of-type {\n",
       "        vertical-align: middle;\n",
       "    }\n",
       "\n",
       "    .dataframe tbody tr th {\n",
       "        vertical-align: top;\n",
       "    }\n",
       "\n",
       "    .dataframe thead th {\n",
       "        text-align: right;\n",
       "    }\n",
       "</style>\n",
       "<table border=\"1\" class=\"dataframe\">\n",
       "  <thead>\n",
       "    <tr style=\"text-align: right;\">\n",
       "      <th></th>\n",
       "      <th>shop_name</th>\n",
       "      <th>shop_id</th>\n",
       "    </tr>\n",
       "  </thead>\n",
       "  <tbody>\n",
       "    <tr>\n",
       "      <th>0</th>\n",
       "      <td>!Якутск Орджоникидзе, 56 фран</td>\n",
       "      <td>0</td>\n",
       "    </tr>\n",
       "    <tr>\n",
       "      <th>1</th>\n",
       "      <td>!Якутск ТЦ \"Центральный\" фран</td>\n",
       "      <td>1</td>\n",
       "    </tr>\n",
       "    <tr>\n",
       "      <th>2</th>\n",
       "      <td>Адыгея ТЦ \"Мега\"</td>\n",
       "      <td>2</td>\n",
       "    </tr>\n",
       "    <tr>\n",
       "      <th>3</th>\n",
       "      <td>Балашиха ТРК \"Октябрь-Киномир\"</td>\n",
       "      <td>3</td>\n",
       "    </tr>\n",
       "    <tr>\n",
       "      <th>4</th>\n",
       "      <td>Волжский ТЦ \"Волга Молл\"</td>\n",
       "      <td>4</td>\n",
       "    </tr>\n",
       "  </tbody>\n",
       "</table>\n",
       "</div>"
      ],
      "text/plain": [
       "                        shop_name  shop_id\n",
       "0   !Якутск Орджоникидзе, 56 фран        0\n",
       "1   !Якутск ТЦ \"Центральный\" фран        1\n",
       "2                Адыгея ТЦ \"Мега\"        2\n",
       "3  Балашиха ТРК \"Октябрь-Киномир\"        3\n",
       "4        Волжский ТЦ \"Волга Молл\"        4"
      ]
     },
     "execution_count": 44,
     "metadata": {},
     "output_type": "execute_result"
    },
    {
     "data": {
      "text/plain": [
       "(60, 2)"
      ]
     },
     "execution_count": 44,
     "metadata": {},
     "output_type": "execute_result"
    },
    {
     "data": {
      "text/html": [
       "<div>\n",
       "<style scoped>\n",
       "    .dataframe tbody tr th:only-of-type {\n",
       "        vertical-align: middle;\n",
       "    }\n",
       "\n",
       "    .dataframe tbody tr th {\n",
       "        vertical-align: top;\n",
       "    }\n",
       "\n",
       "    .dataframe thead th {\n",
       "        text-align: right;\n",
       "    }\n",
       "</style>\n",
       "<table border=\"1\" class=\"dataframe\">\n",
       "  <thead>\n",
       "    <tr style=\"text-align: right;\">\n",
       "      <th></th>\n",
       "      <th>ID</th>\n",
       "      <th>item_cnt_month</th>\n",
       "    </tr>\n",
       "  </thead>\n",
       "  <tbody>\n",
       "    <tr>\n",
       "      <th>0</th>\n",
       "      <td>0</td>\n",
       "      <td>0.5</td>\n",
       "    </tr>\n",
       "    <tr>\n",
       "      <th>1</th>\n",
       "      <td>1</td>\n",
       "      <td>0.5</td>\n",
       "    </tr>\n",
       "    <tr>\n",
       "      <th>2</th>\n",
       "      <td>2</td>\n",
       "      <td>0.5</td>\n",
       "    </tr>\n",
       "    <tr>\n",
       "      <th>3</th>\n",
       "      <td>3</td>\n",
       "      <td>0.5</td>\n",
       "    </tr>\n",
       "    <tr>\n",
       "      <th>4</th>\n",
       "      <td>4</td>\n",
       "      <td>0.5</td>\n",
       "    </tr>\n",
       "  </tbody>\n",
       "</table>\n",
       "</div>"
      ],
      "text/plain": [
       "   ID  item_cnt_month\n",
       "0   0             0.5\n",
       "1   1             0.5\n",
       "2   2             0.5\n",
       "3   3             0.5\n",
       "4   4             0.5"
      ]
     },
     "execution_count": 44,
     "metadata": {},
     "output_type": "execute_result"
    },
    {
     "data": {
      "text/plain": [
       "(214200, 2)"
      ]
     },
     "execution_count": 44,
     "metadata": {},
     "output_type": "execute_result"
    },
    {
     "data": {
      "text/html": [
       "<div>\n",
       "<style scoped>\n",
       "    .dataframe tbody tr th:only-of-type {\n",
       "        vertical-align: middle;\n",
       "    }\n",
       "\n",
       "    .dataframe tbody tr th {\n",
       "        vertical-align: top;\n",
       "    }\n",
       "\n",
       "    .dataframe thead th {\n",
       "        text-align: right;\n",
       "    }\n",
       "</style>\n",
       "<table border=\"1\" class=\"dataframe\">\n",
       "  <thead>\n",
       "    <tr style=\"text-align: right;\">\n",
       "      <th></th>\n",
       "      <th>ID</th>\n",
       "      <th>shop_id</th>\n",
       "      <th>item_id</th>\n",
       "    </tr>\n",
       "  </thead>\n",
       "  <tbody>\n",
       "    <tr>\n",
       "      <th>0</th>\n",
       "      <td>0</td>\n",
       "      <td>5</td>\n",
       "      <td>5037</td>\n",
       "    </tr>\n",
       "    <tr>\n",
       "      <th>1</th>\n",
       "      <td>1</td>\n",
       "      <td>5</td>\n",
       "      <td>5320</td>\n",
       "    </tr>\n",
       "    <tr>\n",
       "      <th>2</th>\n",
       "      <td>2</td>\n",
       "      <td>5</td>\n",
       "      <td>5233</td>\n",
       "    </tr>\n",
       "    <tr>\n",
       "      <th>3</th>\n",
       "      <td>3</td>\n",
       "      <td>5</td>\n",
       "      <td>5232</td>\n",
       "    </tr>\n",
       "    <tr>\n",
       "      <th>4</th>\n",
       "      <td>4</td>\n",
       "      <td>5</td>\n",
       "      <td>5268</td>\n",
       "    </tr>\n",
       "  </tbody>\n",
       "</table>\n",
       "</div>"
      ],
      "text/plain": [
       "   ID  shop_id  item_id\n",
       "0   0        5     5037\n",
       "1   1        5     5320\n",
       "2   2        5     5233\n",
       "3   3        5     5232\n",
       "4   4        5     5268"
      ]
     },
     "execution_count": 44,
     "metadata": {},
     "output_type": "execute_result"
    },
    {
     "data": {
      "text/plain": [
       "(214200, 3)"
      ]
     },
     "execution_count": 44,
     "metadata": {},
     "output_type": "execute_result"
    }
   ],
   "source": [
    "item_cats.head(5)  # sostituisci tutti i catgs\n",
    "item_cats.shape\n",
    "\n",
    "items.head(5)\n",
    "items.shape\n",
    "\n",
    "sales.head(5) \n",
    "sales.shape\n",
    "\n",
    "shop.head(5) #sost tutti i shops\n",
    "shop.shape\n",
    "\n",
    "submit_sample.head(5) # sost i vari sampl\n",
    "submit_sample.shape\n",
    "\n",
    "test.head(5) # sost test d\n",
    "test.shape"
   ]
  },
  {
   "cell_type": "markdown",
   "metadata": {},
   "source": [
    "<h2>Data Exploration</h2>"
   ]
  },
  {
   "cell_type": "markdown",
   "metadata": {},
   "source": [
    "<h3>Missing values</h3>"
   ]
  },
  {
   "cell_type": "code",
   "execution_count": 45,
   "metadata": {},
   "outputs": [
    {
     "data": {
      "text/plain": [
       "date              0\n",
       "date_block_num    0\n",
       "shop_id           0\n",
       "item_id           0\n",
       "item_price        0\n",
       "item_cnt_day      0\n",
       "dtype: int64"
      ]
     },
     "execution_count": 45,
     "metadata": {},
     "output_type": "execute_result"
    },
    {
     "data": {
      "text/plain": [
       "ID         0\n",
       "shop_id    0\n",
       "item_id    0\n",
       "dtype: int64"
      ]
     },
     "execution_count": 45,
     "metadata": {},
     "output_type": "execute_result"
    }
   ],
   "source": [
    "sales.isnull().sum()\n",
    "test.isnull().sum()"
   ]
  },
  {
   "cell_type": "markdown",
   "metadata": {},
   "source": [
    "Good! There are no missing values, so we don't have to do anything about it"
   ]
  },
  {
   "cell_type": "markdown",
   "metadata": {},
   "source": [
    "<h3>Outliers</h3>"
   ]
  },
  {
   "cell_type": "code",
   "execution_count": 46,
   "metadata": {},
   "outputs": [
    {
     "data": {
      "text/plain": [
       "<matplotlib.axes._subplots.AxesSubplot at 0x21194474548>"
      ]
     },
     "execution_count": 46,
     "metadata": {},
     "output_type": "execute_result"
    },
    {
     "data": {
      "image/png": "[encoded data removed]",
      "text/plain": [
       "<Figure size 432x288 with 1 Axes>"
      ]
     },
     "metadata": {
      "needs_background": "light"
     },
     "output_type": "display_data"
    }
   ],
   "source": [
    "sales.item_price.plot()"
   ]
  },
  {
   "cell_type": "markdown",
   "metadata": {},
   "source": [
    "We can notice a price outlier; let's examinate it"
   ]
  },
  {
   "cell_type": "code",
   "execution_count": 47,
   "metadata": {},
   "outputs": [
    {
     "data": {
      "text/html": [
       "<div>\n",
       "<style scoped>\n",
       "    .dataframe tbody tr th:only-of-type {\n",
       "        vertical-align: middle;\n",
       "    }\n",
       "\n",
       "    .dataframe tbody tr th {\n",
       "        vertical-align: top;\n",
       "    }\n",
       "\n",
       "    .dataframe thead th {\n",
       "        text-align: right;\n",
       "    }\n",
       "</style>\n",
       "<table border=\"1\" class=\"dataframe\">\n",
       "  <thead>\n",
       "    <tr style=\"text-align: right;\">\n",
       "      <th></th>\n",
       "      <th>date</th>\n",
       "      <th>date_block_num</th>\n",
       "      <th>shop_id</th>\n",
       "      <th>item_id</th>\n",
       "      <th>item_price</th>\n",
       "      <th>item_cnt_day</th>\n",
       "    </tr>\n",
       "  </thead>\n",
       "  <tbody>\n",
       "    <tr>\n",
       "      <th>885138</th>\n",
       "      <td>17.09.2013</td>\n",
       "      <td>8</td>\n",
       "      <td>12</td>\n",
       "      <td>11365</td>\n",
       "      <td>59200.0</td>\n",
       "      <td>1.0</td>\n",
       "    </tr>\n",
       "    <tr>\n",
       "      <th>1163158</th>\n",
       "      <td>13.12.2013</td>\n",
       "      <td>11</td>\n",
       "      <td>12</td>\n",
       "      <td>6066</td>\n",
       "      <td>307980.0</td>\n",
       "      <td>1.0</td>\n",
       "    </tr>\n",
       "    <tr>\n",
       "      <th>1488135</th>\n",
       "      <td>20.03.2014</td>\n",
       "      <td>14</td>\n",
       "      <td>25</td>\n",
       "      <td>13199</td>\n",
       "      <td>50999.0</td>\n",
       "      <td>1.0</td>\n",
       "    </tr>\n",
       "  </tbody>\n",
       "</table>\n",
       "</div>"
      ],
      "text/plain": [
       "               date  date_block_num  shop_id  item_id  item_price  \\\n",
       "885138   17.09.2013               8       12    11365     59200.0   \n",
       "1163158  13.12.2013              11       12     6066    307980.0   \n",
       "1488135  20.03.2014              14       25    13199     50999.0   \n",
       "\n",
       "         item_cnt_day  \n",
       "885138            1.0  \n",
       "1163158           1.0  \n",
       "1488135           1.0  "
      ]
     },
     "execution_count": 47,
     "metadata": {},
     "output_type": "execute_result"
    }
   ],
   "source": [
    "sales[sales['item_price'] > 50000]"
   ]
  },
  {
   "cell_type": "code",
   "execution_count": 48,
   "metadata": {},
   "outputs": [
    {
     "data": {
      "text/plain": [
       "<matplotlib.axes._subplots.AxesSubplot at 0x21193d78e48>"
      ]
     },
     "execution_count": 48,
     "metadata": {},
     "output_type": "execute_result"
    },
    {
     "data": {
      "image/png": "[encoded data removed]",
      "text/plain": [
       "<Figure size 432x288 with 1 Axes>"
      ]
     },
     "metadata": {
      "needs_background": "light"
     },
     "output_type": "display_data"
    }
   ],
   "source": [
    "sales.item_cnt_day.plot()"
   ]
  },
  {
   "cell_type": "markdown",
   "metadata": {},
   "source": [
    "We can notice 2 outliers of items solds; let's examinate it"
   ]
  },
  {
   "cell_type": "code",
   "execution_count": 49,
   "metadata": {},
   "outputs": [
    {
     "data": {
      "text/html": [
       "<div>\n",
       "<style scoped>\n",
       "    .dataframe tbody tr th:only-of-type {\n",
       "        vertical-align: middle;\n",
       "    }\n",
       "\n",
       "    .dataframe tbody tr th {\n",
       "        vertical-align: top;\n",
       "    }\n",
       "\n",
       "    .dataframe thead th {\n",
       "        text-align: right;\n",
       "    }\n",
       "</style>\n",
       "<table border=\"1\" class=\"dataframe\">\n",
       "  <thead>\n",
       "    <tr style=\"text-align: right;\">\n",
       "      <th></th>\n",
       "      <th>date</th>\n",
       "      <th>date_block_num</th>\n",
       "      <th>shop_id</th>\n",
       "      <th>item_id</th>\n",
       "      <th>item_price</th>\n",
       "      <th>item_cnt_day</th>\n",
       "    </tr>\n",
       "  </thead>\n",
       "  <tbody>\n",
       "    <tr>\n",
       "      <th>2326930</th>\n",
       "      <td>15.01.2015</td>\n",
       "      <td>24</td>\n",
       "      <td>12</td>\n",
       "      <td>20949</td>\n",
       "      <td>4.000000</td>\n",
       "      <td>1000.0</td>\n",
       "    </tr>\n",
       "    <tr>\n",
       "      <th>2909818</th>\n",
       "      <td>28.10.2015</td>\n",
       "      <td>33</td>\n",
       "      <td>12</td>\n",
       "      <td>11373</td>\n",
       "      <td>0.908714</td>\n",
       "      <td>2169.0</td>\n",
       "    </tr>\n",
       "  </tbody>\n",
       "</table>\n",
       "</div>"
      ],
      "text/plain": [
       "               date  date_block_num  shop_id  item_id  item_price  \\\n",
       "2326930  15.01.2015              24       12    20949    4.000000   \n",
       "2909818  28.10.2015              33       12    11373    0.908714   \n",
       "\n",
       "         item_cnt_day  \n",
       "2326930        1000.0  \n",
       "2909818        2169.0  "
      ]
     },
     "execution_count": 49,
     "metadata": {},
     "output_type": "execute_result"
    }
   ],
   "source": [
    "sales[sales['item_cnt_day'] > 900]"
   ]
  },
  {
   "cell_type": "markdown",
   "metadata": {},
   "source": [
    "Let's filters those outliers"
   ]
  },
  {
   "cell_type": "code",
   "execution_count": 50,
   "metadata": {},
   "outputs": [
    {
     "data": {
      "text/plain": [
       "(2935844, 6)"
      ]
     },
     "execution_count": 50,
     "metadata": {},
     "output_type": "execute_result"
    }
   ],
   "source": [
    "time_mask = (sales['item_cnt_day'] < 900) & (sales['item_price'] < 50000)\n",
    "sales = sales[time_mask]\n",
    "sales.shape"
   ]
  },
  {
   "cell_type": "markdown",
   "metadata": {},
   "source": [
    "Now let's see if there are other meaningful informations"
   ]
  },
  {
   "cell_type": "code",
   "execution_count": 51,
   "metadata": {},
   "outputs": [
    {
     "data": {
      "text/html": [
       "<div>\n",
       "<style scoped>\n",
       "    .dataframe tbody tr th:only-of-type {\n",
       "        vertical-align: middle;\n",
       "    }\n",
       "\n",
       "    .dataframe tbody tr th {\n",
       "        vertical-align: top;\n",
       "    }\n",
       "\n",
       "    .dataframe thead th {\n",
       "        text-align: right;\n",
       "    }\n",
       "</style>\n",
       "<table border=\"1\" class=\"dataframe\">\n",
       "  <thead>\n",
       "    <tr style=\"text-align: right;\">\n",
       "      <th></th>\n",
       "      <th>date_block_num</th>\n",
       "      <th>shop_id</th>\n",
       "      <th>item_id</th>\n",
       "      <th>item_price</th>\n",
       "      <th>item_cnt_day</th>\n",
       "    </tr>\n",
       "  </thead>\n",
       "  <tbody>\n",
       "    <tr>\n",
       "      <th>count</th>\n",
       "      <td>2.935844e+06</td>\n",
       "      <td>2.935844e+06</td>\n",
       "      <td>2.935844e+06</td>\n",
       "      <td>2.935844e+06</td>\n",
       "      <td>2.935844e+06</td>\n",
       "    </tr>\n",
       "    <tr>\n",
       "      <th>mean</th>\n",
       "      <td>1.456991e+01</td>\n",
       "      <td>3.300176e+01</td>\n",
       "      <td>1.019722e+04</td>\n",
       "      <td>8.907123e+02</td>\n",
       "      <td>1.241563e+00</td>\n",
       "    </tr>\n",
       "    <tr>\n",
       "      <th>std</th>\n",
       "      <td>9.422987e+00</td>\n",
       "      <td>1.622697e+01</td>\n",
       "      <td>6.324299e+03</td>\n",
       "      <td>1.719906e+03</td>\n",
       "      <td>2.217636e+00</td>\n",
       "    </tr>\n",
       "    <tr>\n",
       "      <th>min</th>\n",
       "      <td>0.000000e+00</td>\n",
       "      <td>0.000000e+00</td>\n",
       "      <td>0.000000e+00</td>\n",
       "      <td>-1.000000e+00</td>\n",
       "      <td>-2.200000e+01</td>\n",
       "    </tr>\n",
       "    <tr>\n",
       "      <th>25%</th>\n",
       "      <td>7.000000e+00</td>\n",
       "      <td>2.200000e+01</td>\n",
       "      <td>4.476000e+03</td>\n",
       "      <td>2.490000e+02</td>\n",
       "      <td>1.000000e+00</td>\n",
       "    </tr>\n",
       "    <tr>\n",
       "      <th>50%</th>\n",
       "      <td>1.400000e+01</td>\n",
       "      <td>3.100000e+01</td>\n",
       "      <td>9.343000e+03</td>\n",
       "      <td>3.990000e+02</td>\n",
       "      <td>1.000000e+00</td>\n",
       "    </tr>\n",
       "    <tr>\n",
       "      <th>75%</th>\n",
       "      <td>2.300000e+01</td>\n",
       "      <td>4.700000e+01</td>\n",
       "      <td>1.568400e+04</td>\n",
       "      <td>9.990000e+02</td>\n",
       "      <td>1.000000e+00</td>\n",
       "    </tr>\n",
       "    <tr>\n",
       "      <th>max</th>\n",
       "      <td>3.300000e+01</td>\n",
       "      <td>5.900000e+01</td>\n",
       "      <td>2.216900e+04</td>\n",
       "      <td>4.978200e+04</td>\n",
       "      <td>6.690000e+02</td>\n",
       "    </tr>\n",
       "  </tbody>\n",
       "</table>\n",
       "</div>"
      ],
      "text/plain": [
       "       date_block_num       shop_id       item_id    item_price  item_cnt_day\n",
       "count    2.935844e+06  2.935844e+06  2.935844e+06  2.935844e+06  2.935844e+06\n",
       "mean     1.456991e+01  3.300176e+01  1.019722e+04  8.907123e+02  1.241563e+00\n",
       "std      9.422987e+00  1.622697e+01  6.324299e+03  1.719906e+03  2.217636e+00\n",
       "min      0.000000e+00  0.000000e+00  0.000000e+00 -1.000000e+00 -2.200000e+01\n",
       "25%      7.000000e+00  2.200000e+01  4.476000e+03  2.490000e+02  1.000000e+00\n",
       "50%      1.400000e+01  3.100000e+01  9.343000e+03  3.990000e+02  1.000000e+00\n",
       "75%      2.300000e+01  4.700000e+01  1.568400e+04  9.990000e+02  1.000000e+00\n",
       "max      3.300000e+01  5.900000e+01  2.216900e+04  4.978200e+04  6.690000e+02"
      ]
     },
     "execution_count": 51,
     "metadata": {},
     "output_type": "execute_result"
    },
    {
     "name": "stdout",
     "output_type": "stream",
     "text": [
      "<class 'pandas.core.frame.DataFrame'>\n",
      "Int64Index: 2935844 entries, 0 to 2935848\n",
      "Data columns (total 6 columns):\n",
      "date              object\n",
      "date_block_num    int64\n",
      "shop_id           int64\n",
      "item_id           int64\n",
      "item_price        float64\n",
      "item_cnt_day      float64\n",
      "dtypes: float64(2), int64(3), object(1)\n",
      "memory usage: 156.8+ MB\n"
     ]
    }
   ],
   "source": [
    "sales.describe()\n",
    "sales.info()"
   ]
  },
  {
   "cell_type": "code",
   "execution_count": 52,
   "metadata": {},
   "outputs": [
    {
     "data": {
      "text/plain": [
       "0                       !Якутск Орджоникидзе, 56 фран\n",
       "1                       !Якутск ТЦ \"Центральный\" фран\n",
       "2                                    Адыгея ТЦ \"Мега\"\n",
       "3                      Балашиха ТРК \"Октябрь-Киномир\"\n",
       "4                            Волжский ТЦ \"Волга Молл\"\n",
       "5                              Вологда ТРЦ \"Мармелад\"\n",
       "6                          Воронеж (Плехановская, 13)\n",
       "7                              Воронеж ТРЦ \"Максимир\"\n",
       "8                        Воронеж ТРЦ Сити-Парк \"Град\"\n",
       "9                                   Выездная Торговля\n",
       "10                         Жуковский ул. Чкалова 39м?\n",
       "11                         Жуковский ул. Чкалова 39м²\n",
       "12                                Интернет-магазин ЧС\n",
       "13                                Казань ТЦ \"Бехетле\"\n",
       "14                            Казань ТЦ \"ПаркХаус\" II\n",
       "15                               Калуга ТРЦ \"XXI век\"\n",
       "16                                   Коломна ТЦ \"Рио\"\n",
       "17                      Красноярск ТЦ \"Взлетка Плаза\"\n",
       "18                               Красноярск ТЦ \"Июнь\"\n",
       "19                              Курск ТЦ \"Пушкинский\"\n",
       "20                                Москва \"Распродажа\"\n",
       "21                             Москва МТРЦ \"Афи Молл\"\n",
       "22                                 Москва Магазин С21\n",
       "23                   Москва ТК \"Буденовский\" (пав.А2)\n",
       "24                   Москва ТК \"Буденовский\" (пав.К7)\n",
       "25                                Москва ТРК \"Атриум\"\n",
       "26                        Москва ТЦ \"Ареал\" (Беляево)\n",
       "27                     Москва ТЦ \"МЕГА Белая Дача II\"\n",
       "28                    Москва ТЦ \"МЕГА Теплый Стан\" II\n",
       "29                 Москва ТЦ \"Новый век\" (Новокосино)\n",
       "30                             Москва ТЦ \"Перловский\"\n",
       "31                            Москва ТЦ \"Семеновский\"\n",
       "32                         Москва ТЦ \"Серебряный Дом\"\n",
       "33                                  Мытищи ТРК \"XL-3\"\n",
       "34                               Н.Новгород ТРЦ \"РИО\"\n",
       "35                        Н.Новгород ТРЦ \"Фантастика\"\n",
       "36              Новосибирск ТРЦ \"Галерея Новосибирск\"\n",
       "37                              Новосибирск ТЦ \"Мега\"\n",
       "38                                     Омск ТЦ \"Мега\"\n",
       "39              РостовНаДону ТРК \"Мегацентр Горизонт\"\n",
       "40    РостовНаДону ТРК \"Мегацентр Горизонт\" Островной\n",
       "41                             РостовНаДону ТЦ \"Мега\"\n",
       "42                             СПб ТК \"Невский Центр\"\n",
       "43                                    СПб ТК \"Сенная\"\n",
       "44                                Самара ТЦ \"Мелодия\"\n",
       "45                               Самара ТЦ \"ПаркХаус\"\n",
       "46                              Сергиев Посад ТЦ \"7Я\"\n",
       "47                             Сургут ТРЦ \"Сити Молл\"\n",
       "48                       Томск ТРЦ \"Изумрудный Город\"\n",
       "49                              Тюмень ТРЦ \"Кристалл\"\n",
       "50                                 Тюмень ТЦ \"Гудвин\"\n",
       "51                          Тюмень ТЦ \"Зеленый Берег\"\n",
       "52                               Уфа ТК \"Центральный\"\n",
       "53                                   Уфа ТЦ \"Семья\" 2\n",
       "54                                    Химки ТЦ \"Мега\"\n",
       "55                           Цифровой склад 1С-Онлайн\n",
       "56                               Чехов ТРЦ \"Карнавал\"\n",
       "57                            Якутск Орджоникидзе, 56\n",
       "58                            Якутск ТЦ \"Центральный\"\n",
       "59                             Ярославль ТЦ \"Альтаир\"\n",
       "Name: shop_name, dtype: object"
      ]
     },
     "execution_count": 52,
     "metadata": {},
     "output_type": "execute_result"
    }
   ],
   "source": [
    "shop.shop_name"
   ]
  },
  {
   "cell_type": "markdown",
   "metadata": {},
   "source": [
    "We can notice how in those shops name there are some recurrent values, like \"ТЦ\", \"ТК\" and so on..\n",
    "This can be useful for binning."
   ]
  },
  {
   "cell_type": "markdown",
   "metadata": {},
   "source": [
    "A similar concept is present on the item categories"
   ]
  },
  {
   "cell_type": "code",
   "execution_count": 53,
   "metadata": {},
   "outputs": [
    {
     "data": {
      "text/plain": [
       "array(['PC - Гарнитуры/Наушники', 'Аксессуары - PS2', 'Аксессуары - PS3',\n",
       "       'Аксессуары - PS4', 'Аксессуары - PSP', 'Аксессуары - PSVita',\n",
       "       'Аксессуары - XBOX 360', 'Аксессуары - XBOX ONE', 'Билеты (Цифра)',\n",
       "       'Доставка товара', 'Игровые консоли - PS2',\n",
       "       'Игровые консоли - PS3', 'Игровые консоли - PS4',\n",
       "       'Игровые консоли - PSP', 'Игровые консоли - PSVita',\n",
       "       'Игровые консоли - XBOX 360', 'Игровые консоли - XBOX ONE',\n",
       "       'Игровые консоли - Прочие', 'Игры - PS2', 'Игры - PS3',\n",
       "       'Игры - PS4', 'Игры - PSP', 'Игры - PSVita', 'Игры - XBOX 360',\n",
       "       'Игры - XBOX ONE', 'Игры - Аксессуары для игр',\n",
       "       'Игры Android - Цифра', 'Игры MAC - Цифра',\n",
       "       'Игры PC - Дополнительные издания',\n",
       "       'Игры PC - Коллекционные издания', 'Игры PC - Стандартные издания',\n",
       "       'Игры PC - Цифра', 'Карты оплаты (Кино, Музыка, Игры)',\n",
       "       'Карты оплаты - Live!', 'Карты оплаты - Live! (Цифра)',\n",
       "       'Карты оплаты - PSN', 'Карты оплаты - Windows (Цифра)',\n",
       "       'Кино - Blu-Ray', 'Кино - Blu-Ray 3D', 'Кино - Blu-Ray 4K',\n",
       "       'Кино - DVD', 'Кино - Коллекционное',\n",
       "       'Книги - Артбуки, энциклопедии', 'Книги - Аудиокниги',\n",
       "       'Книги - Аудиокниги (Цифра)', 'Книги - Аудиокниги 1С',\n",
       "       'Книги - Бизнес литература', 'Книги - Комиксы, манга',\n",
       "       'Книги - Компьютерная литература',\n",
       "       'Книги - Методические материалы 1С', 'Книги - Открытки',\n",
       "       'Книги - Познавательная литература', 'Книги - Путеводители',\n",
       "       'Книги - Художественная литература', 'Книги - Цифра',\n",
       "       'Музыка - CD локального производства',\n",
       "       'Музыка - CD фирменного производства', 'Музыка - MP3',\n",
       "       'Музыка - Винил', 'Музыка - Музыкальное видео',\n",
       "       'Музыка - Подарочные издания', 'Подарки - Атрибутика',\n",
       "       'Подарки - Гаджеты, роботы, спорт', 'Подарки - Мягкие игрушки',\n",
       "       'Подарки - Настольные игры',\n",
       "       'Подарки - Настольные игры (компактные)',\n",
       "       'Подарки - Открытки, наклейки', 'Подарки - Развитие',\n",
       "       'Подарки - Сертификаты, услуги', 'Подарки - Сувениры',\n",
       "       'Подарки - Сувениры (в навеску)',\n",
       "       'Подарки - Сумки, Альбомы, Коврики д/мыши', 'Подарки - Фигурки',\n",
       "       'Программы - 1С:Предприятие 8', 'Программы - MAC (Цифра)',\n",
       "       'Программы - Для дома и офиса',\n",
       "       'Программы - Для дома и офиса (Цифра)', 'Программы - Обучающие',\n",
       "       'Программы - Обучающие (Цифра)', 'Служебные', 'Служебные - Билеты',\n",
       "       'Чистые носители (шпиль)', 'Чистые носители (штучные)',\n",
       "       'Элементы питания'], dtype=object)"
      ]
     },
     "execution_count": 53,
     "metadata": {},
     "output_type": "execute_result"
    }
   ],
   "source": [
    "item_cats.item_category_name.unique()"
   ]
  },
  {
   "cell_type": "markdown",
   "metadata": {},
   "source": [
    "Notice how names like \"Книги\", \"Подарки\" and so on, are repeated."
   ]
  },
  {
   "cell_type": "markdown",
   "metadata": {},
   "source": [
    "So to recap, we had discover some interesting things:<ul>\n",
    "    <li>there aren't null values</li>\n",
    "    <li>we have found some outliers and delete it</li>\n",
    "    <li>we have some item sold for a that day/shop/item that are negative\n",
    "(return of items)</li>\n",
    "    <li>the 87% of instances has 1 item sold and 7.6% of 2</li>\n",
    "    <li>shops and item category names contains recurrent values</li>\n",
    "</ul>"
   ]
  },
  {
   "cell_type": "markdown",
   "metadata": {},
   "source": [
    "<h2>Data preprocessing</h2>"
   ]
  },
  {
   "cell_type": "markdown",
   "metadata": {},
   "source": [
    "<h3>Fix duplicates</h3>"
   ]
  },
  {
   "cell_type": "markdown",
   "metadata": {},
   "source": [
    "According to some discussion on Kaggle for those that don't speak russian, there are some duplicates shops: let's fix it!"
   ]
  },
  {
   "cell_type": "code",
   "execution_count": 54,
   "metadata": {},
   "outputs": [],
   "source": [
    "# Shop id 0 and 57 are the same\n",
    "sales.loc[sales.shop_id == 0, 'shop_id'] = 57\n",
    "test.loc[test.shop_id == 0, 'shop_id'] = 57\n",
    "\n",
    "# Shop id 1 and 58 are the same\n",
    "sales.loc[sales.shop_id == 1, 'shop_id'] = 58\n",
    "test.loc[test.shop_id == 1, 'shop_id'] = 58\n",
    "\n",
    "# Shop id 10 and 11 are the same\n",
    "sales.loc[sales.shop_id == 10, 'shop_id'] = 11\n",
    "test.loc[test.shop_id == 10, 'shop_id'] = 11\n",
    "\n",
    "# Shop id 39 and 40 are the same\n",
    "sales.loc[sales.shop_id == 39, 'shop_id'] = 40\n",
    "test.loc[test.shop_id == 39, 'shop_id'] = 40"
   ]
  },
  {
   "cell_type": "markdown",
   "metadata": {},
   "source": [
    "<h3>Binning</h3>"
   ]
  },
  {
   "cell_type": "markdown",
   "metadata": {},
   "source": [
    "Let's group togheter some shop with similar names"
   ]
  },
  {
   "cell_type": "code",
   "execution_count": 56,
   "metadata": {},
   "outputs": [
    {
     "data": {
      "text/plain": [
       "ТЦ                27\n",
       "ТРЦ               11\n",
       "ТК                 5\n",
       "ТРК                5\n",
       "ул.                2\n",
       "Орджоникидзе,      2\n",
       "склад              1\n",
       "(Плехановская,     1\n",
       "Магазин            1\n",
       "Посад              1\n",
       "\"Распродажа\"       1\n",
       "ЧС                 1\n",
       "Торговля           1\n",
       "МТРЦ               1\n",
       "Name: shop_category, dtype: int64"
      ]
     },
     "execution_count": 56,
     "metadata": {},
     "output_type": "execute_result"
    }
   ],
   "source": [
    "shop['shop_category'] = shop['shop_name'].str.split(' ').map(lambda x:x[1]).astype(str)\n",
    "shop['shop_category'].value_counts(ascending=False)"
   ]
  },
  {
   "cell_type": "markdown",
   "metadata": {},
   "source": [
    "Very well! Since there are categories with small values, we can group togheter!"
   ]
  },
  {
   "cell_type": "code",
   "execution_count": 57,
   "metadata": {},
   "outputs": [
    {
     "data": {
      "text/plain": [
       "ТЦ        27\n",
       "others    12\n",
       "ТРЦ       11\n",
       "ТК         5\n",
       "ТРК        5\n",
       "Name: shop_category, dtype: int64"
      ]
     },
     "execution_count": 57,
     "metadata": {},
     "output_type": "execute_result"
    }
   ],
   "source": [
    "category = ['ТЦ', 'ТРК', 'ТРЦ', 'ТК']\n",
    "shop['shop_category'] = shop['shop_category'].apply(lambda x: x if (x in category) else 'others')\n",
    "shop['shop_category'].value_counts(ascending=False)"
   ]
  },
  {
   "cell_type": "markdown",
   "metadata": {},
   "source": [
    "Now we can encode those names"
   ]
  },
  {
   "cell_type": "code",
   "execution_count": 58,
   "metadata": {},
   "outputs": [
    {
     "data": {
      "text/html": [
       "<div>\n",
       "<style scoped>\n",
       "    .dataframe tbody tr th:only-of-type {\n",
       "        vertical-align: middle;\n",
       "    }\n",
       "\n",
       "    .dataframe tbody tr th {\n",
       "        vertical-align: top;\n",
       "    }\n",
       "\n",
       "    .dataframe thead th {\n",
       "        text-align: right;\n",
       "    }\n",
       "</style>\n",
       "<table border=\"1\" class=\"dataframe\">\n",
       "  <thead>\n",
       "    <tr style=\"text-align: right;\">\n",
       "      <th></th>\n",
       "      <th>shop_name</th>\n",
       "      <th>shop_id</th>\n",
       "      <th>shop_category</th>\n",
       "      <th>shop_category_code</th>\n",
       "    </tr>\n",
       "  </thead>\n",
       "  <tbody>\n",
       "    <tr>\n",
       "      <th>0</th>\n",
       "      <td>!Якутск Орджоникидзе, 56 фран</td>\n",
       "      <td>0</td>\n",
       "      <td>others</td>\n",
       "      <td>0</td>\n",
       "    </tr>\n",
       "    <tr>\n",
       "      <th>1</th>\n",
       "      <td>!Якутск ТЦ \"Центральный\" фран</td>\n",
       "      <td>1</td>\n",
       "      <td>ТЦ</td>\n",
       "      <td>4</td>\n",
       "    </tr>\n",
       "    <tr>\n",
       "      <th>2</th>\n",
       "      <td>Адыгея ТЦ \"Мега\"</td>\n",
       "      <td>2</td>\n",
       "      <td>ТЦ</td>\n",
       "      <td>4</td>\n",
       "    </tr>\n",
       "    <tr>\n",
       "      <th>3</th>\n",
       "      <td>Балашиха ТРК \"Октябрь-Киномир\"</td>\n",
       "      <td>3</td>\n",
       "      <td>ТРК</td>\n",
       "      <td>2</td>\n",
       "    </tr>\n",
       "    <tr>\n",
       "      <th>4</th>\n",
       "      <td>Волжский ТЦ \"Волга Молл\"</td>\n",
       "      <td>4</td>\n",
       "      <td>ТЦ</td>\n",
       "      <td>4</td>\n",
       "    </tr>\n",
       "    <tr>\n",
       "      <th>5</th>\n",
       "      <td>Вологда ТРЦ \"Мармелад\"</td>\n",
       "      <td>5</td>\n",
       "      <td>ТРЦ</td>\n",
       "      <td>3</td>\n",
       "    </tr>\n",
       "    <tr>\n",
       "      <th>6</th>\n",
       "      <td>Воронеж (Плехановская, 13)</td>\n",
       "      <td>6</td>\n",
       "      <td>others</td>\n",
       "      <td>0</td>\n",
       "    </tr>\n",
       "    <tr>\n",
       "      <th>7</th>\n",
       "      <td>Воронеж ТРЦ \"Максимир\"</td>\n",
       "      <td>7</td>\n",
       "      <td>ТРЦ</td>\n",
       "      <td>3</td>\n",
       "    </tr>\n",
       "    <tr>\n",
       "      <th>8</th>\n",
       "      <td>Воронеж ТРЦ Сити-Парк \"Град\"</td>\n",
       "      <td>8</td>\n",
       "      <td>ТРЦ</td>\n",
       "      <td>3</td>\n",
       "    </tr>\n",
       "    <tr>\n",
       "      <th>9</th>\n",
       "      <td>Выездная Торговля</td>\n",
       "      <td>9</td>\n",
       "      <td>others</td>\n",
       "      <td>0</td>\n",
       "    </tr>\n",
       "    <tr>\n",
       "      <th>10</th>\n",
       "      <td>Жуковский ул. Чкалова 39м?</td>\n",
       "      <td>10</td>\n",
       "      <td>others</td>\n",
       "      <td>0</td>\n",
       "    </tr>\n",
       "    <tr>\n",
       "      <th>11</th>\n",
       "      <td>Жуковский ул. Чкалова 39м²</td>\n",
       "      <td>11</td>\n",
       "      <td>others</td>\n",
       "      <td>0</td>\n",
       "    </tr>\n",
       "    <tr>\n",
       "      <th>12</th>\n",
       "      <td>Интернет-магазин ЧС</td>\n",
       "      <td>12</td>\n",
       "      <td>others</td>\n",
       "      <td>0</td>\n",
       "    </tr>\n",
       "    <tr>\n",
       "      <th>13</th>\n",
       "      <td>Казань ТЦ \"Бехетле\"</td>\n",
       "      <td>13</td>\n",
       "      <td>ТЦ</td>\n",
       "      <td>4</td>\n",
       "    </tr>\n",
       "    <tr>\n",
       "      <th>14</th>\n",
       "      <td>Казань ТЦ \"ПаркХаус\" II</td>\n",
       "      <td>14</td>\n",
       "      <td>ТЦ</td>\n",
       "      <td>4</td>\n",
       "    </tr>\n",
       "    <tr>\n",
       "      <th>15</th>\n",
       "      <td>Калуга ТРЦ \"XXI век\"</td>\n",
       "      <td>15</td>\n",
       "      <td>ТРЦ</td>\n",
       "      <td>3</td>\n",
       "    </tr>\n",
       "    <tr>\n",
       "      <th>16</th>\n",
       "      <td>Коломна ТЦ \"Рио\"</td>\n",
       "      <td>16</td>\n",
       "      <td>ТЦ</td>\n",
       "      <td>4</td>\n",
       "    </tr>\n",
       "    <tr>\n",
       "      <th>17</th>\n",
       "      <td>Красноярск ТЦ \"Взлетка Плаза\"</td>\n",
       "      <td>17</td>\n",
       "      <td>ТЦ</td>\n",
       "      <td>4</td>\n",
       "    </tr>\n",
       "    <tr>\n",
       "      <th>18</th>\n",
       "      <td>Красноярск ТЦ \"Июнь\"</td>\n",
       "      <td>18</td>\n",
       "      <td>ТЦ</td>\n",
       "      <td>4</td>\n",
       "    </tr>\n",
       "    <tr>\n",
       "      <th>19</th>\n",
       "      <td>Курск ТЦ \"Пушкинский\"</td>\n",
       "      <td>19</td>\n",
       "      <td>ТЦ</td>\n",
       "      <td>4</td>\n",
       "    </tr>\n",
       "    <tr>\n",
       "      <th>20</th>\n",
       "      <td>Москва \"Распродажа\"</td>\n",
       "      <td>20</td>\n",
       "      <td>others</td>\n",
       "      <td>0</td>\n",
       "    </tr>\n",
       "    <tr>\n",
       "      <th>21</th>\n",
       "      <td>Москва МТРЦ \"Афи Молл\"</td>\n",
       "      <td>21</td>\n",
       "      <td>others</td>\n",
       "      <td>0</td>\n",
       "    </tr>\n",
       "    <tr>\n",
       "      <th>22</th>\n",
       "      <td>Москва Магазин С21</td>\n",
       "      <td>22</td>\n",
       "      <td>others</td>\n",
       "      <td>0</td>\n",
       "    </tr>\n",
       "    <tr>\n",
       "      <th>23</th>\n",
       "      <td>Москва ТК \"Буденовский\" (пав.А2)</td>\n",
       "      <td>23</td>\n",
       "      <td>ТК</td>\n",
       "      <td>1</td>\n",
       "    </tr>\n",
       "    <tr>\n",
       "      <th>24</th>\n",
       "      <td>Москва ТК \"Буденовский\" (пав.К7)</td>\n",
       "      <td>24</td>\n",
       "      <td>ТК</td>\n",
       "      <td>1</td>\n",
       "    </tr>\n",
       "    <tr>\n",
       "      <th>25</th>\n",
       "      <td>Москва ТРК \"Атриум\"</td>\n",
       "      <td>25</td>\n",
       "      <td>ТРК</td>\n",
       "      <td>2</td>\n",
       "    </tr>\n",
       "    <tr>\n",
       "      <th>26</th>\n",
       "      <td>Москва ТЦ \"Ареал\" (Беляево)</td>\n",
       "      <td>26</td>\n",
       "      <td>ТЦ</td>\n",
       "      <td>4</td>\n",
       "    </tr>\n",
       "    <tr>\n",
       "      <th>27</th>\n",
       "      <td>Москва ТЦ \"МЕГА Белая Дача II\"</td>\n",
       "      <td>27</td>\n",
       "      <td>ТЦ</td>\n",
       "      <td>4</td>\n",
       "    </tr>\n",
       "    <tr>\n",
       "      <th>28</th>\n",
       "      <td>Москва ТЦ \"МЕГА Теплый Стан\" II</td>\n",
       "      <td>28</td>\n",
       "      <td>ТЦ</td>\n",
       "      <td>4</td>\n",
       "    </tr>\n",
       "    <tr>\n",
       "      <th>29</th>\n",
       "      <td>Москва ТЦ \"Новый век\" (Новокосино)</td>\n",
       "      <td>29</td>\n",
       "      <td>ТЦ</td>\n",
       "      <td>4</td>\n",
       "    </tr>\n",
       "    <tr>\n",
       "      <th>30</th>\n",
       "      <td>Москва ТЦ \"Перловский\"</td>\n",
       "      <td>30</td>\n",
       "      <td>ТЦ</td>\n",
       "      <td>4</td>\n",
       "    </tr>\n",
       "    <tr>\n",
       "      <th>31</th>\n",
       "      <td>Москва ТЦ \"Семеновский\"</td>\n",
       "      <td>31</td>\n",
       "      <td>ТЦ</td>\n",
       "      <td>4</td>\n",
       "    </tr>\n",
       "    <tr>\n",
       "      <th>32</th>\n",
       "      <td>Москва ТЦ \"Серебряный Дом\"</td>\n",
       "      <td>32</td>\n",
       "      <td>ТЦ</td>\n",
       "      <td>4</td>\n",
       "    </tr>\n",
       "    <tr>\n",
       "      <th>33</th>\n",
       "      <td>Мытищи ТРК \"XL-3\"</td>\n",
       "      <td>33</td>\n",
       "      <td>ТРК</td>\n",
       "      <td>2</td>\n",
       "    </tr>\n",
       "    <tr>\n",
       "      <th>34</th>\n",
       "      <td>Н.Новгород ТРЦ \"РИО\"</td>\n",
       "      <td>34</td>\n",
       "      <td>ТРЦ</td>\n",
       "      <td>3</td>\n",
       "    </tr>\n",
       "    <tr>\n",
       "      <th>35</th>\n",
       "      <td>Н.Новгород ТРЦ \"Фантастика\"</td>\n",
       "      <td>35</td>\n",
       "      <td>ТРЦ</td>\n",
       "      <td>3</td>\n",
       "    </tr>\n",
       "    <tr>\n",
       "      <th>36</th>\n",
       "      <td>Новосибирск ТРЦ \"Галерея Новосибирск\"</td>\n",
       "      <td>36</td>\n",
       "      <td>ТРЦ</td>\n",
       "      <td>3</td>\n",
       "    </tr>\n",
       "    <tr>\n",
       "      <th>37</th>\n",
       "      <td>Новосибирск ТЦ \"Мега\"</td>\n",
       "      <td>37</td>\n",
       "      <td>ТЦ</td>\n",
       "      <td>4</td>\n",
       "    </tr>\n",
       "    <tr>\n",
       "      <th>38</th>\n",
       "      <td>Омск ТЦ \"Мега\"</td>\n",
       "      <td>38</td>\n",
       "      <td>ТЦ</td>\n",
       "      <td>4</td>\n",
       "    </tr>\n",
       "    <tr>\n",
       "      <th>39</th>\n",
       "      <td>РостовНаДону ТРК \"Мегацентр Горизонт\"</td>\n",
       "      <td>39</td>\n",
       "      <td>ТРК</td>\n",
       "      <td>2</td>\n",
       "    </tr>\n",
       "    <tr>\n",
       "      <th>40</th>\n",
       "      <td>РостовНаДону ТРК \"Мегацентр Горизонт\" Островной</td>\n",
       "      <td>40</td>\n",
       "      <td>ТРК</td>\n",
       "      <td>2</td>\n",
       "    </tr>\n",
       "    <tr>\n",
       "      <th>41</th>\n",
       "      <td>РостовНаДону ТЦ \"Мега\"</td>\n",
       "      <td>41</td>\n",
       "      <td>ТЦ</td>\n",
       "      <td>4</td>\n",
       "    </tr>\n",
       "    <tr>\n",
       "      <th>42</th>\n",
       "      <td>СПб ТК \"Невский Центр\"</td>\n",
       "      <td>42</td>\n",
       "      <td>ТК</td>\n",
       "      <td>1</td>\n",
       "    </tr>\n",
       "    <tr>\n",
       "      <th>43</th>\n",
       "      <td>СПб ТК \"Сенная\"</td>\n",
       "      <td>43</td>\n",
       "      <td>ТК</td>\n",
       "      <td>1</td>\n",
       "    </tr>\n",
       "    <tr>\n",
       "      <th>44</th>\n",
       "      <td>Самара ТЦ \"Мелодия\"</td>\n",
       "      <td>44</td>\n",
       "      <td>ТЦ</td>\n",
       "      <td>4</td>\n",
       "    </tr>\n",
       "    <tr>\n",
       "      <th>45</th>\n",
       "      <td>Самара ТЦ \"ПаркХаус\"</td>\n",
       "      <td>45</td>\n",
       "      <td>ТЦ</td>\n",
       "      <td>4</td>\n",
       "    </tr>\n",
       "    <tr>\n",
       "      <th>46</th>\n",
       "      <td>Сергиев Посад ТЦ \"7Я\"</td>\n",
       "      <td>46</td>\n",
       "      <td>others</td>\n",
       "      <td>0</td>\n",
       "    </tr>\n",
       "    <tr>\n",
       "      <th>47</th>\n",
       "      <td>Сургут ТРЦ \"Сити Молл\"</td>\n",
       "      <td>47</td>\n",
       "      <td>ТРЦ</td>\n",
       "      <td>3</td>\n",
       "    </tr>\n",
       "    <tr>\n",
       "      <th>48</th>\n",
       "      <td>Томск ТРЦ \"Изумрудный Город\"</td>\n",
       "      <td>48</td>\n",
       "      <td>ТРЦ</td>\n",
       "      <td>3</td>\n",
       "    </tr>\n",
       "    <tr>\n",
       "      <th>49</th>\n",
       "      <td>Тюмень ТРЦ \"Кристалл\"</td>\n",
       "      <td>49</td>\n",
       "      <td>ТРЦ</td>\n",
       "      <td>3</td>\n",
       "    </tr>\n",
       "    <tr>\n",
       "      <th>50</th>\n",
       "      <td>Тюмень ТЦ \"Гудвин\"</td>\n",
       "      <td>50</td>\n",
       "      <td>ТЦ</td>\n",
       "      <td>4</td>\n",
       "    </tr>\n",
       "    <tr>\n",
       "      <th>51</th>\n",
       "      <td>Тюмень ТЦ \"Зеленый Берег\"</td>\n",
       "      <td>51</td>\n",
       "      <td>ТЦ</td>\n",
       "      <td>4</td>\n",
       "    </tr>\n",
       "    <tr>\n",
       "      <th>52</th>\n",
       "      <td>Уфа ТК \"Центральный\"</td>\n",
       "      <td>52</td>\n",
       "      <td>ТК</td>\n",
       "      <td>1</td>\n",
       "    </tr>\n",
       "    <tr>\n",
       "      <th>53</th>\n",
       "      <td>Уфа ТЦ \"Семья\" 2</td>\n",
       "      <td>53</td>\n",
       "      <td>ТЦ</td>\n",
       "      <td>4</td>\n",
       "    </tr>\n",
       "    <tr>\n",
       "      <th>54</th>\n",
       "      <td>Химки ТЦ \"Мега\"</td>\n",
       "      <td>54</td>\n",
       "      <td>ТЦ</td>\n",
       "      <td>4</td>\n",
       "    </tr>\n",
       "    <tr>\n",
       "      <th>55</th>\n",
       "      <td>Цифровой склад 1С-Онлайн</td>\n",
       "      <td>55</td>\n",
       "      <td>others</td>\n",
       "      <td>0</td>\n",
       "    </tr>\n",
       "    <tr>\n",
       "      <th>56</th>\n",
       "      <td>Чехов ТРЦ \"Карнавал\"</td>\n",
       "      <td>56</td>\n",
       "      <td>ТРЦ</td>\n",
       "      <td>3</td>\n",
       "    </tr>\n",
       "    <tr>\n",
       "      <th>57</th>\n",
       "      <td>Якутск Орджоникидзе, 56</td>\n",
       "      <td>57</td>\n",
       "      <td>others</td>\n",
       "      <td>0</td>\n",
       "    </tr>\n",
       "    <tr>\n",
       "      <th>58</th>\n",
       "      <td>Якутск ТЦ \"Центральный\"</td>\n",
       "      <td>58</td>\n",
       "      <td>ТЦ</td>\n",
       "      <td>4</td>\n",
       "    </tr>\n",
       "    <tr>\n",
       "      <th>59</th>\n",
       "      <td>Ярославль ТЦ \"Альтаир\"</td>\n",
       "      <td>59</td>\n",
       "      <td>ТЦ</td>\n",
       "      <td>4</td>\n",
       "    </tr>\n",
       "  </tbody>\n",
       "</table>\n",
       "</div>"
      ],
      "text/plain": [
       "                                          shop_name  shop_id shop_category  \\\n",
       "0                     !Якутск Орджоникидзе, 56 фран        0        others   \n",
       "1                     !Якутск ТЦ \"Центральный\" фран        1            ТЦ   \n",
       "2                                  Адыгея ТЦ \"Мега\"        2            ТЦ   \n",
       "3                    Балашиха ТРК \"Октябрь-Киномир\"        3           ТРК   \n",
       "4                          Волжский ТЦ \"Волга Молл\"        4            ТЦ   \n",
       "5                            Вологда ТРЦ \"Мармелад\"        5           ТРЦ   \n",
       "6                        Воронеж (Плехановская, 13)        6        others   \n",
       "7                            Воронеж ТРЦ \"Максимир\"        7           ТРЦ   \n",
       "8                      Воронеж ТРЦ Сити-Парк \"Град\"        8           ТРЦ   \n",
       "9                                 Выездная Торговля        9        others   \n",
       "10                       Жуковский ул. Чкалова 39м?       10        others   \n",
       "11                       Жуковский ул. Чкалова 39м²       11        others   \n",
       "12                              Интернет-магазин ЧС       12        others   \n",
       "13                              Казань ТЦ \"Бехетле\"       13            ТЦ   \n",
       "14                          Казань ТЦ \"ПаркХаус\" II       14            ТЦ   \n",
       "15                             Калуга ТРЦ \"XXI век\"       15           ТРЦ   \n",
       "16                                 Коломна ТЦ \"Рио\"       16            ТЦ   \n",
       "17                    Красноярск ТЦ \"Взлетка Плаза\"       17            ТЦ   \n",
       "18                             Красноярск ТЦ \"Июнь\"       18            ТЦ   \n",
       "19                            Курск ТЦ \"Пушкинский\"       19            ТЦ   \n",
       "20                              Москва \"Распродажа\"       20        others   \n",
       "21                           Москва МТРЦ \"Афи Молл\"       21        others   \n",
       "22                               Москва Магазин С21       22        others   \n",
       "23                 Москва ТК \"Буденовский\" (пав.А2)       23            ТК   \n",
       "24                 Москва ТК \"Буденовский\" (пав.К7)       24            ТК   \n",
       "25                              Москва ТРК \"Атриум\"       25           ТРК   \n",
       "26                      Москва ТЦ \"Ареал\" (Беляево)       26            ТЦ   \n",
       "27                   Москва ТЦ \"МЕГА Белая Дача II\"       27            ТЦ   \n",
       "28                  Москва ТЦ \"МЕГА Теплый Стан\" II       28            ТЦ   \n",
       "29               Москва ТЦ \"Новый век\" (Новокосино)       29            ТЦ   \n",
       "30                           Москва ТЦ \"Перловский\"       30            ТЦ   \n",
       "31                          Москва ТЦ \"Семеновский\"       31            ТЦ   \n",
       "32                       Москва ТЦ \"Серебряный Дом\"       32            ТЦ   \n",
       "33                                Мытищи ТРК \"XL-3\"       33           ТРК   \n",
       "34                             Н.Новгород ТРЦ \"РИО\"       34           ТРЦ   \n",
       "35                      Н.Новгород ТРЦ \"Фантастика\"       35           ТРЦ   \n",
       "36            Новосибирск ТРЦ \"Галерея Новосибирск\"       36           ТРЦ   \n",
       "37                            Новосибирск ТЦ \"Мега\"       37            ТЦ   \n",
       "38                                   Омск ТЦ \"Мега\"       38            ТЦ   \n",
       "39            РостовНаДону ТРК \"Мегацентр Горизонт\"       39           ТРК   \n",
       "40  РостовНаДону ТРК \"Мегацентр Горизонт\" Островной       40           ТРК   \n",
       "41                           РостовНаДону ТЦ \"Мега\"       41            ТЦ   \n",
       "42                           СПб ТК \"Невский Центр\"       42            ТК   \n",
       "43                                  СПб ТК \"Сенная\"       43            ТК   \n",
       "44                              Самара ТЦ \"Мелодия\"       44            ТЦ   \n",
       "45                             Самара ТЦ \"ПаркХаус\"       45            ТЦ   \n",
       "46                            Сергиев Посад ТЦ \"7Я\"       46        others   \n",
       "47                           Сургут ТРЦ \"Сити Молл\"       47           ТРЦ   \n",
       "48                     Томск ТРЦ \"Изумрудный Город\"       48           ТРЦ   \n",
       "49                            Тюмень ТРЦ \"Кристалл\"       49           ТРЦ   \n",
       "50                               Тюмень ТЦ \"Гудвин\"       50            ТЦ   \n",
       "51                        Тюмень ТЦ \"Зеленый Берег\"       51            ТЦ   \n",
       "52                             Уфа ТК \"Центральный\"       52            ТК   \n",
       "53                                 Уфа ТЦ \"Семья\" 2       53            ТЦ   \n",
       "54                                  Химки ТЦ \"Мега\"       54            ТЦ   \n",
       "55                         Цифровой склад 1С-Онлайн       55        others   \n",
       "56                             Чехов ТРЦ \"Карнавал\"       56           ТРЦ   \n",
       "57                          Якутск Орджоникидзе, 56       57        others   \n",
       "58                          Якутск ТЦ \"Центральный\"       58            ТЦ   \n",
       "59                           Ярославль ТЦ \"Альтаир\"       59            ТЦ   \n",
       "\n",
       "    shop_category_code  \n",
       "0                    0  \n",
       "1                    4  \n",
       "2                    4  \n",
       "3                    2  \n",
       "4                    4  \n",
       "5                    3  \n",
       "6                    0  \n",
       "7                    3  \n",
       "8                    3  \n",
       "9                    0  \n",
       "10                   0  \n",
       "11                   0  \n",
       "12                   0  \n",
       "13                   4  \n",
       "14                   4  \n",
       "15                   3  \n",
       "16                   4  \n",
       "17                   4  \n",
       "18                   4  \n",
       "19                   4  \n",
       "20                   0  \n",
       "21                   0  \n",
       "22                   0  \n",
       "23                   1  \n",
       "24                   1  \n",
       "25                   2  \n",
       "26                   4  \n",
       "27                   4  \n",
       "28                   4  \n",
       "29                   4  \n",
       "30                   4  \n",
       "31                   4  \n",
       "32                   4  \n",
       "33                   2  \n",
       "34                   3  \n",
       "35                   3  \n",
       "36                   3  \n",
       "37                   4  \n",
       "38                   4  \n",
       "39                   2  \n",
       "40                   2  \n",
       "41                   4  \n",
       "42                   1  \n",
       "43                   1  \n",
       "44                   4  \n",
       "45                   4  \n",
       "46                   0  \n",
       "47                   3  \n",
       "48                   3  \n",
       "49                   3  \n",
       "50                   4  \n",
       "51                   4  \n",
       "52                   1  \n",
       "53                   4  \n",
       "54                   4  \n",
       "55                   0  \n",
       "56                   3  \n",
       "57                   0  \n",
       "58                   4  \n",
       "59                   4  "
      ]
     },
     "execution_count": 58,
     "metadata": {},
     "output_type": "execute_result"
    }
   ],
   "source": [
    "shop['shop_category_code'] = LabelEncoder().fit_transform(shop['shop_category'])\n",
    "shop"
   ]
  },
  {
   "cell_type": "markdown",
   "metadata": {},
   "source": [
    "Let's apply the same logic to item categories"
   ]
  },
  {
   "cell_type": "code",
   "execution_count": 59,
   "metadata": {},
   "outputs": [
    {
     "data": {
      "text/plain": [
       "Игры          14\n",
       "Книги         13\n",
       "Подарки       12\n",
       "Игровые        8\n",
       "Аксессуары     7\n",
       "Музыка         6\n",
       "Программы      6\n",
       "Карты          5\n",
       "Кино           5\n",
       "Чистые         2\n",
       "Служебные      2\n",
       "PC             1\n",
       "Элементы       1\n",
       "Билеты         1\n",
       "Доставка       1\n",
       "Name: type, dtype: int64"
      ]
     },
     "execution_count": 59,
     "metadata": {},
     "output_type": "execute_result"
    }
   ],
   "source": [
    "item_cats['type'] = item_cats.item_category_name.apply(lambda x: x.split(' ')[0]).astype(str)\n",
    "item_cats['type'].value_counts(ascending=False)"
   ]
  },
  {
   "cell_type": "markdown",
   "metadata": {},
   "source": [
    "We group togheter those values that are less of 2.\n",
    "We also discovered from another discussion that we can set 'PC' as 'Музыка'."
   ]
  },
  {
   "cell_type": "code",
   "execution_count": 61,
   "metadata": {},
   "outputs": [
    {
     "data": {
      "text/plain": [
       "Игры          14\n",
       "Книги         13\n",
       "Подарки       12\n",
       "etc           12\n",
       "Аксессуары     7\n",
       "Музыка         6\n",
       "Программы      6\n",
       "Карты          5\n",
       "Кино           5\n",
       "Чистые         2\n",
       "Служебные      2\n",
       "Name: type, dtype: int64"
      ]
     },
     "execution_count": 61,
     "metadata": {},
     "output_type": "execute_result"
    },
    {
     "data": {
      "text/html": [
       "<div>\n",
       "<style scoped>\n",
       "    .dataframe tbody tr th:only-of-type {\n",
       "        vertical-align: middle;\n",
       "    }\n",
       "\n",
       "    .dataframe tbody tr th {\n",
       "        vertical-align: top;\n",
       "    }\n",
       "\n",
       "    .dataframe thead th {\n",
       "        text-align: right;\n",
       "    }\n",
       "</style>\n",
       "<table border=\"1\" class=\"dataframe\">\n",
       "  <thead>\n",
       "    <tr style=\"text-align: right;\">\n",
       "      <th></th>\n",
       "      <th>item_category_name</th>\n",
       "      <th>item_category_id</th>\n",
       "      <th>type</th>\n",
       "      <th>category</th>\n",
       "      <th>type_code</th>\n",
       "    </tr>\n",
       "  </thead>\n",
       "  <tbody>\n",
       "    <tr>\n",
       "      <th>0</th>\n",
       "      <td>PC - Гарнитуры/Наушники</td>\n",
       "      <td>0</td>\n",
       "      <td>etc</td>\n",
       "      <td>Музыка</td>\n",
       "      <td>0</td>\n",
       "    </tr>\n",
       "    <tr>\n",
       "      <th>1</th>\n",
       "      <td>Аксессуары - PS2</td>\n",
       "      <td>1</td>\n",
       "      <td>Аксессуары</td>\n",
       "      <td>NaN</td>\n",
       "      <td>1</td>\n",
       "    </tr>\n",
       "    <tr>\n",
       "      <th>2</th>\n",
       "      <td>Аксессуары - PS3</td>\n",
       "      <td>2</td>\n",
       "      <td>Аксессуары</td>\n",
       "      <td>NaN</td>\n",
       "      <td>1</td>\n",
       "    </tr>\n",
       "    <tr>\n",
       "      <th>3</th>\n",
       "      <td>Аксессуары - PS4</td>\n",
       "      <td>3</td>\n",
       "      <td>Аксессуары</td>\n",
       "      <td>NaN</td>\n",
       "      <td>1</td>\n",
       "    </tr>\n",
       "    <tr>\n",
       "      <th>4</th>\n",
       "      <td>Аксессуары - PSP</td>\n",
       "      <td>4</td>\n",
       "      <td>Аксессуары</td>\n",
       "      <td>NaN</td>\n",
       "      <td>1</td>\n",
       "    </tr>\n",
       "  </tbody>\n",
       "</table>\n",
       "</div>"
      ],
      "text/plain": [
       "        item_category_name  item_category_id        type category  type_code\n",
       "0  PC - Гарнитуры/Наушники                 0         etc   Музыка          0\n",
       "1         Аксессуары - PS2                 1  Аксессуары      NaN          1\n",
       "2         Аксессуары - PS3                 2  Аксессуары      NaN          1\n",
       "3         Аксессуары - PS4                 3  Аксессуары      NaN          1\n",
       "4         Аксессуары - PSP                 4  Аксессуары      NaN          1"
      ]
     },
     "execution_count": 61,
     "metadata": {},
     "output_type": "execute_result"
    }
   ],
   "source": [
    "item_cats.loc[item_cats.type == 'PC', 'category'] = 'Музыка'\n",
    "\n",
    "categories = ['Игры', 'Карты', 'Кино', 'Книги','Музыка', 'Подарки', 'Программы', 'Служебные', 'Чистые', 'Аксессуары']\n",
    "item_cats['type'] = item_cats.type.apply(lambda x: x if (x in categories) else 'etc')\n",
    "item_cats['type'].value_counts(ascending=False)\n",
    "item_cats['type_code'] = LabelEncoder().fit_transform(item_cats['type'])\n",
    "\n",
    "item_cats.head()"
   ]
  },
  {
   "cell_type": "markdown",
   "metadata": {},
   "source": [
    "Notice how \"Аксессуары - PS2\" are similar to PS3, 4, ...\n",
    "Probably is the same game on different consolle.\n",
    "It can be useful to categorize it!"
   ]
  },
  {
   "cell_type": "code",
   "execution_count": 62,
   "metadata": {},
   "outputs": [
    {
     "data": {
      "text/html": [
       "<div>\n",
       "<style scoped>\n",
       "    .dataframe tbody tr th:only-of-type {\n",
       "        vertical-align: middle;\n",
       "    }\n",
       "\n",
       "    .dataframe tbody tr th {\n",
       "        vertical-align: top;\n",
       "    }\n",
       "\n",
       "    .dataframe thead th {\n",
       "        text-align: right;\n",
       "    }\n",
       "</style>\n",
       "<table border=\"1\" class=\"dataframe\">\n",
       "  <thead>\n",
       "    <tr style=\"text-align: right;\">\n",
       "      <th></th>\n",
       "      <th>item_category_id</th>\n",
       "      <th>type_code</th>\n",
       "      <th>subtype_code</th>\n",
       "    </tr>\n",
       "  </thead>\n",
       "  <tbody>\n",
       "    <tr>\n",
       "      <th>0</th>\n",
       "      <td>0</td>\n",
       "      <td>0</td>\n",
       "      <td>29</td>\n",
       "    </tr>\n",
       "    <tr>\n",
       "      <th>1</th>\n",
       "      <td>1</td>\n",
       "      <td>1</td>\n",
       "      <td>9</td>\n",
       "    </tr>\n",
       "    <tr>\n",
       "      <th>2</th>\n",
       "      <td>2</td>\n",
       "      <td>1</td>\n",
       "      <td>10</td>\n",
       "    </tr>\n",
       "    <tr>\n",
       "      <th>3</th>\n",
       "      <td>3</td>\n",
       "      <td>1</td>\n",
       "      <td>11</td>\n",
       "    </tr>\n",
       "    <tr>\n",
       "      <th>4</th>\n",
       "      <td>4</td>\n",
       "      <td>1</td>\n",
       "      <td>13</td>\n",
       "    </tr>\n",
       "  </tbody>\n",
       "</table>\n",
       "</div>"
      ],
      "text/plain": [
       "   item_category_id  type_code  subtype_code\n",
       "0                 0          0            29\n",
       "1                 1          1             9\n",
       "2                 2          1            10\n",
       "3                 3          1            11\n",
       "4                 4          1            13"
      ]
     },
     "execution_count": 62,
     "metadata": {},
     "output_type": "execute_result"
    }
   ],
   "source": [
    "# if subtype is nan then type\n",
    "item_cats['split'] = item_cats.item_category_name.apply(lambda x: x.split('-'))\n",
    "item_cats['subtype'] = item_cats['split'].map(lambda x: x[1].strip() if len(x) > 1 else x[0].strip())\n",
    "item_cats['subtype_code'] = LabelEncoder().fit_transform(item_cats['subtype'])\n",
    "\n",
    "item_cats.drop(columns=['item_category_name', 'type', 'category', 'category', 'subtype', 'split'], inplace=True)\n",
    "item_cats.head()"
   ]
  },
  {
   "cell_type": "markdown",
   "metadata": {},
   "source": [
    "<h3>Data Conversion</h3>"
   ]
  },
  {
   "cell_type": "markdown",
   "metadata": {},
   "source": [
    "Since the data value in the sales set is in a string format, let's convert it into the proper datetime format.\n",
    "Because i'm european, i choose the standard datetime format dd/mm/yyyy"
   ]
  },
  {
   "cell_type": "code",
   "execution_count": 63,
   "metadata": {},
   "outputs": [],
   "source": [
    "sales['date'] = pd.to_datetime(sales['date'], format='%d.%m.%Y')\n",
    "sales['month'] = sales['date'].dt.month\n",
    "sales['year'] = sales['date'].dt.year\n",
    "sales = sales.drop(columns=['date'])"
   ]
  },
  {
   "cell_type": "markdown",
   "metadata": {},
   "source": [
    "<h3>Creating the set</h3>"
   ]
  },
  {
   "cell_type": "markdown",
   "metadata": {},
   "source": [
    "Since train set and test set came from the same distributions, it can be a good idea concatenate it in order to apply some transformations.\n",
    "Due to the fact that there aren't some fields into test set, we can fill it with some standard values (es. 0).\n",
    "\n",
    "According to kaggle, we also know that the test set is refered to 11/2015"
   ]
  },
  {
   "cell_type": "code",
   "execution_count": 64,
   "metadata": {},
   "outputs": [
    {
     "name": "stdout",
     "output_type": "stream",
     "text": [
      "Before concatenating: 2935844 instaces\n",
      "After concatenating: 3150044 instaces\n"
     ]
    }
   ],
   "source": [
    "print(\"Before concatenating: {} instaces\".format(sales.shape[0]))\n",
    "\n",
    "tmp_concat = test[['shop_id', 'item_id']].copy()\n",
    "\n",
    "tmp_concat['date_block_num'] = sales['date_block_num'].max() + 1\n",
    "tmp_concat['year'] = 2015\n",
    "tmp_concat['month'] = 11\n",
    "tmp_concat['item_cnt_day'] = 0\n",
    "tmp_concat['item_price'] = 0\n",
    "\n",
    "sales = pd.concat([sales, tmp_concat], ignore_index=True, sort=False)\n",
    "print(\"After concatenating: {} instaces\".format(sales.shape[0]))"
   ]
  },
  {
   "cell_type": "code",
   "execution_count": 65,
   "metadata": {},
   "outputs": [],
   "source": [
    "period = sales[['date_block_num', 'year', 'month']].drop_duplicates().reset_index(drop=True)\n",
    "period['days'] = period.apply(lambda r: monthrange(r.year, r.month)[1], axis=1)\n",
    "\n",
    "sales = sales.drop(columns=['year'])"
   ]
  },
  {
   "cell_type": "markdown",
   "metadata": {},
   "source": [
    "Now let's create a grid in order to obtain a combination of all shops and items of every month"
   ]
  },
  {
   "cell_type": "code",
   "execution_count": 66,
   "metadata": {},
   "outputs": [
    {
     "data": {
      "text/html": [
       "<div>\n",
       "<style scoped>\n",
       "    .dataframe tbody tr th:only-of-type {\n",
       "        vertical-align: middle;\n",
       "    }\n",
       "\n",
       "    .dataframe tbody tr th {\n",
       "        vertical-align: top;\n",
       "    }\n",
       "\n",
       "    .dataframe thead th {\n",
       "        text-align: right;\n",
       "    }\n",
       "</style>\n",
       "<table border=\"1\" class=\"dataframe\">\n",
       "  <thead>\n",
       "    <tr style=\"text-align: right;\">\n",
       "      <th></th>\n",
       "      <th>date_block_num</th>\n",
       "      <th>shop_id</th>\n",
       "      <th>item_id</th>\n",
       "    </tr>\n",
       "  </thead>\n",
       "  <tbody>\n",
       "    <tr>\n",
       "      <th>0</th>\n",
       "      <td>0</td>\n",
       "      <td>59</td>\n",
       "      <td>22154</td>\n",
       "    </tr>\n",
       "    <tr>\n",
       "      <th>1</th>\n",
       "      <td>0</td>\n",
       "      <td>59</td>\n",
       "      <td>2552</td>\n",
       "    </tr>\n",
       "    <tr>\n",
       "      <th>2</th>\n",
       "      <td>0</td>\n",
       "      <td>59</td>\n",
       "      <td>2554</td>\n",
       "    </tr>\n",
       "    <tr>\n",
       "      <th>3</th>\n",
       "      <td>0</td>\n",
       "      <td>59</td>\n",
       "      <td>2555</td>\n",
       "    </tr>\n",
       "    <tr>\n",
       "      <th>4</th>\n",
       "      <td>0</td>\n",
       "      <td>59</td>\n",
       "      <td>2564</td>\n",
       "    </tr>\n",
       "  </tbody>\n",
       "</table>\n",
       "</div>"
      ],
      "text/plain": [
       "   date_block_num  shop_id  item_id\n",
       "0               0       59    22154\n",
       "1               0       59     2552\n",
       "2               0       59     2554\n",
       "3               0       59     2555\n",
       "4               0       59     2564"
      ]
     },
     "execution_count": 66,
     "metadata": {},
     "output_type": "execute_result"
    }
   ],
   "source": [
    "grid = [] \n",
    "index_cols = ['date_block_num', 'shop_id', 'item_id']\n",
    "\n",
    "for block in sales['date_block_num'].unique():\n",
    "    cur_shops = sales.loc[sales['date_block_num'] == block, 'shop_id'].unique()\n",
    "    cur_items = sales.loc[sales['date_block_num'] == block, 'item_id'].unique()\n",
    "    grid.append(np.array(list(product(*[[block], cur_shops, cur_items])), dtype='int16'))\n",
    "\n",
    "# Turn the grid into a dataframe\n",
    "grid = pd.DataFrame(np.vstack(grid), columns = index_cols, dtype = np.int16)\n",
    "grid.head()"
   ]
  },
  {
   "cell_type": "markdown",
   "metadata": {},
   "source": [
    "Let's add the others fields, joining where we had the values"
   ]
  },
  {
   "cell_type": "code",
   "execution_count": 67,
   "metadata": {},
   "outputs": [
    {
     "data": {
      "text/html": [
       "<div>\n",
       "<style scoped>\n",
       "    .dataframe tbody tr th:only-of-type {\n",
       "        vertical-align: middle;\n",
       "    }\n",
       "\n",
       "    .dataframe tbody tr th {\n",
       "        vertical-align: top;\n",
       "    }\n",
       "\n",
       "    .dataframe thead th {\n",
       "        text-align: right;\n",
       "    }\n",
       "</style>\n",
       "<table border=\"1\" class=\"dataframe\">\n",
       "  <thead>\n",
       "    <tr style=\"text-align: right;\">\n",
       "      <th></th>\n",
       "      <th>date_block_num</th>\n",
       "      <th>year</th>\n",
       "      <th>month</th>\n",
       "      <th>days</th>\n",
       "      <th>shop_id</th>\n",
       "      <th>shop_category_code</th>\n",
       "      <th>item_category_id</th>\n",
       "      <th>type_code</th>\n",
       "      <th>subtype_code</th>\n",
       "      <th>item_id</th>\n",
       "    </tr>\n",
       "  </thead>\n",
       "  <tbody>\n",
       "    <tr>\n",
       "      <th>0</th>\n",
       "      <td>0</td>\n",
       "      <td>2013</td>\n",
       "      <td>1</td>\n",
       "      <td>31</td>\n",
       "      <td>59</td>\n",
       "      <td>4</td>\n",
       "      <td>37</td>\n",
       "      <td>4</td>\n",
       "      <td>1</td>\n",
       "      <td>22154</td>\n",
       "    </tr>\n",
       "    <tr>\n",
       "      <th>1</th>\n",
       "      <td>0</td>\n",
       "      <td>2013</td>\n",
       "      <td>1</td>\n",
       "      <td>31</td>\n",
       "      <td>25</td>\n",
       "      <td>2</td>\n",
       "      <td>37</td>\n",
       "      <td>4</td>\n",
       "      <td>1</td>\n",
       "      <td>22154</td>\n",
       "    </tr>\n",
       "    <tr>\n",
       "      <th>2</th>\n",
       "      <td>0</td>\n",
       "      <td>2013</td>\n",
       "      <td>1</td>\n",
       "      <td>31</td>\n",
       "      <td>24</td>\n",
       "      <td>1</td>\n",
       "      <td>37</td>\n",
       "      <td>4</td>\n",
       "      <td>1</td>\n",
       "      <td>22154</td>\n",
       "    </tr>\n",
       "    <tr>\n",
       "      <th>3</th>\n",
       "      <td>0</td>\n",
       "      <td>2013</td>\n",
       "      <td>1</td>\n",
       "      <td>31</td>\n",
       "      <td>23</td>\n",
       "      <td>1</td>\n",
       "      <td>37</td>\n",
       "      <td>4</td>\n",
       "      <td>1</td>\n",
       "      <td>22154</td>\n",
       "    </tr>\n",
       "    <tr>\n",
       "      <th>4</th>\n",
       "      <td>0</td>\n",
       "      <td>2013</td>\n",
       "      <td>1</td>\n",
       "      <td>31</td>\n",
       "      <td>19</td>\n",
       "      <td>4</td>\n",
       "      <td>37</td>\n",
       "      <td>4</td>\n",
       "      <td>1</td>\n",
       "      <td>22154</td>\n",
       "    </tr>\n",
       "  </tbody>\n",
       "</table>\n",
       "</div>"
      ],
      "text/plain": [
       "   date_block_num  year  month  days  shop_id  shop_category_code  \\\n",
       "0               0  2013      1    31       59                   4   \n",
       "1               0  2013      1    31       25                   2   \n",
       "2               0  2013      1    31       24                   1   \n",
       "3               0  2013      1    31       23                   1   \n",
       "4               0  2013      1    31       19                   4   \n",
       "\n",
       "   item_category_id  type_code  subtype_code  item_id  \n",
       "0                37          4             1    22154  \n",
       "1                37          4             1    22154  \n",
       "2                37          4             1    22154  \n",
       "3                37          4             1    22154  \n",
       "4                37          4             1    22154  "
      ]
     },
     "execution_count": 67,
     "metadata": {},
     "output_type": "execute_result"
    },
    {
     "data": {
      "text/plain": [
       "(11056230, 10)"
      ]
     },
     "execution_count": 67,
     "metadata": {},
     "output_type": "execute_result"
    }
   ],
   "source": [
    "data = pd.merge(grid, shop, on='shop_id')\n",
    "data = pd.merge(data, items, on='item_id')\n",
    "data = pd.merge(data, item_cats, on='item_category_id')\n",
    "data = pd.merge(data, period, on='date_block_num')\n",
    "\n",
    "# Adjusting columns order\n",
    "data = data[['date_block_num', 'year', 'month', 'days', 'shop_id', 'shop_category_code','item_category_id', 'type_code', 'subtype_code', 'item_id']]\n",
    "\n",
    "# Remove unused and temporary datasets\n",
    "del grid, shop, items, item_cats, tmp_concat\n",
    "\n",
    "data.head()\n",
    "data.shape"
   ]
  },
  {
   "cell_type": "markdown",
   "metadata": {},
   "source": [
    "Since we need to predict the month sales, we must group by months"
   ]
  },
  {
   "cell_type": "code",
   "execution_count": 68,
   "metadata": {},
   "outputs": [
    {
     "data": {
      "text/html": [
       "<div>\n",
       "<style scoped>\n",
       "    .dataframe tbody tr th:only-of-type {\n",
       "        vertical-align: middle;\n",
       "    }\n",
       "\n",
       "    .dataframe tbody tr th {\n",
       "        vertical-align: top;\n",
       "    }\n",
       "\n",
       "    .dataframe thead th {\n",
       "        text-align: right;\n",
       "    }\n",
       "</style>\n",
       "<table border=\"1\" class=\"dataframe\">\n",
       "  <thead>\n",
       "    <tr style=\"text-align: right;\">\n",
       "      <th></th>\n",
       "      <th>date_block_num</th>\n",
       "      <th>year</th>\n",
       "      <th>month</th>\n",
       "      <th>days</th>\n",
       "      <th>shop_id</th>\n",
       "      <th>shop_category_code</th>\n",
       "      <th>item_category_id</th>\n",
       "      <th>type_code</th>\n",
       "      <th>subtype_code</th>\n",
       "      <th>item_id</th>\n",
       "      <th>item_cnt_month</th>\n",
       "      <th>item_price_month</th>\n",
       "    </tr>\n",
       "  </thead>\n",
       "  <tbody>\n",
       "    <tr>\n",
       "      <th>8400256</th>\n",
       "      <td>20</td>\n",
       "      <td>2014</td>\n",
       "      <td>9</td>\n",
       "      <td>30</td>\n",
       "      <td>2</td>\n",
       "      <td>4</td>\n",
       "      <td>40</td>\n",
       "      <td>4</td>\n",
       "      <td>4</td>\n",
       "      <td>0</td>\n",
       "      <td>0.0</td>\n",
       "      <td>0.0</td>\n",
       "    </tr>\n",
       "    <tr>\n",
       "      <th>6931976</th>\n",
       "      <td>15</td>\n",
       "      <td>2014</td>\n",
       "      <td>4</td>\n",
       "      <td>30</td>\n",
       "      <td>2</td>\n",
       "      <td>4</td>\n",
       "      <td>76</td>\n",
       "      <td>8</td>\n",
       "      <td>31</td>\n",
       "      <td>1</td>\n",
       "      <td>0.0</td>\n",
       "      <td>0.0</td>\n",
       "    </tr>\n",
       "    <tr>\n",
       "      <th>7896739</th>\n",
       "      <td>18</td>\n",
       "      <td>2014</td>\n",
       "      <td>7</td>\n",
       "      <td>31</td>\n",
       "      <td>2</td>\n",
       "      <td>4</td>\n",
       "      <td>76</td>\n",
       "      <td>8</td>\n",
       "      <td>31</td>\n",
       "      <td>1</td>\n",
       "      <td>0.0</td>\n",
       "      <td>0.0</td>\n",
       "    </tr>\n",
       "    <tr>\n",
       "      <th>8214471</th>\n",
       "      <td>19</td>\n",
       "      <td>2014</td>\n",
       "      <td>8</td>\n",
       "      <td>31</td>\n",
       "      <td>2</td>\n",
       "      <td>4</td>\n",
       "      <td>76</td>\n",
       "      <td>8</td>\n",
       "      <td>31</td>\n",
       "      <td>1</td>\n",
       "      <td>0.0</td>\n",
       "      <td>0.0</td>\n",
       "    </tr>\n",
       "    <tr>\n",
       "      <th>8506831</th>\n",
       "      <td>20</td>\n",
       "      <td>2014</td>\n",
       "      <td>9</td>\n",
       "      <td>30</td>\n",
       "      <td>2</td>\n",
       "      <td>4</td>\n",
       "      <td>76</td>\n",
       "      <td>8</td>\n",
       "      <td>31</td>\n",
       "      <td>1</td>\n",
       "      <td>0.0</td>\n",
       "      <td>0.0</td>\n",
       "    </tr>\n",
       "  </tbody>\n",
       "</table>\n",
       "</div>"
      ],
      "text/plain": [
       "         date_block_num  year  month  days  shop_id  shop_category_code  \\\n",
       "8400256              20  2014      9    30        2                   4   \n",
       "6931976              15  2014      4    30        2                   4   \n",
       "7896739              18  2014      7    31        2                   4   \n",
       "8214471              19  2014      8    31        2                   4   \n",
       "8506831              20  2014      9    30        2                   4   \n",
       "\n",
       "         item_category_id  type_code  subtype_code  item_id  item_cnt_month  \\\n",
       "8400256                40          4             4        0             0.0   \n",
       "6931976                76          8            31        1             0.0   \n",
       "7896739                76          8            31        1             0.0   \n",
       "8214471                76          8            31        1             0.0   \n",
       "8506831                76          8            31        1             0.0   \n",
       "\n",
       "         item_price_month  \n",
       "8400256               0.0  \n",
       "6931976               0.0  \n",
       "7896739               0.0  \n",
       "8214471               0.0  \n",
       "8506831               0.0  "
      ]
     },
     "execution_count": 68,
     "metadata": {},
     "output_type": "execute_result"
    }
   ],
   "source": [
    "extra = sales\\\n",
    ".groupby(['date_block_num', 'shop_id', 'item_id'], as_index=False)\\\n",
    ".agg({'item_cnt_day' : 'sum', 'item_price' : 'mean'})\\\n",
    ".rename(columns= {'item_cnt_day' : 'item_cnt_month', \n",
    "                  'item_price' : 'item_price_month'})\n",
    "\n",
    "extra['item_cnt_month'] = extra['item_cnt_month'].astype(np.float16)\n",
    "extra['item_price_month'] = extra['item_price_month'].astype(np.float16)\n",
    "\n",
    "month_sales = pd.merge(data, extra, how='left', on=['date_block_num', 'shop_id', 'item_id'])\\\n",
    "    .fillna(0.0).sort_values(by=['shop_id', 'item_id', 'date_block_num'])\n",
    "\n",
    "del data, extra\n",
    "\n",
    "month_sales.head()"
   ]
  },
  {
   "cell_type": "markdown",
   "metadata": {},
   "source": [
    "Now we had a more huge dataset!"
   ]
  },
  {
   "cell_type": "code",
   "execution_count": 69,
   "metadata": {},
   "outputs": [
    {
     "data": {
      "text/plain": [
       "(11056230, 12)"
      ]
     },
     "execution_count": 69,
     "metadata": {},
     "output_type": "execute_result"
    }
   ],
   "source": [
    "month_sales.shape"
   ]
  },
  {
   "cell_type": "markdown",
   "metadata": {},
   "source": [
    "According to another Kaggle discussion, let's bin the item_cnt_month in a range from 0 to 20"
   ]
  },
  {
   "cell_type": "code",
   "execution_count": 70,
   "metadata": {},
   "outputs": [],
   "source": [
    "month_sales['item_cnt_month'] = month_sales['item_cnt_month'].clip(0,20)"
   ]
  },
  {
   "cell_type": "markdown",
   "metadata": {},
   "source": [
    "<h2>Feature Engineering</h2>"
   ]
  },
  {
   "cell_type": "markdown",
   "metadata": {},
   "source": [
    "<h3>Mean and Lag encoder</h3>"
   ]
  },
  {
   "cell_type": "markdown",
   "metadata": {},
   "source": [
    "Lag feature allow us to \"smooth\" the price over time.\n",
    "I personally noticed that lag more than 1 month are poorly used to the model, and also tends to use a huge amount of memory, so i fixed this measure to 1"
   ]
  },
  {
   "cell_type": "code",
   "execution_count": 71,
   "metadata": {},
   "outputs": [],
   "source": [
    "def target_lag_mean(month_sales, group_cols, new_col, lags=[1,2,3], target_col = 'item_cnt_month', agg_func = 'mean'):\n",
    "    extra = month_sales\\\n",
    "        .groupby(group_cols, as_index=False)\\\n",
    "        .agg({target_col : agg_func})\\\n",
    "        .rename(columns= {target_col : new_col})\n",
    "    extra[new_col] = extra[new_col].astype(np.float16)\n",
    "    \n",
    "    df = pd.merge(month_sales, extra, how='left', on=group_cols)\n",
    "    \n",
    "    tmp = df[['date_block_num','shop_id','item_id', new_col]]\n",
    "    for i in lags:\n",
    "        shifted = tmp.copy()\n",
    "        cols = ['date_block_num','shop_id','item_id', '{}_lag_{}'.format(new_col, i)]\n",
    "        shifted.columns = cols\n",
    "        shifted['date_block_num'] += i\n",
    "        df = pd.merge(df, shifted, on=['date_block_num','shop_id','item_id'], how='left').fillna(value={(cols[-1]) : 0.0})\n",
    "    \n",
    "    df.drop(columns=[new_col], inplace=True)\n",
    "    return df"
   ]
  },
  {
   "cell_type": "code",
   "execution_count": 72,
   "metadata": {},
   "outputs": [],
   "source": [
    "# date_avg_item_cnt \n",
    "month_sales = target_lag_mean(month_sales, ['date_block_num', 'item_id'], 'date_item_avg_item_cnt', [1])\n",
    "\n",
    "# date_avg_item_cnt\n",
    "month_sales = target_lag_mean(month_sales, ['date_block_num', 'item_id'], 'date_item_avg_item_cnt', [1])"
   ]
  },
  {
   "cell_type": "code",
   "execution_count": 73,
   "metadata": {},
   "outputs": [],
   "source": [
    "# date_cat_avg_item_price\n",
    "month_sales = target_lag_mean(month_sales, ['date_block_num', 'item_category_id'], 'date_cat_avg_item_price', [1], 'item_price_month')\n",
    "\n",
    "# date_shop_cat_avg_item_price \n",
    "month_sales = target_lag_mean(month_sales, ['date_block_num', 'shop_id', 'item_category_id'], 'date_shop_cat_avg_item_price', [1], 'item_price_month')"
   ]
  },
  {
   "cell_type": "markdown",
   "metadata": {},
   "source": [
    "Now let's see our new dataset"
   ]
  },
  {
   "cell_type": "code",
   "execution_count": 74,
   "metadata": {
    "scrolled": false
   },
   "outputs": [
    {
     "name": "stdout",
     "output_type": "stream",
     "text": [
      "<class 'pandas.core.frame.DataFrame'>\n",
      "Int64Index: 11056230 entries, 0 to 11056229\n",
      "Data columns (total 16 columns):\n",
      "date_block_num                        int16\n",
      "year                                  int64\n",
      "month                                 int64\n",
      "days                                  int64\n",
      "shop_id                               int16\n",
      "shop_category_code                    int32\n",
      "item_category_id                      int64\n",
      "type_code                             int32\n",
      "subtype_code                          int32\n",
      "item_id                               int16\n",
      "item_cnt_month                        float16\n",
      "item_price_month                      float16\n",
      "date_item_avg_item_cnt_lag_1_x        float16\n",
      "date_item_avg_item_cnt_lag_1_y        float16\n",
      "date_cat_avg_item_price_lag_1         float16\n",
      "date_shop_cat_avg_item_price_lag_1    float16\n",
      "dtypes: float16(6), int16(3), int32(3), int64(4)\n",
      "memory usage: 738.1 MB\n"
     ]
    }
   ],
   "source": [
    "month_sales.info()"
   ]
  },
  {
   "cell_type": "markdown",
   "metadata": {},
   "source": [
    "<h2>Holdout</h2>"
   ]
  },
  {
   "cell_type": "markdown",
   "metadata": {},
   "source": [
    "Since we had temporal datas, i had prefered a fixed holdout scheme.\n",
    "Note that because we had used lag feature with 1 month, we exclude the first month (that doesn't have this feature)"
   ]
  },
  {
   "cell_type": "code",
   "execution_count": 75,
   "metadata": {},
   "outputs": [
    {
     "data": {
      "text/plain": [
       "(10238683, 16)"
      ]
     },
     "execution_count": 75,
     "metadata": {},
     "output_type": "execute_result"
    },
    {
     "data": {
      "text/plain": [
       "(238172, 16)"
      ]
     },
     "execution_count": 75,
     "metadata": {},
     "output_type": "execute_result"
    },
    {
     "data": {
      "text/plain": [
       "(214200, 16)"
      ]
     },
     "execution_count": 75,
     "metadata": {},
     "output_type": "execute_result"
    }
   ],
   "source": [
    "X_train = month_sales[(month_sales['date_block_num'] >= 1) & (month_sales['date_block_num'] < 33)]\n",
    "X_train.shape\n",
    "\n",
    "X_val = month_sales[month_sales['date_block_num'] == 33]\n",
    "X_val.shape\n",
    "\n",
    "X_test= month_sales[month_sales['date_block_num'] == 34]\n",
    "X_test.shape"
   ]
  },
  {
   "cell_type": "code",
   "execution_count": 76,
   "metadata": {},
   "outputs": [],
   "source": [
    "X_train.to_csv(ds_preproc_path + 'X_train.csv', index=False)\n",
    "X_val.to_csv(ds_preproc_path + 'X_val.csv', index=False)\n",
    "X_test.to_csv(ds_preproc_path + 'X_test.csv', index=False)"
   ]
  },
  {
   "cell_type": "code",
   "execution_count": 77,
   "metadata": {},
   "outputs": [],
   "source": [
    "del month_sales, X_train, X_val, X_test"
   ]
  }
 ],
 "metadata": {
  "kernelspec": {
   "display_name": "Python 3",
   "language": "python",
   "name": "python3"
  },
  "language_info": {
   "codemirror_mode": {
    "name": "ipython",
    "version": 3
   },
   "file_extension": ".py",
   "mimetype": "text/x-python",
   "name": "python",
   "nbconvert_exporter": "python",
   "pygments_lexer": "ipython3",
   "version": "3.7.4"
  }
 },
 "nbformat": 4,
 "nbformat_minor": 2
}
