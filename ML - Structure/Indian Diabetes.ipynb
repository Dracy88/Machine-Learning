{
 "cells": [
  {
   "cell_type": "markdown",
   "metadata": {},
   "source": [
    "<h1>1. Exploring the Dataset</h1>"
   ]
  },
  {
   "cell_type": "markdown",
   "metadata": {},
   "source": [
    "<h2>1.1 Understanding the Data</h2>"
   ]
  },
  {
   "cell_type": "markdown",
   "metadata": {},
   "source": [
    "Analisi degli attributi:\n",
    "- preg = Pregnancies (Number of times pregnant)\n",
    "- plas = Glucose (Plasma glucose concentration a 2 hours in an oral glucose tolerance test)\n",
    "- pres = Blood pressure (Diastolic blood pressure (mm Hg))\n",
    "- skin = SkinThickness (Triceps skin fold thickness (mm))\n",
    "- test = Insulinic test (2-Hour serum insulin (mu U/ml))\n",
    "- mass = BMI (Body mass index (weight in kg/(height in m)^2))\n",
    "- pedi = Diabetes pedigree function\n",
    "- age = Age (years)\n",
    "- class = Class variable (0=no diabete or 1=diabete)"
   ]
  },
  {
   "cell_type": "markdown",
   "metadata": {},
   "source": [
    "<h2>1.2 Loading Data</h2>"
   ]
  },
  {
   "cell_type": "code",
   "execution_count": 34,
   "metadata": {},
   "outputs": [],
   "source": [
    "from pandas import read_csv\n",
    "names = ['preg', 'plas', 'pres', 'skin', 'test', 'mass', 'pedi', 'age', 'class'] \n",
    "data = read_csv('dataset/pima-indians-diabetes.csv', names=names, header=0) # Carica il dataset ignorando la prima riga del header"
   ]
  },
  {
   "cell_type": "markdown",
   "metadata": {},
   "source": [
    "<h2>1.3 Peeking Data</h2>\n",
    "\n",
    "Rows:\n",
    "<ul>\n",
    "  <li>Too many --> algorithms may take too long to train</li>\n",
    "  <li>Too few --> perhaps you do not have enough data to train the algorithms</li>\n",
    "</ul>  \n",
    "Features:\n",
    "<ul>\n",
    "  <li>Too many -->some algorithms can be distracted or suffer poor performance due to the curse of dimensionality.</li>\n",
    "  <li>Too few --> perhaps aren't enough to train the algorithms</li>\n",
    "</ul> \n"
   ]
  },
  {
   "cell_type": "code",
   "execution_count": 35,
   "metadata": {},
   "outputs": [
    {
     "name": "stdout",
     "output_type": "stream",
     "text": [
      "Il dataset è composto da 768 righe e 9 colonne\n",
      "   preg  plas  pres  skin  test  mass   pedi  age  class\n",
      "0     6   148    72    35     0  33.6  0.627   50      1\n",
      "1     1    85    66    29     0  26.6  0.351   31      0\n",
      "2     8   183    64     0     0  23.3  0.672   32      1\n",
      "3     1    89    66    23    94  28.1  0.167   21      0\n",
      "4     0   137    40    35   168  43.1  2.288   33      1\n",
      "5     5   116    74     0     0  25.6  0.201   30      0\n",
      "6     3    78    50    32    88  31.0  0.248   26      1\n",
      "7    10   115     0     0     0  35.3  0.134   29      0\n",
      "8     2   197    70    45   543  30.5  0.158   53      1\n",
      "9     8   125    96     0     0   0.0  0.232   54      1\n"
     ]
    }
   ],
   "source": [
    "''' Analisi primarie '''\n",
    "print(\"Il dataset è composto da\", data.shape[0], \"righe e\", data.shape[1], \"colonne\")\n",
    "print(data.head(10)) # Stampa le prime 10 righe dell'intero dataset"
   ]
  },
  {
   "cell_type": "markdown",
   "metadata": {},
   "source": [
    "<h2>1.4 Statistics</h2>\n",
    "\n",
    "We can use some statistics technique to understand better our datas.<br>\n",
    "Ask why are you seeing those specific numbers and think about how the numbers relate to the problem domain in general and specific entities that observations relate to.<br>\n",
    "Keep a small text file or note pad and jot down all of the ideas for how variables may relate, for what numbers mean, and ideas for techniques to try later. The things you write down now while the data is fresh will be very valuable later when you are trying to think up new things to try"
   ]
  },
  {
   "cell_type": "markdown",
   "metadata": {},
   "source": [
    "<h3>1.4.1 Descriptive Statistics</h3>\n",
    "\n",
    "Descriptive statistics can give you great insight into the shape of each attribute"
   ]
  },
  {
   "cell_type": "code",
   "execution_count": 36,
   "metadata": {},
   "outputs": [
    {
     "name": "stdout",
     "output_type": "stream",
     "text": [
      "          preg     plas     pres     skin     test     mass     pedi      age    class\n",
      "count  768.000  768.000  768.000  768.000  768.000  768.000  768.000  768.000  768.000\n",
      "mean     3.845  120.895   69.105   20.536   79.799   31.993    0.472   33.241    0.349\n",
      "std      3.370   31.973   19.356   15.952  115.244    7.884    0.331   11.760    0.477\n",
      "min      0.000    0.000    0.000    0.000    0.000    0.000    0.078   21.000    0.000\n",
      "25%      1.000   99.000   62.000    0.000    0.000   27.300    0.244   24.000    0.000\n",
      "50%      3.000  117.000   72.000   23.000   30.500   32.000    0.372   29.000    0.000\n",
      "75%      6.000  140.250   80.000   32.000  127.250   36.600    0.626   41.000    1.000\n",
      "max     17.000  199.000  122.000   99.000  846.000   67.100    2.420   81.000    1.000\n"
     ]
    }
   ],
   "source": [
    "from pandas import set_option\n",
    "set_option('display.width', 100) # Rende più visibile il risultato\n",
    "set_option('precision', 3) # Arrotonda alla 3° cifra decimale\n",
    "\n",
    "print(data.describe()) # Calcola la media, std, min, max e percentile di ciascun attributo\n",
    "# print(data[['preg', 'skin']].describe()) # Calcola le statistiche su attributi specifici\n"
   ]
  },
  {
   "cell_type": "markdown",
   "metadata": {},
   "source": [
    "<h3>1.4.2 Analyze Class Distribution (Classification Only)</h3>\n",
    "\n",
    "On classification problems you need to know how balanced the class values are. "
   ]
  },
  {
   "cell_type": "code",
   "execution_count": 37,
   "metadata": {},
   "outputs": [
    {
     "name": "stdout",
     "output_type": "stream",
     "text": [
      "class\n",
      "0    0.651\n",
      "1    0.349\n",
      "dtype: float64\n"
     ]
    }
   ],
   "source": [
    "print(data.groupby('class').size() / data.shape[0]) # Mostra la distribuzione di ciascuna class label"
   ]
  },
  {
   "cell_type": "markdown",
   "metadata": {},
   "source": [
    "<h3>1.4.3 Feature Correlation</h3>\n",
    "\n",
    "Some machine learning algorithms like linear and logistic regression can suffer poor performance if there are highly correlated attributes in your dataset.<br>\n",
    "We can use the Pearson’s Correlation Coefficient, that assumes a normal distribution of the attributes involved. A correlation of -1 or 1 shows a full negative or positive correlation respectively, whereas a value of 0 shows no correlation at all."
   ]
  },
  {
   "cell_type": "code",
   "execution_count": 38,
   "metadata": {},
   "outputs": [
    {
     "name": "stdout",
     "output_type": "stream",
     "text": [
      "        preg   plas   pres   skin   test   mass   pedi    age  class\n",
      "preg   1.000  0.129  0.141 -0.082 -0.074  0.018 -0.034  0.544  0.222\n",
      "plas   0.129  1.000  0.153  0.057  0.331  0.221  0.137  0.264  0.467\n",
      "pres   0.141  0.153  1.000  0.207  0.089  0.282  0.041  0.240  0.065\n",
      "skin  -0.082  0.057  0.207  1.000  0.437  0.393  0.184 -0.114  0.075\n",
      "test  -0.074  0.331  0.089  0.437  1.000  0.198  0.185 -0.042  0.131\n",
      "mass   0.018  0.221  0.282  0.393  0.198  1.000  0.141  0.036  0.293\n",
      "pedi  -0.034  0.137  0.041  0.184  0.185  0.141  1.000  0.034  0.174\n",
      "age    0.544  0.264  0.240 -0.114 -0.042  0.036  0.034  1.000  0.238\n",
      "class  0.222  0.467  0.065  0.075  0.131  0.293  0.174  0.238  1.000\n"
     ]
    }
   ],
   "source": [
    "print(data.corr(method='pearson'))"
   ]
  },
  {
   "cell_type": "markdown",
   "metadata": {},
   "source": [
    "<h3>1.4.4 Skew of Univariate Distributions</h3>\n",
    "\n",
    "Skew refers to a distribution that is assumed Gaussian (normal or bell curve) that is shifted or squashed in one direction or another.<br>\n",
    "Many machine learning algorithms assume a Gaussian distribution.<br>\n",
    "Knowing that an attribute has a skew may allow you to perform data preparation to correct the skew and later improve the accuracy of your models.<br>\n",
    "<ul>\n",
    "  <li>Positive --> right skew</li>\n",
    "  <li>Negative --> left skew</li>\n",
    "  <li>Closer to zero --> less / symmetric skew</li>\n",
    "</ul>  "
   ]
  },
  {
   "cell_type": "code",
   "execution_count": 39,
   "metadata": {},
   "outputs": [
    {
     "name": "stdout",
     "output_type": "stream",
     "text": [
      "preg     0.902\n",
      "plas     0.174\n",
      "pres    -1.844\n",
      "skin     0.109\n",
      "test     2.272\n",
      "mass    -0.429\n",
      "pedi     1.920\n",
      "age      1.130\n",
      "class    0.635\n",
      "dtype: float64\n"
     ]
    }
   ],
   "source": [
    "print(data.skew())"
   ]
  },
  {
   "cell_type": "markdown",
   "metadata": {},
   "source": [
    "<h3>1.4.5 Univariate Plots</h3>\n"
   ]
  },
  {
   "cell_type": "markdown",
   "metadata": {},
   "source": [
    "<h4>1.4.5.1 Histograms</h4>\n",
    "<p>A fast way to get an idea of the distribution of each attribute is to look at histograms.<br>\n",
    "From the shape of the bins you can quickly get a feeling for whether an attribute is Gaussian, skewed or even has an exponential distribution.</p>\n",
    "<p>It can also help you see possible outliers.</p>"
   ]
  },
  {
   "cell_type": "code",
   "execution_count": 40,
   "metadata": {},
   "outputs": [
    {
     "data": {
      "image/png": "[encoded data removed]",
      "text/plain": [
       "<Figure size 432x288 with 9 Axes>"
      ]
     },
     "metadata": {},
     "output_type": "display_data"
    }
   ],
   "source": [
    "from matplotlib import pyplot\n",
    "data.hist()\n",
    "pyplot.show()\n",
    "\n",
    "# Notice how the attributes age, pedi and test may have an exponential distribution. \n",
    "# We can also see that perhaps the mass and pres and plas attributes may have a Gaussian or nearly Gaussian distribution. \n",
    "# This is interesting because many machine learning techniques assume a Gaussian univariate distribution on the input variables.\n"
   ]
  },
  {
   "cell_type": "markdown",
   "metadata": {},
   "source": [
    "<h4>1.4.5.2 Density Plots</h4>"
   ]
  },
  {
   "cell_type": "code",
   "execution_count": 41,
   "metadata": {},
   "outputs": [
    {
     "data": {
      "image/png": "[encoded data removed]",
      "text/plain": [
       "<Figure size 432x288 with 9 Axes>"
      ]
     },
     "metadata": {},
     "output_type": "display_data"
    }
   ],
   "source": [
    "data.plot(kind='density', subplots=True, layout=(3,3), sharex=False)\n",
    "pyplot.show()"
   ]
  },
  {
   "cell_type": "markdown",
   "metadata": {},
   "source": [
    "<h1>2. Pre-processing</h1>\n",
    "\n",
    "<p>Many machine learning algorithms make assumptions about your data.<br>\n",
    "It is often a very good idea to prepare your data in such way to best expose the structure of the problem to the machine learning algorithms that you intend to use.</p>\n",
    "<p>I would recommend creating many different views and transforms of your data, then exercise a handful of algorithms on each view of your dataset. This will help you to flush out which data transforms might be better at exposing the structure of your problem in general.</p>"
   ]
  },
  {
   "cell_type": "markdown",
   "metadata": {},
   "source": [
    "<h2>2.1 Rescaling</h2>\n",
    "<p>When your data is comprised of attributes with varying scales, many machine learning algorithms can benefit from rescaling the attributes to all have the same scale (usually between 0 and 1).</p>\n",
    "<p>This is useful for optimization algorithms used in the core of machine learning algorithms like gradient descent. It is also useful for algorithms that weight inputs like regression and neural networks and algorithms that use distance measures like k-Nearest Neighbors.</p>"
   ]
  },
  {
   "cell_type": "code",
   "execution_count": 42,
   "metadata": {},
   "outputs": [
    {
     "name": "stdout",
     "output_type": "stream",
     "text": [
      "[[0.353 0.744 0.59  0.354 0.    0.501 0.234 0.483]\n",
      " [0.059 0.427 0.541 0.293 0.    0.396 0.117 0.167]\n",
      " [0.471 0.92  0.525 0.    0.    0.347 0.254 0.183]\n",
      " [0.059 0.447 0.541 0.232 0.111 0.419 0.038 0.   ]\n",
      " [0.    0.688 0.328 0.354 0.199 0.642 0.944 0.2  ]\n",
      " [0.294 0.583 0.607 0.    0.    0.382 0.053 0.15 ]\n",
      " [0.176 0.392 0.41  0.323 0.104 0.462 0.073 0.083]\n",
      " [0.588 0.578 0.    0.    0.    0.526 0.024 0.133]\n",
      " [0.118 0.99  0.574 0.455 0.642 0.455 0.034 0.533]\n",
      " [0.471 0.628 0.787 0.    0.    0.    0.066 0.55 ]]\n"
     ]
    }
   ],
   "source": [
    "#The Fit and Multiple Transform method is the preferred approach. You call the fit() function to prepare the parameters of the transform once on your data. Then later you can use the transform() function on the same data to prepare it for modeling and again on the test or validation dataset or new data that you may see in the future. The Combined Fit-And-Transform is a convenience that you can use for one off tasks.\n",
    "from sklearn.preprocessing import MinMaxScaler\n",
    "from numpy import set_printoptions\n",
    "\n",
    "array = data.values # Converte i valori del dataframe in una matrice di dati\n",
    "X = array[:, 0:8] # Carica tutte le righe dei primi 8 attributi\n",
    "Y = array[:, 8] # Carica tutte le righe dell'ultimo attributo (la class label)\n",
    "\n",
    "scaler = MinMaxScaler(feature_range=(0, 1)) # Imposta lo scalatore MinMax (con range 0-1)\n",
    "rescaledX = scaler.fit_transform(X) # Effettua il rescale su X\n",
    "\n",
    "set_printoptions(precision=3) # Imposta una precisione a 3 per numpy (sklearn si basa su numpy) per una migliore lettura\n",
    "print(rescaledX[0:10, :])"
   ]
  },
  {
   "cell_type": "markdown",
   "metadata": {},
   "source": [
    "<h2>2.2 Standardize Data</h2>\n",
    "<p>Standardization is a useful technique to transform attributes (with a Gaussian distribution and differing means and standard deviations) to a standard Gaussian distribution with a mean of 0 and a standard deviation of 1.</p>\n",
    "<p>It is most suitable for techniques that assume a Gaussian distribution in the input variables and work better with rescaled data, such as linear regression, logistic regression and linear discriminate analysis.</p>"
   ]
  },
  {
   "cell_type": "code",
   "execution_count": 43,
   "metadata": {},
   "outputs": [
    {
     "name": "stdout",
     "output_type": "stream",
     "text": [
      "[[ 0.64   0.848  0.15   0.907 -0.693  0.204  0.468  1.426]\n",
      " [-0.845 -1.123 -0.161  0.531 -0.693 -0.684 -0.365 -0.191]\n",
      " [ 1.234  1.944 -0.264 -1.288 -0.693 -1.103  0.604 -0.106]\n",
      " [-0.845 -0.998 -0.161  0.155  0.123 -0.494 -0.921 -1.042]\n",
      " [-1.142  0.504 -1.505  0.907  0.766  1.41   5.485 -0.02 ]]\n"
     ]
    }
   ],
   "source": [
    "from sklearn.preprocessing import StandardScaler\n",
    "\n",
    "scaler = StandardScaler().fit(X) # Imposta lo scalatore standard\n",
    "standardizedX = scaler.transform(X) # Effettua la standardizzazione su X\n",
    "\n",
    "set_printoptions(precision=3) # Imposta una precisione a 3 per numpy (sklearn si basa su numpy) per una migliore lettura\n",
    "print(standardizedX[0:5,:])"
   ]
  },
  {
   "cell_type": "markdown",
   "metadata": {},
   "source": [
    "<h2>2.3 Normalize Data</h2>\n",
    "<p>We can also rescaling each observation (row) to have a length of 1 (called a unit norm or a vector with the length of 1 in linear algebra).</p>\n",
    "<p>This pre-processing method can be useful for sparse datasets (lots of zeros) with attributes of varying scales when using algorithms that weight input values such as neural networks and algorithms that use distance measures such as k-Nearest Neighbors.</p>"
   ]
  },
  {
   "cell_type": "code",
   "execution_count": 44,
   "metadata": {},
   "outputs": [
    {
     "name": "stdout",
     "output_type": "stream",
     "text": [
      "[[0.034 0.828 0.403 0.196 0.    0.188 0.004 0.28 ]\n",
      " [0.008 0.716 0.556 0.244 0.    0.224 0.003 0.261]\n",
      " [0.04  0.924 0.323 0.    0.    0.118 0.003 0.162]\n",
      " [0.007 0.588 0.436 0.152 0.622 0.186 0.001 0.139]\n",
      " [0.    0.596 0.174 0.152 0.731 0.188 0.01  0.144]]\n"
     ]
    }
   ],
   "source": [
    "from sklearn.preprocessing import Normalizer\n",
    "\n",
    "scaler = Normalizer().fit(X) # Imposta lo scalatore normale\n",
    "normalizedX = scaler.transform(X) # Effettua la normalizzazione su X\n",
    "\n",
    "set_printoptions(precision=3) # Imposta una precisione a 3 per numpy (sklearn si basa su numpy) per una migliore lettura\n",
    "print(normalizedX[0:5,:])"
   ]
  },
  {
   "cell_type": "markdown",
   "metadata": {},
   "source": [
    "<h2>2.4 Binarize Data</h2>\n",
    "<p>We can transform the data such as all values above the threshold are marked 1 and all equal to or below are marked as 0.</p>\n",
    "<p>It can be useful when we have probabilities that we want to make crisp values. <br>\n",
    "It is also useful when feature engineering and you want to add new features that indicate something meaningful.</p>"
   ]
  },
  {
   "cell_type": "code",
   "execution_count": 45,
   "metadata": {},
   "outputs": [
    {
     "name": "stdout",
     "output_type": "stream",
     "text": [
      "[[1. 1. 1. 1. 0. 1. 1. 1.]\n",
      " [1. 1. 1. 1. 0. 1. 0. 1.]\n",
      " [1. 1. 1. 0. 0. 1. 1. 1.]\n",
      " [1. 1. 1. 1. 1. 1. 0. 1.]\n",
      " [0. 1. 1. 1. 1. 1. 1. 1.]]\n"
     ]
    }
   ],
   "source": [
    "from sklearn.preprocessing import Binarizer\n",
    "\n",
    "binarizer = Binarizer(threshold=0.5).fit(X) # Imposta la binarizzazione con soglia > a 0.5 --> 1\n",
    "binaryX = binarizer.transform(X) # Effettua la binarizzazione su X\n",
    "\n",
    "set_printoptions(precision=3) # Imposta una precisione a 3 per numpy (sklearn si basa su numpy) per una migliore lettura\n",
    "print(binaryX[0:5,:])"
   ]
  },
  {
   "cell_type": "markdown",
   "metadata": {},
   "source": [
    "<h1>3. Feature Selection</h1>\n",
    "<p>The data features used to train our machine learning models have a huge influence on the performance we can achieve.<br>\n",
    "Irrelevant or partially relevant features can negatively impact model performance.</p>\n",
    "\n",
    "<p>Feature selection is a process where we automatically select those features in our data that contribute most to the prediction variable or output in which you are interested. <br>\n",
    "Having irrelevant features in our data can decrease the accuracy of many models, especially linear algorithms like linear and logistic regression.</p>\n",
    "\n",
    "Pro:\n",
    "  <li>Reduces Overfitting: Less redundant data means less opportunity to make decisions based on noise.</li>\n",
    "  <li>Improves Accuracy: Less misleading data means modeling accuracy improves.</li>\n",
    "  <li>Reduces Training Time: Less data means that algorithms train faster.</li>"
   ]
  },
  {
   "cell_type": "markdown",
   "metadata": {},
   "source": [
    "<h2>3.1 Univariate Selection</h2>\n",
    "<p>Statistical tests can be used to select those features that have the strongest relationship with the output variable.</p>\n",
    "<p>The scikit-learn library provides the <i>SelectKBest class</i> that can be used with a suite of different statistical tests to select a specific number of features.</p>\n",
    "    \n",
    "<p>The example below uses the chi-squared (chi2) statistical test for non-negative features to select 4 of the best features.</p>"
   ]
  },
  {
   "cell_type": "code",
   "execution_count": 46,
   "metadata": {},
   "outputs": [
    {
     "name": "stdout",
     "output_type": "stream",
     "text": [
      "Punteggi:\n",
      " [ 111.52  1411.887   17.605   53.108 2175.565  127.669    5.393  181.304] \n",
      "\n",
      "[[148.    0.   33.6  50. ]\n",
      " [ 85.    0.   26.6  31. ]\n",
      " [183.    0.   23.3  32. ]\n",
      " [ 89.   94.   28.1  21. ]\n",
      " [137.  168.   43.1  33. ]]\n"
     ]
    }
   ],
   "source": [
    "from sklearn.feature_selection import SelectKBest\n",
    "from sklearn.feature_selection import chi2\n",
    "\n",
    "chi_test = SelectKBest(score_func=chi2, k=4).fit(X, Y) # Seleziona i 4 migliori attributi mediante il test di chi-quadro\n",
    "features = chi_test.transform(X) # Effettua il test di chi-quadro\n",
    "\n",
    "set_printoptions(precision=3) # Imposta una precisione a 3 per numpy (sklearn si basa su numpy) per una migliore lettura\n",
    "print(\"Punteggi:\\n\", chi_test.scores_, \"\\n\")\n",
    "print(features[0:5,:])"
   ]
  },
  {
   "cell_type": "markdown",
   "metadata": {},
   "source": [
    "<h2>3.2 Recursive Feature Elimination</h2>\n",
    "<p>The Recursive Feature Elimination (or RFE) works by recursively removing attributes and building a model on those attributes that remain.<br>\n",
    "It uses the model accuracy to identify which attributes (and combination of attributes) contribute the most to predicting the target attribute.</p>"
   ]
  },
  {
   "cell_type": "code",
   "execution_count": 47,
   "metadata": {},
   "outputs": [
    {
     "name": "stdout",
     "output_type": "stream",
     "text": [
      "Num Features: 3\n",
      "Selected Features: [ True False False False False  True  True False]\n",
      "Feature Ranking: [1 2 3 5 6 1 1 4]\n"
     ]
    }
   ],
   "source": [
    "from sklearn.feature_selection import RFE\n",
    "from sklearn.linear_model import LogisticRegression\n",
    "\n",
    "model = LogisticRegression() # Seleziona il modello di regressione logistica\n",
    "rfe = RFE(model, 3) # Imposta la RFE sul modello di regressione richiedendo i 3 migliori attributi\n",
    "fit = rfe.fit(X, Y)\n",
    "\n",
    "print(\"Num Features:\", fit.n_features_) # Visualizza il numero di feature selezionate\n",
    "print(\"Selected Features:\", fit.support_) # Visualizza le feature selezionate\n",
    "print(\"Feature Ranking:\", fit.ranking_) # Visualizza le feature in ordine di importanza (1 = feature già selezionata)"
   ]
  },
  {
   "cell_type": "markdown",
   "metadata": {},
   "source": [
    "<h2>3.3 Principal Component Analysis</h2>\n",
    "<p>Principal Component Analysis (or PCA) uses linear algebra to transform the dataset into a compressed form (generally called data reduction technique).<br>\n",
    "A property of PCA is that we can choose the number of dimensions or principal components in the transformed result."
   ]
  },
  {
   "cell_type": "code",
   "execution_count": 48,
   "metadata": {},
   "outputs": [
    {
     "name": "stdout",
     "output_type": "stream",
     "text": [
      "Explained Variance: [0.889 0.062 0.026]\n",
      "Components:\n",
      " [[-2.022e-03  9.781e-02  1.609e-02  6.076e-02  9.931e-01  1.401e-02\n",
      "   5.372e-04 -3.565e-03]\n",
      " [-2.265e-02 -9.722e-01 -1.419e-01  5.786e-02  9.463e-02 -4.697e-02\n",
      "  -8.168e-04 -1.402e-01]\n",
      " [-2.246e-02  1.434e-01 -9.225e-01 -3.070e-01  2.098e-02 -1.324e-01\n",
      "  -6.400e-04 -1.255e-01]]\n"
     ]
    }
   ],
   "source": [
    "from sklearn.decomposition import PCA\n",
    "\n",
    "pca = PCA(n_components=3) # Imposta la PCA con un numero di componenti pari a 3\n",
    "fit = pca.fit(X) # Applica la PCA ad X\n",
    "\n",
    "print(\"Explained Variance:\", fit.explained_variance_ratio_)\n",
    "print(\"Components:\\n\", fit.components_)"
   ]
  },
  {
   "cell_type": "markdown",
   "metadata": {},
   "source": [
    "<h2>3.4 Feature Importance</h2>\n",
    "<p>Bagged decision trees (like Random Forest and Extra Trees) can be used to estimate the importance of features.</p>"
   ]
  },
  {
   "cell_type": "code",
   "execution_count": 49,
   "metadata": {},
   "outputs": [
    {
     "name": "stdout",
     "output_type": "stream",
     "text": [
      "[0.112 0.204 0.096 0.078 0.083 0.156 0.123 0.148]\n"
     ]
    }
   ],
   "source": [
    "from sklearn.ensemble import ExtraTreesClassifier\n",
    "\n",
    "model = ExtraTreesClassifier() # Seleziona l'ETC model\n",
    "model.fit(X, Y) # Applica l'ETC model ai dati\n",
    "\n",
    "print(model.feature_importances_) # Visualizza l'importanza degli attributi (più il singolo valoretende ad 1 più è importante)\n",
    "# In questo caso pare che gli attributi migliori risultino \"plas\" (con 0.242), \"age\" (con 0.138) and \"mass\" (con 0.136)."
   ]
  },
  {
   "cell_type": "markdown",
   "metadata": {},
   "source": [
    "<h1>4. Evaluating ML Algorithms</h1>\n",
    "<p>We need to know how well our algorithms perform on unseen data.<br>\n",
    "The best way to evaluate the performance of an algorithm would be to make predictions for new data to which you already know the answers.</p>\n",
    "<p>The second best way is to use clever techniques from statistics called resampling methods that allow you to make accurate estimates for how well your algorithm will perform on new data.</p>\n",
    "\n",
    "We had four different techniques that we can use to split up our training dataset and create useful estimates of performance for our machine learning algorithms:\n",
    "    <li>Train and Test Sets</li>\n",
    "    <li>k-fold Cross Validation</li>\n",
    "    <li>Leave One Out Cross Validation</li>\n",
    "    <li>Repeated Random Test-Train Splits</li>\n",
    "\n",
    "Hint:\n",
    "<li>Using a train/test split is good for speed when using a slow algorithm and produces performance estimates with lower bias when using large datasets</li>\n",
    "<li>Techniques like leave-one-out cross validation and repeated random splits can be useful intermediates when trying to balance variance in the estimated performance, model training speed and dataset size</li>\n",
    "<li>The best advice is to experiment and find a technique for your problem that is fast and produces reasonable estimates of performance that you can use to make decisions</li>\n",
    "<li>If in doubt, use 10-fold cross validation</li>"
   ]
  },
  {
   "cell_type": "markdown",
   "metadata": {},
   "source": [
    "<h2>4.1 Split into Train and Test Sets</h2>\n",
    "<p>The simplest method that we can use to evaluate the performance of a machine learning algorithm is to use different training and testing datasets.<br>\n",
    "We can take our original dataset and split it into two parts. Train the algorithm on the first part, make predictions on the second part and evaluate the predictions against the expected results.</p>\n",
    "\n",
    "<p>The size of the split can depend on the size and specifics of your dataset, although it is common to use 67% of the data for training and the remaining 33% for testing.</p>\n",
    "\n",
    "PRO:\n",
    "<ul>\n",
    "    <li>This algorithm evaluation technique is very fast (ideal for large datasets (millions of records) where there is strong evidence that both splits of the data are representative of the underlying problem)</ul>\n",
    "CONS:\n",
    "<ul>\n",
    "    <li>We can have a high variance (differences in the training and test dataset can result in meaningful differences in the estimate of accuracy)\n",
    "</ul>"
   ]
  },
  {
   "cell_type": "code",
   "execution_count": 50,
   "metadata": {},
   "outputs": [
    {
     "name": "stdout",
     "output_type": "stream",
     "text": [
      "Accuracy: 75.591\n"
     ]
    }
   ],
   "source": [
    "from sklearn.model_selection import train_test_split\n",
    "from sklearn.linear_model import LogisticRegression\n",
    "\n",
    "test_size = 0.33 # Il test set rappresenta il 33% del dataset totale\n",
    "seed = 7 # Siccome la scelta dei campioni per il test set è casuale, fissiamo un seed per la riproducibilità dell'esperimento\n",
    "\n",
    "X_train, X_test, Y_train, Y_test = train_test_split(X, Y, test_size=test_size, random_state=seed) # Creazione dei train e test set\n",
    "\n",
    "model = LogisticRegression() # Selezione di un modello logistico\n",
    "model.fit(X_train, Y_train) # Applicazione del modello logistico ai dati di training\n",
    "\n",
    "result = model.score(X_test, Y_test) # Calcolo dell'accuracy\n",
    "print(\"Accuracy:\", round(result*100.0, 3))"
   ]
  },
  {
   "cell_type": "markdown",
   "metadata": {},
   "source": [
    "<h2>4.2 K-fold Cross Validation</h2>\n",
    "<p>It works by splitting the dataset into k-parts (e.g. k = 5 or k = 10), where each split of the data is called a fold.<br>\n",
    "The algorithm is trained on k − 1 folds with one held back and tested on the held back fold. This is repeated so that each fold of the dataset is given a chance to be the held back test set.<br>\n",
    "After running cross validation you end up with k different performance scores that you can summarize using a mean and a standard deviation</p>\n",
    "\n",
    "<p>The choice of k must allow the size of each test partition to be large enough to be a reasonable sample of the problem, whilst allowing enough repetitions of the train-test evaluation of the algorithm to provide a fair estimate of the algorithms performance on unseen data.</p><br>\n",
    "\n",
    "PRO:\n",
    "<li>Less variance than a single train-test set split</li>\n",
    "<li>The result is a more accurate and we had a reliable estimate of the performance of the algorithm on new data.</li>\n",
    "CONS:\n",
    "<li>More test implies more computation</li>\n",
    "\n",
    "<p>Hint: For modest sized datasets in the thousands or tens of thousands of records, k values of 3, 5 and 10 are common</p>"
   ]
  },
  {
   "cell_type": "code",
   "execution_count": 51,
   "metadata": {},
   "outputs": [
    {
     "name": "stdout",
     "output_type": "stream",
     "text": [
      "Accuracy: 77.086\n",
      "Dev. Std: 5.091\n"
     ]
    }
   ],
   "source": [
    "from sklearn.model_selection import KFold\n",
    "from sklearn.model_selection import cross_val_score\n",
    "from sklearn.linear_model import LogisticRegression\n",
    "\n",
    "num_folds = 10 # Imposta la divisione del dataset in 10 parti\n",
    "seed = 7\n",
    "\n",
    "kfold = KFold(n_splits=num_folds, random_state=seed, shuffle=True) # Imposta la kfold\n",
    "model = LogisticRegression() # Crea un modello logistico\n",
    "results = cross_val_score(model, X, Y, cv=kfold) # Applica la CV sul modello e sui dati\n",
    "\n",
    "print(\"Accuracy:\", round(results.mean()*100.0, 3))\n",
    "print(\"Dev. Std:\", round(results.std()*100.0, 3))"
   ]
  },
  {
   "cell_type": "markdown",
   "metadata": {},
   "source": [
    "<h2>4.3 Leave One Out Cross Validation</h2>\n",
    "<p>Setting k-fold = 1 is also called leave-one-out cross validation</p>\n",
    "<p>The result is a large number of performance measures that can be summarized in an effort to give a more reasonable estimate of the accuracy of your model on unseen data.</p>\n",
    "\n",
    "PRO:\n",
    "<li>Usefull when we had few datas</li>\n",
    "CONS:\n",
    "<li>Computationally expensive if we had a lot of data</li>\n",
    "\n",
    "\n",
    "Hint: Use it only when you had little datasets"
   ]
  },
  {
   "cell_type": "code",
   "execution_count": 52,
   "metadata": {},
   "outputs": [
    {
     "name": "stdout",
     "output_type": "stream",
     "text": [
      "Accuracy: 77.086\n",
      "Dev. Std: 5.091\n"
     ]
    }
   ],
   "source": [
    "from sklearn.model_selection import LeaveOneOut\n",
    "from sklearn.model_selection import cross_val_score\n",
    "from sklearn.linear_model import LogisticRegression\n",
    "\n",
    "num_folds = 10 # Imposta la divisione del dataset in 10 parti\n",
    "\n",
    "loocv = LeaveOneOut() # Imposta la leave one out\n",
    "model = LogisticRegression() # Seleziona il modello logistico\n",
    "\n",
    "print(\"Accuracy:\", round(results.mean()*100.0, 3))\n",
    "print(\"Dev. Std:\", round(results.std()*100.0, 3))\n",
    "# Notare l'alta std rispetto alla tecnica precedente"
   ]
  },
  {
   "cell_type": "markdown",
   "metadata": {},
   "source": [
    "<h2>4.4 Repeated Random Test-Train Splits</h2>\n",
    "<p>Another variation on k-fold cross validation is to create a random split of the data like the train/test split described above, but repeat the process of splitting and evaluation of the algorithm multiple times, like cross validation</p>\n",
    "\n",
    "PRO:\n",
    "<li>Speed of using a train/test split and the reduction in variance in the estimated performance of k-fold cross validation.</li>\n",
    "\n",
    "CONS:\n",
    "<li>Repetitions may include much of the same data in the train or the test split from run to run, introducing redundancy into the evaluation.</li>"
   ]
  },
  {
   "cell_type": "code",
   "execution_count": 53,
   "metadata": {},
   "outputs": [
    {
     "name": "stdout",
     "output_type": "stream",
     "text": [
      "Accuracy: 76.97\n",
      "Dev. Std: 1.366\n"
     ]
    }
   ],
   "source": [
    "from sklearn.model_selection import ShuffleSplit\n",
    "from sklearn.model_selection import cross_val_score\n",
    "from sklearn.linear_model import LogisticRegression\n",
    "\n",
    "n_splits = 10 # Imposta la divisione del dataset in 10 parti\n",
    "test_size = 0.3 # Il test set rappresenta il 33% del dataset totale\n",
    "seed = 7\n",
    "\n",
    "kfold = ShuffleSplit(n_splits=n_splits, test_size=test_size, random_state=seed) # Imposta la shufflesplit\n",
    "model = LogisticRegression() # Seleziona il modello logistico\n",
    "results = cross_val_score(model, X, Y, cv=kfold) # Applica la CV sul modello e sui dati\n",
    "\n",
    "print(\"Accuracy:\", round(results.mean()*100.0, 3))\n",
    "print(\"Dev. Std:\", round(results.std()*100.0, 3))\n",
    "#Notiamo come abbia un'accuracy simile alla k-fold CV ma una bassissima dev. standard"
   ]
  },
  {
   "cell_type": "markdown",
   "metadata": {},
   "source": [
    "<h1>5. Performance Metrics</h1>\n",
    "<p>The metrics that we choose to evaluate our machine learning algorithms are very important, because influences how the performance of machine learning algorithms is measured and compared.<br>\n",
    "This influence which algorithm to choose.</p>\n",
    "\n",
    "<p>We had 2 types of classification metrics:\n",
    "    <li>For classification purpose</li>\n",
    "    <li>For regression purpose</li>\n",
    "</p>"
   ]
  },
  {
   "cell_type": "markdown",
   "metadata": {},
   "source": [
    "<h2>5.1 Metrics for Classification Problems</h2>\n",
    "<p>The main classification metrics are:\n",
    "    <li>Classification Accuracy</li>\n",
    "    <li>Logarithmic Loss</li>\n",
    "    <li>Area Under ROC Curve</li>\n",
    "    <li>Confusion Matrix</li>\n",
    "    <li>Classification Report</li></p>"
   ]
  },
  {
   "cell_type": "markdown",
   "metadata": {},
   "source": [
    "<h3>5.1.1 Classification Accuracy</h3>\n",
    "<p>Classification accuracy is the number of correct predictions made as a ratio of all predictions made.<br>\n",
    "    This is the most common evaluation metric for classification problems, it is also the most misused.</p>\n",
    "    \n",
    "<p>Hint: Use only there are an equal number of observations in each class (which is rarely the case) and that all predictions and prediction errors are equally important (which is often not the case)</p>\n"
   ]
  },
  {
   "cell_type": "code",
   "execution_count": 54,
   "metadata": {},
   "outputs": [
    {
     "name": "stdout",
     "output_type": "stream",
     "text": [
      "Accuracy: 76.951\n",
      "Dev. Std: 4.841\n"
     ]
    }
   ],
   "source": [
    "from sklearn.model_selection import KFold\n",
    "from sklearn.model_selection import cross_val_score\n",
    "from sklearn.linear_model import LogisticRegression\n",
    "\n",
    "kfold = KFold(n_splits=10, random_state=7) # Imposta la kfold cv (k=10)\n",
    "model = LogisticRegression() # Seleziona il modello logistico\n",
    "results = cross_val_score(model, X, Y, cv=kfold, scoring='accuracy') # Applica la CV sul modello e sui dati e ne misura le performance mediante l'accuracy\n",
    "\n",
    "print(\"Accuracy:\", round(results.mean()*100.0, 3))\n",
    "print(\"Dev. Std:\", round(results.std()*100.0, 3))"
   ]
  },
  {
   "cell_type": "markdown",
   "metadata": {},
   "source": [
    "<h3>5.1.2 Logarithmic Loss</h3>\n",
    "<p>Logarithmic loss (or logloss) is a performance metric for evaluating the predictions of probabilities of membership to a given class.<br>\n",
    "The scalar probability between 0 and 1 can be seen as a measure of confidence for a prediction by an algorithm.</p>\n",
    "<p>Predictions that are correct or incorrect are rewarded or punished proportionally to the confidence of the prediction.</p>"
   ]
  },
  {
   "cell_type": "code",
   "execution_count": 55,
   "metadata": {},
   "outputs": [
    {
     "name": "stdout",
     "output_type": "stream",
     "text": [
      "Logloss: -49.255\n",
      "Dev. Std: 4.701\n"
     ]
    }
   ],
   "source": [
    "from sklearn.model_selection import KFold\n",
    "from sklearn.model_selection import cross_val_score\n",
    "from sklearn.linear_model import LogisticRegression\n",
    "\n",
    "kfold = KFold(n_splits=10, random_state=7) # Imposta la kfold cv (k=10)\n",
    "model = LogisticRegression() # Seleziona il modello logistico\n",
    "results = cross_val_score(model, X, Y, cv=kfold, scoring='neg_log_loss') # Applica la CV sul modello e sui dati e ne misura le performance mediante la logarithmic loss\n",
    "\n",
    "print(\"Logloss:\", round(results.mean()*100.0, 3))\n",
    "print(\"Dev. Std:\", round(results.std()*100.0, 3))"
   ]
  },
  {
   "cell_type": "markdown",
   "metadata": {},
   "source": [
    "<h3>5.1.3 Area Under ROC Curve</h3>\n",
    "<p>Area under ROC Curve (or AUC for short) is a performance metric for binary classification problems.</p>\n",
    "<p>The AUC represents a model’s ability to discriminate between positive and negative classes. An area of 1.0 represents a model that made all predictions perfectly. An area of 0.5 represents a model that is as good as random.</p>\n",
    "<p>ROC can be broken down into sensitivity and specificity, so, a binary classification problem is really a trade-off between sensitivity and specificity, where:\n",
    "    <li>Sensitivity = true positive rate</li>\n",
    "    <li>Specificity = true negative rate</li>"
   ]
  },
  {
   "cell_type": "code",
   "execution_count": 56,
   "metadata": {},
   "outputs": [
    {
     "name": "stdout",
     "output_type": "stream",
     "text": [
      "AUC: 82.357\n",
      "Dev. Std: 4.084\n"
     ]
    }
   ],
   "source": [
    "from sklearn.model_selection import KFold\n",
    "from sklearn.model_selection import cross_val_score\n",
    "from sklearn.linear_model import LogisticRegression\n",
    "\n",
    "kfold = KFold(n_splits=10, random_state=7) # Imposta la kfold cv (k=10)\n",
    "model = LogisticRegression() # Seleziona il modello logistico\n",
    "results = cross_val_score(model, X, Y, cv=kfold, scoring='roc_auc') # Applica la CV sul modello e sui dati e ne misura le performance mediante la logarithmic loss\n",
    "\n",
    "print(\"AUC:\", round(results.mean()*100.0, 3))\n",
    "print(\"Dev. Std:\", round(results.std()*100.0, 3))"
   ]
  },
  {
   "cell_type": "markdown",
   "metadata": {},
   "source": [
    "<h3>5.1.4 Confusion Matrix</h3>\n",
    "<p>The confusion matrix is a handy presentation of the accuracy of a model with two or more classes</p>\n",
    "<img src=\"images/ML/ML1.png\" alt=\"Confusion Matrix\" height=\"50%\" width=\"50%\">"
   ]
  },
  {
   "cell_type": "code",
   "execution_count": 57,
   "metadata": {},
   "outputs": [
    {
     "name": "stdout",
     "output_type": "stream",
     "text": [
      "[[141  21]\n",
      " [ 41  51]]\n"
     ]
    }
   ],
   "source": [
    "from sklearn.model_selection import train_test_split\n",
    "from sklearn.linear_model import LogisticRegression\n",
    "from sklearn.metrics import confusion_matrix\n",
    "\n",
    "test_size = 0.33\n",
    "seed = 7\n",
    "\n",
    "X_train, X_test, Y_train, Y_test = train_test_split(X, Y, test_size=test_size, random_state=seed)\n",
    "model = LogisticRegression() # Seleziona il modello logistico\n",
    "model.fit(X_train, Y_train) # Carica i dati nel modello logistico\n",
    "\n",
    "predicted = model.predict(X_test) # Effettua le predizioni sul modello logistico sul test set\n",
    "matrix = confusion_matrix(Y_test, predicted) # Misura le performance generando una confusion matrix\n",
    "print(matrix)"
   ]
  },
  {
   "cell_type": "markdown",
   "metadata": {},
   "source": [
    "<h3>5.1.5 Classification Report</h3>\n",
    "<p>The classification report displays the precision, recall, F1-score and support for each class.</p>"
   ]
  },
  {
   "cell_type": "code",
   "execution_count": 58,
   "metadata": {},
   "outputs": [
    {
     "name": "stdout",
     "output_type": "stream",
     "text": [
      "             precision    recall  f1-score   support\n",
      "\n",
      "        0.0       0.77      0.87      0.82       162\n",
      "        1.0       0.71      0.55      0.62        92\n",
      "\n",
      "avg / total       0.75      0.76      0.75       254\n",
      "\n"
     ]
    }
   ],
   "source": [
    "from sklearn.model_selection import train_test_split\n",
    "from sklearn.linear_model import LogisticRegression\n",
    "from sklearn.metrics import classification_report\n",
    "\n",
    "X_train, X_test, Y_train, Y_test = train_test_split(X, Y, test_size=test_size, random_state=seed)\n",
    "model = LogisticRegression() # Seleziona il modello logistico\n",
    "model.fit(X_train, Y_train) # Carica i dati nel modello logistico\n",
    "\n",
    "predicted = model.predict(X_test) # Effettua le predizioni sul modello logistico sul test set\n",
    "report = classification_report(Y_test, predicted) # Genera i risultati di precision, recall, f1 e support\n",
    "print(report)"
   ]
  },
  {
   "cell_type": "markdown",
   "metadata": {},
   "source": [
    "<h2>5.2 Metrics for Regression Problems</h2>\n",
    "<p>The main classification metrics are:\n",
    "    <li>Mean Absolute Error</li>\n",
    "    <li>Mean Squared Error</li>\n",
    "    <li>R2</li>\n",
    "</p>\n",
    "\n",
    "n.b. For this metrics we will use a new dataset: Boston Prices"
   ]
  },
  {
   "cell_type": "markdown",
   "metadata": {},
   "source": [
    "<h3>5.2.1 Mean Absolute Error</h3>\n",
    "<p>The Mean Absolute Error (or MAE) is the sum of the absolute differences between predictions and actual values.</p><br>\n",
    "PRO:\n",
    "    <li>It gives an idea of how wrong the predictions were</li>\n",
    "\n",
    "CONS:\n",
    "    <li>It can't explain the direction of the error (e.g. over or under predicting)"
   ]
  },
  {
   "cell_type": "code",
   "execution_count": 59,
   "metadata": {},
   "outputs": [
    {
     "name": "stdout",
     "output_type": "stream",
     "text": [
      "MAE: -4.005\n",
      "Dev. Std: 2.084\n"
     ]
    }
   ],
   "source": [
    "from pandas import read_csv\n",
    "from sklearn.model_selection import KFold\n",
    "from sklearn.model_selection import cross_val_score\n",
    "from sklearn.linear_model import LinearRegression\n",
    "\n",
    "names = ['Index', 'CRIM', 'ZN', 'INDUS', 'CHAS', 'NOX', 'RM', 'AGE', 'DIS', 'RAD', 'TAX', 'PTRATIO',\n",
    "'B', 'LSTAT', 'MEDV']\n",
    "dataframe = read_csv('dataset/Boston-full.csv', names=names, header=0) \n",
    "dataframe = dataframe.drop(columns=['Index'], axis=1) # Eliminiamo l'index dal dataset in quanto inutile ai fini della classificazione\n",
    "array = dataframe.values # Converte la struttura del dataframe in una matrice\n",
    "X = array[:,0:13]\n",
    "Y = array[:,13]\n",
    "kfold = KFold(n_splits=10, random_state=7)\n",
    "\n",
    "model = LinearRegression() # Seleziona il modello logistico\n",
    "results = cross_val_score(model, X, Y, cv=kfold, scoring='neg_mean_absolute_error') \n",
    "\n",
    "print(\"MAE:\", round(results.mean(), 3))\n",
    "print(\"Dev. Std:\", round(results.std(), 3))\n",
    "# A value of 0 indicates no error or perfect predictions."
   ]
  },
  {
   "cell_type": "markdown",
   "metadata": {},
   "source": [
    "<h3>5.2.2 Mean Squared Error</h3>\n",
    "<p>The Mean Squared Error (or MSE) is much like the mean absolute error in that it provides a gross idea of the magnitude of error.</p>\n",
    "<p>Taking the square root of the mean squared error converts the units back to the original units of the output variable and can be meaningful for description and presentation (called the Root Mean Squared Error (or RMSE))"
   ]
  },
  {
   "cell_type": "code",
   "execution_count": 60,
   "metadata": {},
   "outputs": [
    {
     "name": "stdout",
     "output_type": "stream",
     "text": [
      "MSE: -34.705\n",
      "Dev. Std: 45.574\n"
     ]
    }
   ],
   "source": [
    "from pandas import read_csv\n",
    "from sklearn.model_selection import KFold\n",
    "from sklearn.model_selection import cross_val_score\n",
    "from sklearn.linear_model import LinearRegression\n",
    "\n",
    "kfold = KFold(n_splits=10, random_state=7)\n",
    "model = LinearRegression() # Seleziona il modello logistico\n",
    "results = cross_val_score(model, X, Y, cv=kfold, scoring='neg_mean_squared_error')\n",
    "\n",
    "print(\"MSE:\", round(results.mean(), 3))\n",
    "print(\"Dev. Std:\", round(results.std(), 3))"
   ]
  },
  {
   "cell_type": "markdown",
   "metadata": {},
   "source": [
    "<h3>5.2.3 R2</h3>\n",
    "<p>The R2 (or R Squared or Coefficient of Determination) metric provides an indication of the goodness of fit of a set of predictions to the actual values.<br>\n",
    "This is a value between 0 and 1 for no-fit and perfect fit respectively.</p>"
   ]
  },
  {
   "cell_type": "code",
   "execution_count": 61,
   "metadata": {},
   "outputs": [
    {
     "name": "stdout",
     "output_type": "stream",
     "text": [
      "MSE: 0.203\n",
      "Dev. Std: 0.595\n"
     ]
    }
   ],
   "source": [
    "from pandas import read_csv\n",
    "from sklearn.model_selection import KFold\n",
    "from sklearn.model_selection import cross_val_score\n",
    "from sklearn.linear_model import LinearRegression\n",
    "\n",
    "kfold = KFold(n_splits=10, random_state=7)\n",
    "model = LinearRegression() # Seleziona il modello logistico\n",
    "results = cross_val_score(model, X, Y, cv=kfold, scoring='r2')\n",
    "\n",
    "print(\"MSE:\", round(results.mean(), 3))\n",
    "print(\"Dev. Std:\", round(results.std(), 3))"
   ]
  },
  {
   "cell_type": "markdown",
   "metadata": {},
   "source": [
    "<h1>6. Spot-Checking</h1>\n",
    "<p>Spot-checking is a way of discovering which algorithms perform well on our machine learning problem, because we cannot know which algorithms are best suited to your problem beforehand.</p>\n",
    "<p>The question is: What algorithms should we spot-check on our dataset?<br>\n",
    "    We must trial a number of methods and focus attention on those that prove themselves the most promising</p>\n",
    "\n",
    "<p>Hint: trying a mixture of algorithms that might do well on our dataset and see what is good at picking out the structure in our data<p>"
   ]
  },
  {
   "cell_type": "markdown",
   "metadata": {},
   "source": [
    "<h2>6.1 Strategy</h2>\n",
    "<ul>\n",
    "    <li>Try a mixture of algorithm representations (e.g. instances and trees)</li>\n",
    "    <li>Try a mixture of learning algorithms (e.g. different algorithms for learning the same type\n",
    "        of representation).</li>\n",
    "    <li>Try a mixture of modeling types (e.g. linear and nonlinear functions or parametric and nonparametric)</li>\n",
    "</ul>\n",
    "    <p>We will test now some of them</p>"
   ]
  },
  {
   "cell_type": "markdown",
   "metadata": {},
   "source": [
    "<h2>6.2 Spot-Checking (for Classification Problems)</h2>\n",
    "<ul>\n",
    "    <li>Try a mixture of algorithm representations (e.g. instances and trees)</li>\n",
    "    <li>Try a mixture of learning algorithms (e.g. different algorithms for learning the same type\n",
    "        of representation).</li>\n",
    "    <li>Try a mixture of modeling types (e.g. linear and nonlinear functions or parametric and nonparametric)</li>\n",
    "</ul>\n",
    "    <p>We will test now some of them</p>"
   ]
  },
  {
   "cell_type": "markdown",
   "metadata": {},
   "source": [
    "<h3>6.2.1 Linear Machine Learning Algorithms</h3>\n",
    "<p>This section demonstrates minimal recipes for how to use some linear ML algorithms</p>\n"
   ]
  },
  {
   "cell_type": "markdown",
   "metadata": {},
   "source": [
    "<h4>6.2.1.1 Logistic Regression</h4>\n",
    "<p>Logistic regression assumes a Gaussian distribution for the numeric input variables and can model binary classification problems.</p>"
   ]
  },
  {
   "cell_type": "code",
   "execution_count": 67,
   "metadata": {},
   "outputs": [
    {
     "name": "stdout",
     "output_type": "stream",
     "text": [
      "0.7695146958304853\n"
     ]
    }
   ],
   "source": [
    "# Logistic Regression Classification\n",
    "from pandas import read_csv\n",
    "from sklearn.model_selection import KFold\n",
    "from sklearn.model_selection import cross_val_score\n",
    "from sklearn.linear_model import LogisticRegression\n",
    "\n",
    "names = ['preg', 'plas', 'pres', 'skin', 'test', 'mass', 'pedi', 'age', 'class']\n",
    "dataframe = read_csv('dataset/pima-indians-diabetes.csv', names=names, header=0)\n",
    "array = dataframe.values\n",
    "X = array[:,0:8]\n",
    "Y = array[:,8]\n",
    "\n",
    "kfold = KFold(n_splits=10, random_state=7)\n",
    "model = LogisticRegression()\n",
    "results = cross_val_score(model, X, Y, cv=kfold)\n",
    "print(results.mean())"
   ]
  },
  {
   "cell_type": "markdown",
   "metadata": {},
   "source": [
    "<h4>6.2.1.2 Linear Discriminant Analysis</h4>\n",
    "<p>Linear Discriminant Analysis (or LDA) is a statistical technique for binary and multiclass classification. It too assumes a Gaussian distribution for the numerical input variables.</p>"
   ]
  },
  {
   "cell_type": "code",
   "execution_count": 69,
   "metadata": {},
   "outputs": [
    {
     "name": "stdout",
     "output_type": "stream",
     "text": [
      "0.773462064251538\n"
     ]
    }
   ],
   "source": [
    "# LDA Classification\n",
    "from pandas import read_csv\n",
    "from sklearn.model_selection import KFold\n",
    "from sklearn.model_selection import cross_val_score\n",
    "from sklearn.discriminant_analysis import LinearDiscriminantAnalysis\n",
    "\n",
    "kfold = KFold(n_splits=10, random_state=7)\n",
    "model = LinearDiscriminantAnalysis()\n",
    "results = cross_val_score(model, X, Y, cv=kfold)\n",
    "print(results.mean())"
   ]
  },
  {
   "cell_type": "markdown",
   "metadata": {},
   "source": [
    "<h3>6.2.2 Nonlinear Machine Learning Algorithms</h3>\n",
    "<p>This section demonstrates minimal recipes for how to use some non linear ML algorithms</p>"
   ]
  },
  {
   "cell_type": "markdown",
   "metadata": {},
   "source": [
    "<h4>6.2.2.1 k-Nearest Neighbors</h4>\n",
    "<p>The k-Nearest Neighbors algorithm (or KNN) uses a distance metric to find the k most similar instances in the training data for a new instance and takes the mean outcome of the neighbors as the prediction.</p>\n"
   ]
  },
  {
   "cell_type": "code",
   "execution_count": 70,
   "metadata": {},
   "outputs": [
    {
     "name": "stdout",
     "output_type": "stream",
     "text": [
      "0.7265550239234451\n"
     ]
    }
   ],
   "source": [
    "# KNN Classification\n",
    "from pandas import read_csv\n",
    "from sklearn.model_selection import KFold\n",
    "from sklearn.model_selection import cross_val_score\n",
    "from sklearn.neighbors import KNeighborsClassifier\n",
    "\n",
    "kfold = KFold(n_splits=10, random_state=7)\n",
    "model = KNeighborsClassifier()\n",
    "results = cross_val_score(model, X, Y, cv=kfold)\n",
    "print(results.mean())"
   ]
  },
  {
   "cell_type": "markdown",
   "metadata": {},
   "source": [
    "<h4>6.2.2.2 Naive Bayes</h4>\n",
    "<p>Naive Bayes calculates the probability of each class and the conditional probability of each class given each input value. These probabilities are estimated for new data and multiplied together, assuming that they are all independent (a simple or naive assumption).<br>\n",
    "When working with real-valued data, a Gaussian distribution is assumed to easily estimate the probabilities for input variables using the Gaussian Probability Density Function.</p>"
   ]
  },
  {
   "cell_type": "code",
   "execution_count": 71,
   "metadata": {},
   "outputs": [
    {
     "name": "stdout",
     "output_type": "stream",
     "text": [
      "0.7551777170198223\n"
     ]
    }
   ],
   "source": [
    "# Gaussian Naive Bayes Classification\n",
    "from pandas import read_csv\n",
    "from sklearn.model_selection import KFold\n",
    "from sklearn.model_selection import cross_val_score\n",
    "from sklearn.naive_bayes import GaussianNB\n",
    "\n",
    "kfold = KFold(n_splits=10, random_state=7)\n",
    "model = GaussianNB()\n",
    "results = cross_val_score(model, X, Y, cv=kfold)\n",
    "print(results.mean())"
   ]
  },
  {
   "cell_type": "markdown",
   "metadata": {},
   "source": [
    "<h4>6.2.2.3 Classification and Regression Trees</h4>\n",
    "<p>Classification and Regression Trees (CART or just decision trees) construct a binary tree from the training data. Split points are chosen greedily by evaluating each attribute and each value of each attribute in the training data in order to minimize a cost function (like the Gini index).</p>"
   ]
  },
  {
   "cell_type": "code",
   "execution_count": 72,
   "metadata": {},
   "outputs": [
    {
     "name": "stdout",
     "output_type": "stream",
     "text": [
      "0.6952153110047847\n"
     ]
    }
   ],
   "source": [
    "# CART Classification\n",
    "from pandas import read_csv\n",
    "from sklearn.model_selection import KFold\n",
    "from sklearn.model_selection import cross_val_score\n",
    "from sklearn.tree import DecisionTreeClassifier\n",
    "\n",
    "kfold = KFold(n_splits=10, random_state=7)\n",
    "model = DecisionTreeClassifier()\n",
    "results = cross_val_score(model, X, Y, cv=kfold)\n",
    "print(results.mean())"
   ]
  },
  {
   "cell_type": "markdown",
   "metadata": {},
   "source": [
    "<h4>6.2.2.4 Support Vector Machines</h4>\n",
    "<p>Support Vector Machines (or SVM) seek a line that best separates two classes. Those data instances that are closest to the line that best separates the classes are called support vectors and influence where the line is placed. SVM has been extended to support multiple classes.<br>\n",
    "A powerful Radial Basis Function is used by default.</p>"
   ]
  },
  {
   "cell_type": "code",
   "execution_count": 73,
   "metadata": {},
   "outputs": [
    {
     "name": "stdout",
     "output_type": "stream",
     "text": [
      "0.6510252904989747\n"
     ]
    }
   ],
   "source": [
    "# SVM Classification\n",
    "from pandas import read_csv\n",
    "from sklearn.model_selection import KFold\n",
    "from sklearn.model_selection import cross_val_score\n",
    "from sklearn.svm import SVC\n",
    "\n",
    "kfold = KFold(n_splits=10, random_state=7)\n",
    "model = SVC()\n",
    "results = cross_val_score(model, X, Y, cv=kfold)\n",
    "print(results.mean())"
   ]
  },
  {
   "cell_type": "markdown",
   "metadata": {},
   "source": [
    "<h2>6.3 Spot-Checking (for Regression Problems)</h2>\n",
    "<ul>\n",
    "    <li>Try a mixture of algorithm representations (e.g. instances and trees)</li>\n",
    "    <li>Try a mixture of learning algorithms (e.g. different algorithms for learning the same type\n",
    "        of representation).</li>\n",
    "    <li>Try a mixture of modeling types (e.g. linear and nonlinear functions or parametric and nonparametric)</li>\n",
    "</ul>\n",
    "    <p>We will test now some of them</p>"
   ]
  },
  {
   "cell_type": "markdown",
   "metadata": {},
   "source": [
    "<h3>6.3.1 Linear Machine Learning Algorithms</h3>\n",
    "<p>This section demonstrates minimal recipes for how to use some linear ML algorithms</p>\n"
   ]
  },
  {
   "cell_type": "markdown",
   "metadata": {},
   "source": [
    "<h4>6.3.1.1 Linear Regression</h4>\n",
    "<p>Linear regression assumes that the input variables have a Gaussian distribution. It is also assumed that input variables are relevant to the output variable and that they are not highly correlated with each other (a problem called collinearity).</p>\n"
   ]
  },
  {
   "cell_type": "code",
   "execution_count": 77,
   "metadata": {},
   "outputs": [
    {
     "name": "stdout",
     "output_type": "stream",
     "text": [
      "-34.705255944524986\n"
     ]
    }
   ],
   "source": [
    "# Linear Regression\n",
    "from pandas import read_csv\n",
    "from sklearn.model_selection import KFold\n",
    "from sklearn.model_selection import cross_val_score\n",
    "from sklearn.linear_model import LinearRegression\n",
    "\n",
    "names = ['Index', 'CRIM', 'ZN', 'INDUS', 'CHAS', 'NOX', 'RM', 'AGE', 'DIS', 'RAD', 'TAX', 'PTRATIO',\n",
    "'B', 'LSTAT', 'MEDV']\n",
    "dataframe = read_csv('dataset/Boston-full.csv', names=names, header=0) \n",
    "dataframe = dataframe.drop(columns=['Index'], axis=1) # Eliminiamo l'index dal dataset in quanto inutile ai fini della classificazione\n",
    "array = dataframe.values # Converte la struttura del dataframe in una matrice\n",
    "X = array[:,0:13]\n",
    "Y = array[:,13]\n",
    "kfold = KFold(n_splits=10, random_state=7)\n",
    "\n",
    "model = LinearRegression()\n",
    "scoring = 'neg_mean_squared_error'\n",
    "results = cross_val_score(model, X, Y, cv=kfold, scoring=scoring)\n",
    "print(results.mean())"
   ]
  },
  {
   "cell_type": "markdown",
   "metadata": {},
   "source": [
    "<h4>6.3.1.2 Ridge Regression</h4>\n",
    "<p>Ridge regression is an extension of linear regression where the loss function is modified to minimize the complexity of the model measured as the sum squared value of the coefficient values (also called the L2-norm).</p>"
   ]
  },
  {
   "cell_type": "code",
   "execution_count": 79,
   "metadata": {},
   "outputs": [
    {
     "name": "stdout",
     "output_type": "stream",
     "text": [
      "-34.07824620925932\n"
     ]
    }
   ],
   "source": [
    "# Ridge Regression\n",
    "from pandas import read_csv\n",
    "from sklearn.model_selection import KFold\n",
    "from sklearn.model_selection import cross_val_score\n",
    "from sklearn.linear_model import Ridge\n",
    "\n",
    "kfold = KFold(n_splits=10, random_state=7)\n",
    "model = Ridge()\n",
    "scoring = 'neg_mean_squared_error'\n",
    "results = cross_val_score(model, X, Y, cv=kfold, scoring=scoring)\n",
    "print(results.mean())"
   ]
  },
  {
   "cell_type": "markdown",
   "metadata": {},
   "source": [
    "<h4>6.3.1.3 LASSO Regression</h4>\n",
    "<p>The Least Absolute Shrinkage and Selection Operator (or LASSO for short) is a modification of linear regression, like ridge regression, where the loss function is modified to minimize the complexity of the model measured as the sum absolute value of the coefficient values (also called the L1-norm).</p>"
   ]
  },
  {
   "cell_type": "code",
   "execution_count": 80,
   "metadata": {},
   "outputs": [
    {
     "name": "stdout",
     "output_type": "stream",
     "text": [
      "-34.464084588302306\n"
     ]
    }
   ],
   "source": [
    "# Lasso Regression\n",
    "from pandas import read_csv\n",
    "from sklearn.model_selection import KFold\n",
    "from sklearn.model_selection import cross_val_score\n",
    "from sklearn.linear_model import Lasso\n",
    "\n",
    "kfold = KFold(n_splits=10, random_state=7)\n",
    "model = Lasso()\n",
    "scoring = 'neg_mean_squared_error'\n",
    "results = cross_val_score(model, X, Y, cv=kfold, scoring=scoring)\n",
    "print(results.mean())"
   ]
  },
  {
   "cell_type": "markdown",
   "metadata": {},
   "source": [
    "<h4>6.3.1.4 ElasticNet Regressionn</h4>\n",
    "<p>ElasticNet is a form of regularization regression that combines the properties of both Ridge Regression and LASSO regression. It seeks to minimize the complexity of the regression model (magnitude and number of regression coefficients) by penalizing the model using both the L2-norm (sum squared coefficient values) and the L1-norm (sum absolute coefficient values).</p>"
   ]
  },
  {
   "cell_type": "code",
   "execution_count": 83,
   "metadata": {},
   "outputs": [
    {
     "name": "stdout",
     "output_type": "stream",
     "text": [
      "-31.16457371424976\n"
     ]
    }
   ],
   "source": [
    "# ElasticNet Regression\n",
    "from pandas import read_csv\n",
    "from sklearn.model_selection import KFold\n",
    "from sklearn.model_selection import cross_val_score\n",
    "from sklearn.linear_model import ElasticNet\n",
    "\n",
    "kfold = KFold(n_splits=10, random_state=7)\n",
    "model = ElasticNet()\n",
    "scoring = 'neg_mean_squared_error'\n",
    "results = cross_val_score(model, X, Y, cv=kfold, scoring=scoring)\n",
    "print(results.mean())"
   ]
  },
  {
   "cell_type": "markdown",
   "metadata": {},
   "source": [
    "<h3>6.3.2 Non Linear Machine Learning Algorithms</h3>\n",
    "<p>This section provides examples of how to use three different nonlinear machine learning algorithms for regression in Python with scikit-learn.</p>\n"
   ]
  },
  {
   "cell_type": "markdown",
   "metadata": {},
   "source": [
    "<h4>6.3.2.1 K-Nearest Neighbors</h4>\n",
    "<p>The k-Nearest Neighbors algorithm (or KNN) locates the k most similar instances in the training dataset for a new data instance. From the k neighbors, a mean or median output variable is taken as the prediction. Of note is the distance metric used (the metric argument).</p>\n",
    "<p>The Minkowski distance is used by default, which is a generalization of both the Euclidean distance (used when all inputs have the same scale) and Manhattan distance (for when the scales of the input variables differ).</p>"
   ]
  },
  {
   "cell_type": "code",
   "execution_count": 85,
   "metadata": {},
   "outputs": [
    {
     "name": "stdout",
     "output_type": "stream",
     "text": [
      "-107.28683898039215\n"
     ]
    }
   ],
   "source": [
    "# KNN Regression\n",
    "from pandas import read_csv\n",
    "from sklearn.model_selection import KFold\n",
    "from sklearn.model_selection import cross_val_score\n",
    "from sklearn.neighbors import KNeighborsRegressor\n",
    "\n",
    "kfold = KFold(n_splits=10, random_state=7)\n",
    "model = KNeighborsRegressor()\n",
    "scoring = 'neg_mean_squared_error'\n",
    "results = cross_val_score(model, X, Y, cv=kfold, scoring=scoring)\n",
    "print(results.mean())"
   ]
  },
  {
   "cell_type": "markdown",
   "metadata": {},
   "source": [
    "<h4>6.3.2.2 Classification and Regression Tree</h4>\n",
    "<p>Decision trees or the Classification and Regression Trees (CART as they are known) use the training data to select the best points to split the data in order to minimize a cost metric. The default cost metric for regression decision trees is the mean squared error, specified in the criterion parameter.</p>"
   ]
  },
  {
   "cell_type": "code",
   "execution_count": 90,
   "metadata": {},
   "outputs": [
    {
     "name": "stdout",
     "output_type": "stream",
     "text": [
      "-39.45716549019608\n"
     ]
    }
   ],
   "source": [
    "# Decision Tree Regression\n",
    "from pandas import read_csv\n",
    "from sklearn.model_selection import KFold\n",
    "from sklearn.model_selection import cross_val_score\n",
    "from sklearn.tree import DecisionTreeRegressor\n",
    "\n",
    "kfold = KFold(n_splits=10, random_state=7)\n",
    "model = DecisionTreeRegressor()\n",
    "scoring = 'neg_mean_squared_error'\n",
    "results = cross_val_score(model, X, Y, cv=kfold, scoring=scoring)\n",
    "print(results.mean())"
   ]
  },
  {
   "cell_type": "markdown",
   "metadata": {},
   "source": [
    "<h4>6.3.2.3 Support Vector Machines</h4>\n",
    "<p>Support Vector Machines (SVM) were developed for binary classification. The technique has been extended for the prediction real-valued problems called Support Vector Regression (SVR).</p>"
   ]
  },
  {
   "cell_type": "code",
   "execution_count": 91,
   "metadata": {},
   "outputs": [
    {
     "name": "stdout",
     "output_type": "stream",
     "text": [
      "-91.04782433324428\n"
     ]
    }
   ],
   "source": [
    "# SVM Regression\n",
    "from pandas import read_csv\n",
    "from sklearn.model_selection import KFold\n",
    "from sklearn.model_selection import cross_val_score\n",
    "from sklearn.svm import SVR\n",
    "\n",
    "kfold = KFold(n_splits=10, random_state=7)\n",
    "model = SVR()\n",
    "scoring = 'neg_mean_squared_error'\n",
    "results = cross_val_score(model, X, Y, cv=kfold, scoring=scoring)\n",
    "print(results.mean())"
   ]
  },
  {
   "cell_type": "markdown",
   "metadata": {},
   "source": [
    "<h1>7. Compare Machine Learning Algorithms</h1>\n",
    "<p>When we work on a machine learning project, we often end up with multiple good models to choose from.<br>It is important to compare the performance of multiple different machine learning algorithms consistently.</p>\n",
    "<p>We will see how:\n",
    "    <li>To formulate an experiment to directly compare machine learning algorithms.</li>\n",
    "    <li>To make a reusable template for evaluating the performance of multiple algorithms on one dataset.</li>\n",
    "    <li>To report and visualize the results when comparing algorithm performance.</li>\n",
    "</p>"
   ]
  },
  {
   "cell_type": "markdown",
   "metadata": {},
   "source": [
    "<h2>7.1 Formulating an Experiment</h2>\n",
    "<br>The key to a fair comparison of machine learning algorithms is ensuring that each algorithm is evaluated in the same way on the same data.\n",
    "<li>Use a resampling methods like cross validation, so we can get an estimate for how accurate each model may be on unseen data.</li>\n",
    "<li>Use a number of different ways of looking at the estimated accuracy of our machine learning algorithms (e.g.  average accuracy, variance and other properties of the distribution of model accuracies).</li>"
   ]
  },
  {
   "cell_type": "code",
   "execution_count": 98,
   "metadata": {},
   "outputs": [
    {
     "name": "stdout",
     "output_type": "stream",
     "text": [
      "name: LR results mean: 0.7695146958304853 results std: 0.04841051924567195\n",
      "name: LDA results mean: 0.773462064251538 results std: 0.05159180390446138\n",
      "name: KNN results mean: 0.7265550239234451 results std: 0.06182131406705549\n",
      "name: CART results mean: 0.705604921394395 results std: 0.06536131102456491\n",
      "name: NB results mean: 0.7551777170198223 results std: 0.04276593954064409\n",
      "name: SVM results mean: 0.6510252904989747 results std: 0.07214083485055327\n"
     ]
    },
    {
     "data": {
      "image/png": "[encoded data removed]",
      "text/plain": [
       "<Figure size 432x288 with 1 Axes>"
      ]
     },
     "metadata": {},
     "output_type": "display_data"
    }
   ],
   "source": [
    "# Compare Algorithms\n",
    "from pandas import read_csv\n",
    "from matplotlib import pyplot\n",
    "from sklearn.model_selection import KFold\n",
    "from sklearn.model_selection import cross_val_score\n",
    "from sklearn.linear_model import LogisticRegression\n",
    "from sklearn.tree import DecisionTreeClassifier\n",
    "from sklearn.neighbors import KNeighborsClassifier\n",
    "from sklearn.discriminant_analysis import LinearDiscriminantAnalysis\n",
    "from sklearn.naive_bayes import GaussianNB\n",
    "from sklearn.svm import SVC\n",
    "\n",
    "names = ['preg', 'plas', 'pres', 'skin', 'test', 'mass', 'pedi', 'age', 'class']\n",
    "dataframe = read_csv('dataset/pima-indians-diabetes.csv', names=names, header=0)\n",
    "array = dataframe.values\n",
    "X = array[:,0:8]\n",
    "Y = array[:,8]\n",
    "\n",
    "# prepare models\n",
    "models = []\n",
    "models.append(('LR', LogisticRegression()))\n",
    "models.append(('LDA', LinearDiscriminantAnalysis()))\n",
    "models.append(('KNN', KNeighborsClassifier()))\n",
    "models.append(('CART', DecisionTreeClassifier()))\n",
    "models.append(('NB', GaussianNB()))\n",
    "models.append(('SVM', SVC()))\n",
    "\n",
    "# evaluate each model in turn\n",
    "results = []\n",
    "names = []\n",
    "scoring = 'accuracy'\n",
    "for name, model in models:\n",
    "    kfold = KFold(n_splits=10, random_state=7)\n",
    "    cv_results = cross_val_score(model, X, Y, cv=kfold, scoring=scoring)\n",
    "    results.append(cv_results)\n",
    "    names.append(name)\n",
    "    print(\"name:\", name, \"results mean:\", cv_results.mean(), \"results std:\", cv_results.std())\n",
    "\n",
    "# boxplot algorithm comparison\n",
    "fig = pyplot.figure()\n",
    "fig.suptitle('Algorithm Comparison')\n",
    "ax = fig.add_subplot(111)\n",
    "pyplot.boxplot(results)\n",
    "ax.set_xticklabels(names)\n",
    "pyplot.show()"
   ]
  },
  {
   "cell_type": "markdown",
   "metadata": {},
   "source": [
    "<h2>7.2 Workflow with Pipelines</h2>\n",
    "<p>There are standard workflows in a machine learning project that can be automated. With Pipelines we can clearly define and automate these workflows, allowing to make a linear sequence of data transforms to be chained together culminating in a modeling process that can be evaluated.</p>\n",
    "<p>The goal is to ensure that all of the steps in the pipeline are constrained to the data available for the evaluation, such as the training dataset or each fold of the cross validation procedure.</p>\n",
    "We will see how:\n",
    "<li>How to use pipelines to minimize data leakage.</li>\n",
    "<li>How to construct a data preparation and modeling pipeline</li>\n",
    "<li>How to construct a feature extraction and modeling pipeline.</li>"
   ]
  },
  {
   "cell_type": "markdown",
   "metadata": {},
   "source": [
    "<h3>7.2.1 Data Preparation and Pipeline</h3>\n",
    "<p>An easy trap to fall into in applied machine learning is leaking data from our training dataset to our test dataset.</p>\n",
    "<p>To avoid this trap we need a robust test harness with strong separation of training and testing.<br>\n",
    "Data preparation is one easy way to leak knowledge of the whole training dataset to the algorithm.<br>\n",
    "For example, preparing our data using normalization or standardization on the entire training dataset before learning would not be a valid test because the training dataset would have been influenced by the scale of the data in the test set.</p>\n",
    "<p>Pipelines help you prevent data leakage in your test harness by ensuring that data preparation like standardization is constrained to each fold of your cross validation procedure.</p>\n",
    "<p>The pipeline is defined with two steps:\n",
    "    <ol>\n",
    "        <li>Standardize the data.</li>\n",
    "        <li>Learn a Linear Discriminant Analysis model.</li>\n",
    "    </ol>\n",
    "</p>\n"
   ]
  },
  {
   "cell_type": "code",
   "execution_count": 121,
   "metadata": {},
   "outputs": [
    {
     "name": "stdout",
     "output_type": "stream",
     "text": [
      "0.773462064251538\n"
     ]
    }
   ],
   "source": [
    "# Create a pipeline that standardizes the data then creates a model\n",
    "from pandas import read_csv\n",
    "from sklearn.model_selection import KFold\n",
    "from sklearn.model_selection import cross_val_score\n",
    "from sklearn.preprocessing import StandardScaler\n",
    "from sklearn.pipeline import Pipeline\n",
    "from sklearn.discriminant_analysis import LinearDiscriminantAnalysis\n",
    "\n",
    "# load data\n",
    "names = ['preg', 'plas', 'pres', 'skin', 'test', 'mass', 'pedi', 'age', 'class']\n",
    "dataframe = read_csv('dataset/pima-indians-diabetes.csv', names=names, header=0)\n",
    "array = dataframe.values\n",
    "X = array[:,0:8]\n",
    "Y = array[:,8]\n",
    "\n",
    "# create pipeline\n",
    "estimators = []\n",
    "estimators.append(('standardize', StandardScaler()))\n",
    "estimators.append(('lda', LinearDiscriminantAnalysis()))\n",
    "\n",
    "model = Pipeline(estimators)\n",
    "\n",
    "# evaluate pipeline\n",
    "kfold = KFold(n_splits=10, random_state=7)\n",
    "results = cross_val_score(model, X, Y, cv=kfold)\n",
    "print(results.mean()) # Stampa la media dei risultati delle varie kfold"
   ]
  },
  {
   "cell_type": "markdown",
   "metadata": {},
   "source": [
    "<h3>7.2.2 Feature Extraction and Modeling Pipeline</h3>\n",
    "<p>Feature extraction is another procedure that is susceptible to data leakage.<br>\n",
    "Like data preparation, feature extraction procedures must be restricted to the data in your training dataset. The pipeline provides a handy tool called the FeatureUnion which allows the results of multiple feature selection and extraction procedures to be combined into a larger dataset on which a model can be trained. Importantly, all the feature extraction and the feature union occurs within each fold of the cross validation procedure.</p>\n",
    "<p>The pipeline defined with four steps:\n",
    "<ol>\n",
    "    <li>Feature Extraction with Principal Component Analysis</li>\n",
    "    <li>Feature Extraction with Statistical Selection</li>\n",
    "    <li>Feature Union.</li>\n",
    "    <li>Learn a Logistic Regression Model.</li>\n",
    "</ol>\n",
    "</p>"
   ]
  },
  {
   "cell_type": "code",
   "execution_count": 123,
   "metadata": {},
   "outputs": [
    {
     "name": "stdout",
     "output_type": "stream",
     "text": [
      "0.7760423786739576\n"
     ]
    }
   ],
   "source": [
    "# Create a pipeline that extracts features from the data then creates a model\n",
    "from pandas import read_csv\n",
    "from sklearn.model_selection import KFold\n",
    "from sklearn.model_selection import cross_val_score\n",
    "from sklearn.pipeline import Pipeline\n",
    "from sklearn.pipeline import FeatureUnion\n",
    "from sklearn.linear_model import LogisticRegression\n",
    "from sklearn.decomposition import PCA\n",
    "from sklearn.feature_selection import SelectKBest\n",
    "\n",
    "# create feature union\n",
    "features = []\n",
    "features.append(('pca', PCA(n_components=3)))\n",
    "features.append(('select_best', SelectKBest(k=6)))\n",
    "feature_union = FeatureUnion(features)\n",
    "\n",
    "# create pipeline\n",
    "estimators = []\n",
    "estimators.append(('feature_union', feature_union))\n",
    "estimators.append(('logistic', LogisticRegression()))\n",
    "model = Pipeline(estimators)\n",
    "\n",
    "# evaluate pipeline\n",
    "kfold = KFold(n_splits=10, random_state=7)\n",
    "results = cross_val_score(model, X, Y, cv=kfold)\n",
    "print(results.mean())"
   ]
  },
  {
   "cell_type": "markdown",
   "metadata": {},
   "source": [
    "<h1>8. Improving Performance</h1>\n"
   ]
  },
  {
   "cell_type": "markdown",
   "metadata": {},
   "source": [
    "<h2>8.1 Ensamble</h2>\n",
    "<p>Ensembles can give us a boost in accuracy on our dataset.</p>\n",
    "<p>This lesson will step you through Boosting, Bagging and Majority Voting and show you how you can continue to ratchet up the accuracy of the models on your own datasets</p>\n",
    "<p>The three most popular methods for combining the predictions from different models are:</p>\n",
    "<ol>\n",
    "    <li>Bagging: Building multiple models (typically of the same type) from different subsamples of the training dataset.</li>\n",
    "<li>Boosting: Building multiple models (typically of the same type) each of which learns to fix the prediction errors of a prior model in the sequence of models.</li>\n",
    "<li>Voting: Building multiple models (typically of differing types) and simple statistics (like calculating the mean) are used to combine predictions.</li>\n",
    "</ol>"
   ]
  },
  {
   "cell_type": "markdown",
   "metadata": {},
   "source": [
    "<h3>8.1.1 Bagging Algorithms</h3>\n",
    "<p>Bootstrap Aggregation (or Bagging) involves taking multiple samples from your training dataset (with replacement) and training a model for each sample.</p>\n",
    "<p>The final output prediction is averaged across the predictions of all of the sub-models.</p>"
   ]
  },
  {
   "cell_type": "markdown",
   "metadata": {},
   "source": [
    "<h4>8.1.1.1 Bagged Decision Trees</h4>\n",
    "<p>Bagging performs best with algorithms that have high variance (a popular example are decision trees, often constructed without pruning).</p>\n",
    "<p>In the example below we will use the BaggingClassifier with the Classification and Regression Trees algorithm.</p>"
   ]
  },
  {
   "cell_type": "code",
   "execution_count": 126,
   "metadata": {},
   "outputs": [
    {
     "name": "stdout",
     "output_type": "stream",
     "text": [
      "0.770745044429255\n"
     ]
    }
   ],
   "source": [
    "# Bagged Decision Trees for Classification\n",
    "from pandas import read_csv\n",
    "from sklearn.model_selection import KFold\n",
    "from sklearn.model_selection import cross_val_score\n",
    "from sklearn.ensemble import BaggingClassifier\n",
    "from sklearn.tree import DecisionTreeClassifier\n",
    "\n",
    "names = ['preg', 'plas', 'pres', 'skin', 'test', 'mass', 'pedi', 'age', 'class']\n",
    "dataframe = read_csv('dataset/pima-indians-diabetes.csv', names=names, header=0)\n",
    "array = dataframe.values\n",
    "X = array[:,0:8]\n",
    "Y = array[:,8]\n",
    "\n",
    "kfold = KFold(n_splits=10, random_state=seed)\n",
    "cart = DecisionTreeClassifier()\n",
    "num_trees = 100\n",
    "model = BaggingClassifier(base_estimator=cart, n_estimators=num_trees, random_state=7)\n",
    "results = cross_val_score(model, X, Y, cv=kfold)\n",
    "print(results.mean())"
   ]
  },
  {
   "cell_type": "markdown",
   "metadata": {},
   "source": [
    "<h4>8.1.1.2 Random Forest</h4>\n",
    "<p>Random Forests is an extension of bagged decision trees.<br>\n",
    "Samples of the training dataset are taken with replacement, but the trees are constructed in a way that reduces the correlation between individual classifiers. Specifically, rather than greedily choosing the best split point in the construction of each tree, only a random subset of features are considered for each split.</p>"
   ]
  },
  {
   "cell_type": "code",
   "execution_count": 127,
   "metadata": {},
   "outputs": [
    {
     "name": "stdout",
     "output_type": "stream",
     "text": [
      "0.7642344497607655\n"
     ]
    }
   ],
   "source": [
    "# Random Forest Classification\n",
    "from pandas import read_csv\n",
    "from sklearn.model_selection import KFold\n",
    "from sklearn.model_selection import cross_val_score\n",
    "from sklearn.ensemble import RandomForestClassifier\n",
    "\n",
    "num_trees = 100\n",
    "kfold = KFold(n_splits=10, random_state=7)\n",
    "model = RandomForestClassifier(n_estimators=num_trees, max_features=3)\n",
    "results = cross_val_score(model, X, Y, cv=kfold)\n",
    "print(results.mean())"
   ]
  },
  {
   "cell_type": "markdown",
   "metadata": {},
   "source": [
    "<h4>8.1.1.3 Extra Trees</h4>\n",
    "<p>Extra Trees are another modification of bagging where random trees are constructed from samples of the training dataset.</p>"
   ]
  },
  {
   "cell_type": "code",
   "execution_count": 129,
   "metadata": {},
   "outputs": [
    {
     "name": "stdout",
     "output_type": "stream",
     "text": [
      "0.7733937115516063\n"
     ]
    }
   ],
   "source": [
    "# Extra Trees Classification\n",
    "from pandas import read_csv\n",
    "from sklearn.model_selection import KFold\n",
    "from sklearn.model_selection import cross_val_score\n",
    "from sklearn.ensemble import ExtraTreesClassifier\n",
    "\n",
    "num_trees = 100\n",
    "kfold = KFold(n_splits=10, random_state=7)\n",
    "model = ExtraTreesClassifier(n_estimators=num_trees, max_features=7)\n",
    "results = cross_val_score(model, X, Y, cv=kfold)\n",
    "print(results.mean())"
   ]
  },
  {
   "cell_type": "markdown",
   "metadata": {},
   "source": [
    "<h3>8.1.2 Boosting Algorithms</h3>\n",
    "<p>Boosting ensemble algorithms creates a sequence of models that attempt to correct the mistakes of the models before them in the sequence. Once created, the models make predictions which may be weighted by their demonstrated accuracy and the results are combined to create a final output prediction. \n",
    "<p>The two most common boosting ensemble machine learning algorithms are:</p>\n",
    "<ul>\n",
    "    <li>AdaBoost</li>\n",
    "    <li>Stochastic Gradient Boosting</li>"
   ]
  },
  {
   "cell_type": "markdown",
   "metadata": {},
   "source": [
    "<h4>8.1.2.1 AdaBoost</h4>\n",
    "<p>AdaBoost was perhaps the first successful boosting ensemble algorithm. It generally works by weighting instances in the dataset by how easy or difficult they are to classify, allowing the algorithm to pay or less attention to them in the construction of subsequent models.</p>"
   ]
  },
  {
   "cell_type": "code",
   "execution_count": 130,
   "metadata": {},
   "outputs": [
    {
     "name": "stdout",
     "output_type": "stream",
     "text": [
      "0.760457963089542\n"
     ]
    }
   ],
   "source": [
    "# AdaBoost Classification\n",
    "from pandas import read_csv\n",
    "from sklearn.model_selection import KFold\n",
    "from sklearn.model_selection import cross_val_score\n",
    "from sklearn.ensemble import AdaBoostClassifier\n",
    "\n",
    "num_trees = 30\n",
    "kfold = KFold(n_splits=10, random_state=7)\n",
    "model = AdaBoostClassifier(n_estimators=num_trees, random_state=7)\n",
    "results = cross_val_score(model, X, Y, cv=kfold)\n",
    "print(results.mean())"
   ]
  },
  {
   "cell_type": "markdown",
   "metadata": {},
   "source": [
    "<h4>8.1.2.2 Stochastic Gradient Boosting</h4>\n",
    "<p>Stochastic Gradient Boosting (also called Gradient Boosting Machines) are one of the most sophisticated ensemble techniques. It is also a technique that is proving to be perhaps one of the best techniques available for improving performance via ensembles.</p>"
   ]
  },
  {
   "cell_type": "code",
   "execution_count": 141,
   "metadata": {},
   "outputs": [
    {
     "name": "stdout",
     "output_type": "stream",
     "text": [
      "0.7669002050580999\n"
     ]
    }
   ],
   "source": [
    "# Stochastic Gradient Boosting Classification\n",
    "from pandas import read_csv\n",
    "from sklearn.model_selection import KFold\n",
    "from sklearn.model_selection import cross_val_score\n",
    "from sklearn.ensemble import GradientBoostingClassifier\n",
    "\n",
    "num_trees = 100\n",
    "kfold = KFold(n_splits=10, random_state=seed)\n",
    "model = GradientBoostingClassifier(n_estimators=num_trees, random_state=7)\n",
    "results = cross_val_score(model, X, Y, cv=kfold)\n",
    "print(results.mean())"
   ]
  },
  {
   "cell_type": "markdown",
   "metadata": {},
   "source": [
    "<h3>8.1.3 Voting Ensamble</h3>\n",
    "<p>Voting is one of the simplest ways of combining the predictions from multiple machine learning algorithms. It works by first creating two or more standalone models from your training dataset.</p>\n",
    "<p>A voting Classifier can then be used to wrap your models and average the predictions of the sub-models when asked to make predictions for new data.</p>\n",
    "<p>The predictions of the sub-models can be weighted, but specifying the weights for classifiers manually or even heuristically is difficult.</p>"
   ]
  },
  {
   "cell_type": "code",
   "execution_count": 139,
   "metadata": {},
   "outputs": [
    {
     "name": "stdout",
     "output_type": "stream",
     "text": [
      "0.7708304853041694\n"
     ]
    },
    {
     "name": "stderr",
     "output_type": "stream",
     "text": [
      "/Users/yukina/anaconda3/lib/python3.6/site-packages/sklearn/preprocessing/label.py:151: DeprecationWarning: The truth value of an empty array is ambiguous. Returning False, but in future this will result in an error. Use `array.size > 0` to check that an array is not empty.\n",
      "  if diff:\n",
      "/Users/yukina/anaconda3/lib/python3.6/site-packages/sklearn/preprocessing/label.py:151: DeprecationWarning: The truth value of an empty array is ambiguous. Returning False, but in future this will result in an error. Use `array.size > 0` to check that an array is not empty.\n",
      "  if diff:\n",
      "/Users/yukina/anaconda3/lib/python3.6/site-packages/sklearn/preprocessing/label.py:151: DeprecationWarning: The truth value of an empty array is ambiguous. Returning False, but in future this will result in an error. Use `array.size > 0` to check that an array is not empty.\n",
      "  if diff:\n",
      "/Users/yukina/anaconda3/lib/python3.6/site-packages/sklearn/preprocessing/label.py:151: DeprecationWarning: The truth value of an empty array is ambiguous. Returning False, but in future this will result in an error. Use `array.size > 0` to check that an array is not empty.\n",
      "  if diff:\n",
      "/Users/yukina/anaconda3/lib/python3.6/site-packages/sklearn/preprocessing/label.py:151: DeprecationWarning: The truth value of an empty array is ambiguous. Returning False, but in future this will result in an error. Use `array.size > 0` to check that an array is not empty.\n",
      "  if diff:\n",
      "/Users/yukina/anaconda3/lib/python3.6/site-packages/sklearn/preprocessing/label.py:151: DeprecationWarning: The truth value of an empty array is ambiguous. Returning False, but in future this will result in an error. Use `array.size > 0` to check that an array is not empty.\n",
      "  if diff:\n",
      "/Users/yukina/anaconda3/lib/python3.6/site-packages/sklearn/preprocessing/label.py:151: DeprecationWarning: The truth value of an empty array is ambiguous. Returning False, but in future this will result in an error. Use `array.size > 0` to check that an array is not empty.\n",
      "  if diff:\n",
      "/Users/yukina/anaconda3/lib/python3.6/site-packages/sklearn/preprocessing/label.py:151: DeprecationWarning: The truth value of an empty array is ambiguous. Returning False, but in future this will result in an error. Use `array.size > 0` to check that an array is not empty.\n",
      "  if diff:\n",
      "/Users/yukina/anaconda3/lib/python3.6/site-packages/sklearn/preprocessing/label.py:151: DeprecationWarning: The truth value of an empty array is ambiguous. Returning False, but in future this will result in an error. Use `array.size > 0` to check that an array is not empty.\n",
      "  if diff:\n",
      "/Users/yukina/anaconda3/lib/python3.6/site-packages/sklearn/preprocessing/label.py:151: DeprecationWarning: The truth value of an empty array is ambiguous. Returning False, but in future this will result in an error. Use `array.size > 0` to check that an array is not empty.\n",
      "  if diff:\n"
     ]
    }
   ],
   "source": [
    "# Voting Ensemble for Classification\n",
    "from pandas import read_csv\n",
    "from sklearn.model_selection import KFold\n",
    "from sklearn.model_selection import cross_val_score\n",
    "from sklearn.linear_model import LogisticRegression\n",
    "from sklearn.naive_bayes import GaussianNB\n",
    "from sklearn.discriminant_analysis import LinearDiscriminantAnalysis\n",
    "from sklearn.ensemble import VotingClassifier\n",
    "\n",
    "kfold = KFold(n_splits=10, random_state=7)\n",
    "# create the sub models\n",
    "estimators = []\n",
    "estimators.append(('logistic', LogisticRegression()))\n",
    "estimators.append(('cart', LinearDiscriminantAnalysis()))\n",
    "estimators.append(('nb', GaussianNB()))\n",
    "\n",
    "# create the ensemble model\n",
    "ensemble = VotingClassifier(estimators)\n",
    "results = cross_val_score(ensemble, X, Y, cv=kfold)\n",
    "print(results.mean())"
   ]
  },
  {
   "cell_type": "markdown",
   "metadata": {},
   "source": [
    "<h2>8.2 Improve Performance with Algorithm Tuning</h2>\n",
    "<p>Machine learning models are parameterized so that their behavior can be tuned for a given problem.</p>\n",
    "<p>Models can have many parameters and finding the best combination of parameters can be treated as a search problem.</p>\n",
    "<p>There are three main strategies:</p>\n",
    "<ul>\n",
    "    <li>How to use a grid search algorithm tuning strategy</li>\n",
    "    <li>How to use a random search algorithm tuning strategy.</li>\n",
    "</ul>"
   ]
  },
  {
   "cell_type": "markdown",
   "metadata": {},
   "source": [
    "<h3>8.2.1 Grid Search Parameter Tuning</h3>\n",
    "<p>Grid search is an approach to parameter tuning that will methodically build and evaluate a model for each combination of algorithm parameters specified in a grid.</p>"
   ]
  },
  {
   "cell_type": "code",
   "execution_count": 142,
   "metadata": {},
   "outputs": [
    {
     "name": "stdout",
     "output_type": "stream",
     "text": [
      "0.2796175593129722\n",
      "1.0\n"
     ]
    }
   ],
   "source": [
    "# Grid Search for Algorithm Tuning\n",
    "import numpy\n",
    "from pandas import read_csv\n",
    "from sklearn.linear_model import Ridge\n",
    "from sklearn.model_selection import GridSearchCV\n",
    "\n",
    "alphas = numpy.array([1,0.1,0.01,0.001,0.0001,0])\n",
    "param_grid = dict(alpha=alphas)\n",
    "model = Ridge()\n",
    "grid = GridSearchCV(estimator=model, param_grid=param_grid)\n",
    "grid.fit(X, Y)\n",
    "print(grid.best_score_)\n",
    "print(grid.best_estimator_.alpha)"
   ]
  },
  {
   "cell_type": "markdown",
   "metadata": {},
   "source": [
    "<h3>8.2.2 Random Search Parameter Tuning</h3>\n",
    "<p>Random search is an approach to parameter tuning that will sample algorithm parameters from a random distribution (i.e. uniform) for a fixed number of iterations.</p>\n",
    "<p>A model is constructed and evaluated for each combination of parameters chosen. A total of 100 iterations are performed with uniformly random alpha values selected in the range between 0 and 1 (the range that alpha values can take).</p>"
   ]
  },
  {
   "cell_type": "code",
   "execution_count": 143,
   "metadata": {},
   "outputs": [
    {
     "name": "stdout",
     "output_type": "stream",
     "text": [
      "0.27961712703051095\n",
      "0.9779895119966027\n"
     ]
    }
   ],
   "source": [
    "# Randomized for Algorithm Tuning\n",
    "import numpy\n",
    "from pandas import read_csv\n",
    "from scipy.stats import uniform\n",
    "from sklearn.linear_model import Ridge\n",
    "from sklearn.model_selection import RandomizedSearchCV\n",
    "\n",
    "param_grid = {'alpha': uniform()}\n",
    "model = Ridge()\n",
    "rsearch = RandomizedSearchCV(estimator=model, param_distributions=param_grid, n_iter=100, random_state=7)\n",
    "rsearch.fit(X, Y)\n",
    "print(rsearch.best_score_)\n",
    "print(rsearch.best_estimator_.alpha)"
   ]
  },
  {
   "cell_type": "markdown",
   "metadata": {},
   "source": [
    "<h1>9. Save and Load Machine Learning Models</h1>\n",
    "<p>Saving and load our machine learning model in Python using scikit-learn allows us to save your model to file and load it later in order to make predictions.</p>\n",
    "<p>There are two main methods to do it:</p>\n",
    "<ul>\n",
    "    <li>Pickle</li>\n",
    "    <li>Joblib</li>\n",
    "</ul>"
   ]
  },
  {
   "cell_type": "markdown",
   "metadata": {},
   "source": [
    "<h2>9.1 Pickle</h2>\n",
    "<p>Pickle is the standard way of serializing objects in Python.</p>\n",
    "<p>We can use it to serialize our machine learning algorithms and save the serialized format to a file. Later we can load this file to deserialize our model and use it to make new predictions.</p>"
   ]
  },
  {
   "cell_type": "code",
   "execution_count": 145,
   "metadata": {},
   "outputs": [
    {
     "name": "stdout",
     "output_type": "stream",
     "text": [
      "0.7559055118110236\n"
     ]
    }
   ],
   "source": [
    "# Save Model Using Pickle\n",
    "from pandas import read_csv\n",
    "from sklearn.model_selection import train_test_split\n",
    "from sklearn.linear_model import LogisticRegression\n",
    "from pickle import dump\n",
    "from pickle import load\n",
    "\n",
    "X_train, X_test, Y_train, Y_test = train_test_split(X, Y, test_size=0.33, random_state=7)\n",
    "# Fit the model on 33%\n",
    "model = LogisticRegression()\n",
    "model.fit(X_train, Y_train)\n",
    "\n",
    "# save the model to disk\n",
    "filename = 'finalized_model.txt'\n",
    "dump(model, open(filename, 'wb'))\n",
    "\n",
    "# some time later...\n",
    "\n",
    "# load the model from disk\n",
    "loaded_model = load(open(filename, 'rb'))\n",
    "result = loaded_model.score(X_test, Y_test)\n",
    "print(result)"
   ]
  },
  {
   "cell_type": "markdown",
   "metadata": {},
   "source": [
    "<h2>9.2 Joblib</h2>\n",
    "<p>The Joblib library is part of the SciPy ecosystem and provides utilities for pipelining Python jobs.</p>\n",
    "<p>It provides utilities for saving and loading Python objects that make use of NumPy data structures, efficiently. This can be useful for some machine learning algorithms that require a lot of parameters or store the entire dataset (e.g. k-Nearest Neighbors).</p>"
   ]
  },
  {
   "cell_type": "code",
   "execution_count": 148,
   "metadata": {},
   "outputs": [
    {
     "name": "stdout",
     "output_type": "stream",
     "text": [
      "0.7559055118110236\n"
     ]
    }
   ],
   "source": [
    "# Save Model Using joblib\n",
    "from pandas import read_csv\n",
    "from sklearn.model_selection import train_test_split\n",
    "from sklearn.linear_model import LogisticRegression\n",
    "from sklearn.externals.joblib import dump\n",
    "from sklearn.externals.joblib import load\n",
    "\n",
    "X_train, X_test, Y_train, Y_test = train_test_split(X, Y, test_size=0.33, random_state=7) # Fit the model on 33%\n",
    "model = LogisticRegression()\n",
    "model.fit(X_train, Y_train)\n",
    "\n",
    "# save the model to disk\n",
    "filename = 'finalized_model.sav'\n",
    "dump(model, filename)\n",
    "\n",
    "# some time later...\n",
    "\n",
    "# load the model from disk\n",
    "loaded_model = load(filename)\n",
    "result = loaded_model.score(X_test, Y_test)\n",
    "print(result)"
   ]
  },
  {
   "cell_type": "markdown",
   "metadata": {},
   "source": [
    "<h2>9.3 Some Tips..</h2>\n",
    "<p>When finalizing our machine learning models, taking a note of version of what are we using allow us to re-create the environment if for some reason we cannot reload your model on another machine or another platform at a later time.</p>\n",
    "\n",
    "In particular:\n",
    "<ul>\n",
    "    <li>Take a note of python version</li>\n",
    "    <li>Take a note of library version</li>\n",
    "    <li>Manual Serialization: we might like to manually output the parameters of our learned model so that we can use them directly in scikit-learn or another platform in the future. Often the techniques used internally by machine learning algorithms to make predictions are a lot simpler than those used to learn the parameters can may be easy to implement in custom code that you have control over.</li>\n",
    "</ul>"
   ]
  },
  {
   "cell_type": "code",
   "execution_count": null,
   "metadata": {},
   "outputs": [],
   "source": []
  }
 ],
 "metadata": {
  "kernelspec": {
   "display_name": "Python 3",
   "language": "python",
   "name": "python3"
  },
  "language_info": {
   "codemirror_mode": {
    "name": "ipython",
    "version": 3
   },
   "file_extension": ".py",
   "mimetype": "text/x-python",
   "name": "python",
   "nbconvert_exporter": "python",
   "pygments_lexer": "ipython3",
   "version": "3.7.4"
  },
  "toc": {
   "base_numbering": 1,
   "nav_menu": {},
   "number_sections": true,
   "sideBar": true,
   "skip_h1_title": false,
   "title_cell": "Table of Contents",
   "title_sidebar": "Contents",
   "toc_cell": false,
   "toc_position": {},
   "toc_section_display": true,
   "toc_window_display": false
  }
 },
 "nbformat": 4,
 "nbformat_minor": 2
}
